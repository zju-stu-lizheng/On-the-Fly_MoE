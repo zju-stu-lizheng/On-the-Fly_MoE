{
 "cells": [
  {
   "cell_type": "markdown",
   "metadata": {},
   "source": [
    "## PD结合的思路"
   ]
  },
  {
   "cell_type": "markdown",
   "metadata": {},
   "source": [
    "### 分别替换gate/up层"
   ]
  },
  {
   "cell_type": "markdown",
   "metadata": {},
   "source": [
    "先输入一句话，按照70%稀疏去记录prefill阶段激活的神经元，最后统计这个输入prompt对应的最高激活次数的70%的神经元。"
   ]
  },
  {
   "cell_type": "code",
   "execution_count": 1,
   "metadata": {},
   "outputs": [
    {
     "data": {
      "application/vnd.jupyter.widget-view+json": {
       "model_id": "5b395c15d3454f0bbdf7fcc68062ca12",
       "version_major": 2,
       "version_minor": 0
      },
      "text/plain": [
       "Loading checkpoint shards:   0%|          | 0/4 [00:00<?, ?it/s]"
      ]
     },
     "metadata": {},
     "output_type": "display_data"
    },
    {
     "name": "stderr",
     "output_type": "stream",
     "text": [
      "Special tokens have been added in the vocabulary, make sure the associated word embeddings are fine-tuned or trained.\n"
     ]
    }
   ],
   "source": [
    "import os\n",
    "import json\n",
    "import torch\n",
    "from transformers import LlamaForCausalLM, AutoTokenizer\n",
    "from transformers import GenerationConfig\n",
    "from datasets import load_dataset\n",
    "\n",
    "os.environ[\"CUDA_VISIBLE_DEVICES\"] = \"1\"\n",
    "\n",
    "### from path.json read paths of model and dataset\n",
    "model_name = \"Llama3-8b\"\n",
    "dataset_name = \"c4\"\n",
    "with open('path.json', 'r') as file:\n",
    "    paths = json.load(file)\n",
    "    model_path = paths.get(model_name, '')\n",
    "    dataset_path = paths.get(dataset_name, '')\n",
    "\n",
    "c4 = load_dataset(dataset_path)\n",
    "model = LlamaForCausalLM.from_pretrained(\n",
    "    model_path,\n",
    "    device_map='auto',\n",
    "    use_cache=True,\n",
    "    torch_dtype=torch.float16,\n",
    ")\n",
    "tokenizer = AutoTokenizer.from_pretrained(model_path)\n",
    "tokenizer.pad_token = tokenizer.eos_token\n",
    "tokenizer.padding_side = \"left\""
   ]
  },
  {
   "cell_type": "code",
   "execution_count": 4,
   "metadata": {},
   "outputs": [
    {
     "name": "stdout",
     "output_type": "stream",
     "text": [
      "alpha: 0.2, gamma: 0.3, beta: 0.1\n"
     ]
    },
    {
     "name": "stderr",
     "output_type": "stream",
     "text": [
      "Convert Llama Models: 432it [00:00, 10135.59it/s]"
     ]
    },
    {
     "name": "stdout",
     "output_type": "stream",
     "text": [
      "Converted Model Done\n"
     ]
    },
    {
     "name": "stderr",
     "output_type": "stream",
     "text": [
      "\n",
      "  0%|          | 0/2000 [00:00<?, ?it/s]"
     ]
    },
    {
     "name": "stdout",
     "output_type": "stream",
     "text": [
      "The woman who died after falling from a bridge over the A21 has been identified as a Sevenoaks mum.\n",
      "Marta Kendle, 37, fell from the Gracious Lane bridge on the morning of February 19.\n",
      "Police were called to the carriageway around 6.10am and the road was promptly closed in both directions.\n",
      "Despite paramedics best efforts, Marta, who was originally from Poland, was pronounced dead at the scene.\n",
      "Kent and Medway Coroners office have confirmed an inquest into her death will open on Wednesday (February 27).\n",
      "Tributes to the mum were left at the scene and on social media.\n",
      "Friend, Jodi Cahill posted on Facebook: \"I will certainly remember you. I am sorry we did not see how lost and alone you felt.\n",
      "\"Be at peace dear Marta.\"\n",
      "A floral tribute left at the scene said goodbye to the \"beautiful and kind soul\".\n",
      "It read: \"To a beautiful and kind soul, we are sorry we didn&apos;t see your pain. We will miss you always.\n",
      "\"Rest in peace Marta, Love from Lorraine, Colin and family.\"\n",
      "The inquest will take place at the Archbishop&apos;s Palace in Maidstone and will examine the circumstances surrounding Mrs Kendle&apos;s death.\n",
      "Are you struggling or know someone who is? Watch our video below to find out how the Samaritans could help.\n",
      "Mrs Kendle&apos;s death prompted the setting up of a petition calling\n"
     ]
    },
    {
     "name": "stderr",
     "output_type": "stream",
     "text": [
      "  0%|          | 2/2000 [00:01<19:47,  1.68it/s]"
     ]
    },
    {
     "name": "stdout",
     "output_type": "stream",
     "text": [
      "The woman who died after falling from a bridge over the A21 has been identified as a Sevenoaks mum.\n",
      "Marta Kendle, 37, fell from the Gracious Lane bridge on the morning of February 19.\n",
      "Police were called to the carriageway around 6.10am and the road was promptly closed in both directions.\n",
      "Despite paramedics best efforts, Marta, who was originally from Poland, was pronounced dead at the scene.\n",
      "Kent and Medway Coroners office have confirmed an inquest into her death will open on Wednesday (February 27).\n",
      "Tributes to the mum were left at the scene and on social media.\n",
      "Friend, Jodi Cahill posted on Facebook: \"I will certainly remember you. I am sorry we did not see how lost and alone you felt.\n",
      "\"Be at peace dear Marta.\"\n",
      "A floral tribute left at the scene said goodbye to the \"beautiful and kind soul\".\n",
      "It read: \"To a beautiful and kind soul, we are sorry we didn&apos;t see your pain. We will miss you always.\n",
      "\"Rest in peace Marta, Love from Lorraine, Colin and family.\"\n",
      "The inquest will take place at the Archbishop&apos;s Palace in Maidstone and will examine the circumstances surrounding Mrs Kendle&apos;s death.\n",
      "Are you struggling or know someone who is? Watch our video below to find out how the Samaritans could help.\n",
      "Mrs Kendle&apos;s death prompted the setting up of a petition calling for\n",
      "messaging system designed as a plugin-based system.\n",
      "Doubtless the kopete people would disagree with me here, but I'd say that their project was utterly redundant. What advantages does kopete bring that could not have been submitted to gaim itself? Why go to the time and effort to independently develop two programs which do virtually the same thing?\n",
      "Now there are other, significant differences. Gaim uses the GTK+ toolkit. Kopete uses Qt. Gaim is primarily C, Kopete is C++. In fact Kopete is fairly tightly bounded to KDE, whereas I think Gaim is not so quite involved with Gnome.\n",
      "So we can reduce this redundancy problem to the problem of two desktops, if it is a problem. I'm not sure it is, after all competition is good and drives development. Is it that much of a problem that some coders have spent time and effort re-inventing the wheel anyway?\n",
      "Well I think it is a problem, unless you are heavily camped in either desktop. I'm not. When I develop a GUI application, I have to make a decision about which environment suits me best. I know there's more to it than that - Gnome has all that other stuff like Glib and KDE isn't just QT - but the GUI is a major consideration.\n",
      "So if I opt for (say) GTK+, will some QT zealot prefer to code an alternative to using my version?\n",
      "I run a mixture of Gnome and KDE\n",
      "messaging system designed as a plugin-based system.\n",
      "Doubtless the kopete people would disagree with me here, but I'd say that their project was utterly redundant. What advantages does kopete bring that could not have been submitted to gaim itself? Why go to the time and effort to independently develop two programs which do virtually the same thing?\n",
      "Now there are other, significant differences. Gaim uses the GTK+ toolkit. Kopete uses Qt. Gaim is primarily C, Kopete is C++. In fact Kopete is fairly tightly bounded to KDE, whereas I think Gaim is not so quite involved with Gnome.\n",
      "So we can reduce this redundancy problem to the problem of two desktops, if it is a problem. I'm not sure it is, after all competition is good and drives development. Is it that much of a problem that some coders have spent time and effort re-inventing the wheel anyway?\n",
      "Well I think it is a problem, unless you are heavily camped in either desktop. I'm not. When I develop a GUI application, I have to make a decision about which environment suits me best. I know there's more to it than that - Gnome has all that other stuff like Glib and KDE isn't just QT - but the GUI is a major consideration.\n",
      "So if I opt for (say) GTK+, will some QT zealot prefer to code an alternative to using my version?\n",
      "I run a mixture of Gnome and KDE on\n",
      "CHARLES H. MEISNER, one of the prosperous and highly-esteemed business men of Birnamwood, Shawano county, was born in Newton township, Manitowoc Co., Wis., February 14, 1860, and is a son of Frederick and Magarette (Steltzer) Meisner, both natives of Germany.\n",
      "Frederick Meisner was born February 5, 1825, in Mechlenburg, Germany, and after the death of his father he, with his mother and the rest of the family, came to America in 1849, settling in Manitowoc county. Here the mother lived to the good old age, dying in 1888. The parental family comprised six children, namely John, Frederick, Joseph, Dora, Josephine and Mary. The mother of our subject was born in Bavaria about the year 1832. Her mother died in Germany, and about 1850 she came to America with her father and her three brothers; John, William and Nicholas—and three sisters—Mary, Cathrena and Lena. Her father was a farmer by occupation. Frederick Meisner had six children of whom Charles H., Frederick J. and Henry are living; William died when four years old; John when an infant, and a daughter, Bertha, when nine months old. This worthy couple at present reside on a farm purchased by Mr. Meisner some thirty-seven years ago, and\n"
     ]
    },
    {
     "name": "stderr",
     "output_type": "stream",
     "text": [
      "  0%|          | 10/2000 [00:01<02:45, 12.01it/s]"
     ]
    },
    {
     "name": "stdout",
     "output_type": "stream",
     "text": [
      "CHARLES H. MEISNER, one of the prosperous and highly-esteemed business men of Birnamwood, Shawano county, was born in Newton township, Manitowoc Co., Wis., February 14, 1860, and is a son of Frederick and Magarette (Steltzer) Meisner, both natives of Germany.\n",
      "Frederick Meisner was born February 5, 1825, in Mechlenburg, Germany, and after the death of his father he, with his mother and the rest of the family, came to America in 1849, settling in Manitowoc county. Here the mother lived to the good old age, dying in 1888. The parental family comprised six children, namely John, Frederick, Joseph, Dora, Josephine and Mary. The mother of our subject was born in Bavaria about the year 1832. Her mother died in Germany, and about 1850 she came to America with her father and her three brothers; John, William and Nicholas—and three sisters—Mary, Cathrena and Lena. Her father was a farmer by occupation. Frederick Meisner had six children of whom Charles H., Frederick J. and Henry are living; William died when four years old; John when an infant, and a daughter, Bertha, when nine months old. This worthy couple at present reside on a farm purchased by Mr. Meisner some thirty-seven years ago, and which\n",
      "Stretch Therapy (ST) is a comprehensive system that includes stretching, fascia remodelling, strengthening, neural re-patterning, and relaxation. We can hep you ease tension and pain,help prevent injuries, increase your range of movement and adjust any imbalances.\n",
      "Our stretch therapy (AIS technique) allows the body to repair itself and also to prepare for daily activity. The AIS technique involves the method of holding each stretch for only two seconds. This method of stretching is also known to work with the body’s natural physiological makeup to improve circulation and increase the elasticity of muscle joins and fascia. The AIS method of muscle lengthening and fascial release is a type of Athletic Stretching Technique that provides effective, dynamic, facilitated stretching of major muscle groups, but more importantly, AIS provides functional and physiological restoration of superficial and deep fascial planes.\n",
      "AIS is important for injury prevention recovery, as well as performance enhancement.\n",
      "AIS is something that everyone can benefit from. One of the many things that makes AIS superior in dealing with flexibility problems is that it has no age and very few contraindication limits. It can be used by the very young and by the most senior of senior citizens.\n",
      "Other than typical sport massage techniques like deep tissue manipulation, pressure points, joint mobility etc.\n",
      "This modification allowing a combination of stretching techniques.\n",
      "This stretches provide maximum benefits with out opposing tension or resulting trauma.\n",
      "This brief stretch allows the targeted muscle to lengthen without triggering the stretch reflex that contracts\n",
      "Stretch Therapy (ST) is a comprehensive system that includes stretching, fascia remodelling, strengthening, neural re-patterning, and relaxation. We can hep you ease tension and pain,help prevent injuries, increase your range of movement and adjust any imbalances.\n",
      "Our stretch therapy (AIS technique) allows the body to repair itself and also to prepare for daily activity. The AIS technique involves the method of holding each stretch for only two seconds. This method of stretching is also known to work with the body’s natural physiological makeup to improve circulation and increase the elasticity of muscle joins and fascia. The AIS method of muscle lengthening and fascial release is a type of Athletic Stretching Technique that provides effective, dynamic, facilitated stretching of major muscle groups, but more importantly, AIS provides functional and physiological restoration of superficial and deep fascial planes.\n",
      "AIS is important for injury prevention recovery, as well as performance enhancement.\n",
      "AIS is something that everyone can benefit from. One of the many things that makes AIS superior in dealing with flexibility problems is that it has no age and very few contraindication limits. It can be used by the very young and by the most senior of senior citizens.\n",
      "Other than typical sport massage techniques like deep tissue manipulation, pressure points, joint mobility etc.\n",
      "This modification allowing a combination of stretching techniques.\n",
      "This stretches provide maximum benefits with out opposing tension or resulting trauma.\n",
      "This brief stretch allows the targeted muscle to lengthen without triggering the stretch reflex that contracts the\n",
      "The sport of Bocce Ball is alive and well in Holliston.\n",
      "\"Throwing balls toward a target is the oldest game known to mankind. As early as 5000 B.C. the Egyptians played a form of Bocce with polished rocks. Graphic representations of figures tossing a ball or polished stone have been recorded as early as 5200 B.C. While Bocce today looks quite different from its early predecessors, the unbroken thread of Bocce’s lineage is the consistently common objective of trying to come as close to a fixed target as possible.\n",
      "From this early objective, the basic rules of Bocce were born. From Egypt, the game made its way to Greece around 800 B.C. The Romans learned the game from the Greeks, and then introduced it throughout the empire. The Roman influence in bocce is preserved in the game’s name; bocce derives from the Vulgate Latin bottia, meaning boss.\n",
      "The early Romans were among the first to play a game resembling what we know as Bocce today. In early times they used coconuts brought back from Africa and later used hard olive wood to carve out Bocce balls. Beginning with Emperor Augustus, Bocce became the sport of statesman and rulers. From the early Greek physician Hippocrates to the great Italian Renaissance man Galileo, the early participants of Bocce have noted that the game’s athleticism and spirit of competition rejuvenates the body.\n",
      "In \n",
      "The sport of Bocce Ball is alive and well in Holliston.\n",
      "\"Throwing balls toward a target is the oldest game known to mankind. As early as 5000 B.C. the Egyptians played a form of Bocce with polished rocks. Graphic representations of figures tossing a ball or polished stone have been recorded as early as 5200 B.C. While Bocce today looks quite different from its early predecessors, the unbroken thread of Bocce’s lineage is the consistently common objective of trying to come as close to a fixed target as possible.\n",
      "From this early objective, the basic rules of Bocce were born. From Egypt, the game made its way to Greece around 800 B.C. The Romans learned the game from the Greeks, and then introduced it throughout the empire. The Roman influence in bocce is preserved in the game’s name; bocce derives from the Vulgate Latin bottia, meaning boss.\n",
      "The early Romans were among the first to play a game resembling what we know as Bocce today. In early times they used coconuts brought back from Africa and later used hard olive wood to carve out Bocce balls. Beginning with Emperor Augustus, Bocce became the sport of statesman and rulers. From the early Greek physician Hippocrates to the great Italian Renaissance man Galileo, the early participants of Bocce have noted that the game’s athleticism and spirit of competition rejuvenates the body.\n",
      "In 188\n",
      "A month ago, India had commissioned world’s first 100 percent solar-powered airport in Cochin. Recently, India’s greenest airport terminal at Chandigarh international airport in Mohali was inaugurated by Prime Minister Narendra Modi.\n",
      "Built by Larsen and Toubro (L&T), the terminal, spread over 53,000 square meters, is designed in accordance with concept of green building. The terminal sets a new benchmark in sustainability by incorporating various green technologies.\n",
      "The terminal is constructed using over 55 lakh fly ash bricks and features cavity walls, double insulated roofing, energy efficient chillers, and a sensor-based plumbing system to save water. Such an extensive use of fly ash in construction of large structure is highly commendable.\n",
      "The terminal has achieved a 4-star GRIHA (Green Rating for Integrated Habitat Assessment) rating.\n",
      "Unlike other terminals, this does not have huge displays that run on artificial light and consume huge amount of electricity. Absence of displays has helped in cutting down maintenance costs and running expenditures.\n",
      "The terminal does not require artificial lighting during day time owing to a transparent façade. Used glass on the façade is low-heat gain glass, which means it will automatically reduce the need for installing and spending on air conditioners.\n",
      "A lawn laid out right inside the terminal delivers a refreshing treat for passengers.\n",
      "The available air conditioners are equipped with sensors that can detect body heat for automatic activation. Rest of the time, the ACs remain in sleep mode to save\n",
      "A month ago, India had commissioned world’s first 100 percent solar-powered airport in Cochin. Recently, India’s greenest airport terminal at Chandigarh international airport in Mohali was inaugurated by Prime Minister Narendra Modi.\n",
      "Built by Larsen and Toubro (L&T), the terminal, spread over 53,000 square meters, is designed in accordance with concept of green building. The terminal sets a new benchmark in sustainability by incorporating various green technologies.\n",
      "The terminal is constructed using over 55 lakh fly ash bricks and features cavity walls, double insulated roofing, energy efficient chillers, and a sensor-based plumbing system to save water. Such an extensive use of fly ash in construction of large structure is highly commendable.\n",
      "The terminal has achieved a 4-star GRIHA (Green Rating for Integrated Habitat Assessment) rating.\n",
      "Unlike other terminals, this does not have huge displays that run on artificial light and consume huge amount of electricity. Absence of displays has helped in cutting down maintenance costs and running expenditures.\n",
      "The terminal does not require artificial lighting during day time owing to a transparent façade. Used glass on the façade is low-heat gain glass, which means it will automatically reduce the need for installing and spending on air conditioners.\n",
      "A lawn laid out right inside the terminal delivers a refreshing treat for passengers.\n",
      "The available air conditioners are equipped with sensors that can detect body heat for automatic activation. Rest of the time, the ACs remain in sleep mode to save energy\n",
      "Stately palm trees reach to the blue sky.\n",
      "The city of Split, and majestic mountains, far off in the distance.\n",
      "Looking up from Trogir’s network of little streets.\n",
      "Cheery lemons await picking, or just admirers.\n",
      "A tiny church, off in the distance.\n",
      "Silhouette of Kairos (the god of the fleeting moment), modeled after a 3rd-century bas-relief found in the town.\n",
      "These are beautiful. Lucky you!\n",
      "Lucky indeed, Caitlin. When we walk out among the buildings adorned with coats of arms, strolling the city’s labyrinthine lanes, I have to pinch myself that I’ve been in such a special city for over a month. The friendly people here make Trogir all the more wonderful.\n",
      "Jen, I agree with you that perpetually sunny skies can get a bit overwhelming. I felt the same way this past fall, visiting sunny Nevada. Sometimes I just yearned for a rain cloud or two. I suppose the “grass is always greener.” I liked your line that once again the “blue skies hold magic” for you.\n",
      "Some great looking up shots, Tricia. Love the one between the houses, with the lamp in, and that cat shot is wonderful.\n",
      "Thanks, Jo! We do a lot of looking up here because a lot of the fun details are hidden up there.\n",
      "Tricia I so loved your blue skies today. It has been the usual 300 days of rain followed by a\n"
     ]
    },
    {
     "name": "stderr",
     "output_type": "stream",
     "text": [
      "  1%|          | 17/2000 [00:02<02:25, 13.65it/s]"
     ]
    },
    {
     "name": "stdout",
     "output_type": "stream",
     "text": [
      "Stately palm trees reach to the blue sky.\n",
      "The city of Split, and majestic mountains, far off in the distance.\n",
      "Looking up from Trogir’s network of little streets.\n",
      "Cheery lemons await picking, or just admirers.\n",
      "A tiny church, off in the distance.\n",
      "Silhouette of Kairos (the god of the fleeting moment), modeled after a 3rd-century bas-relief found in the town.\n",
      "These are beautiful. Lucky you!\n",
      "Lucky indeed, Caitlin. When we walk out among the buildings adorned with coats of arms, strolling the city’s labyrinthine lanes, I have to pinch myself that I’ve been in such a special city for over a month. The friendly people here make Trogir all the more wonderful.\n",
      "Jen, I agree with you that perpetually sunny skies can get a bit overwhelming. I felt the same way this past fall, visiting sunny Nevada. Sometimes I just yearned for a rain cloud or two. I suppose the “grass is always greener.” I liked your line that once again the “blue skies hold magic” for you.\n",
      "Some great looking up shots, Tricia. Love the one between the houses, with the lamp in, and that cat shot is wonderful.\n",
      "Thanks, Jo! We do a lot of looking up here because a lot of the fun details are hidden up there.\n",
      "Tricia I so loved your blue skies today. It has been the usual 300 days of rain followed by a few\n",
      "Congratulations, this is no B.S. free zone!\n",
      "Visual artists are visual thinkers! So we made anatomy books for artists. They don't want to read magnificent, but boring anatomy textbooks, stuffed with medical level information.\n",
      "Instead, the author made a book with clear images, that contain only the necessary information needed, to create a realistic human form.\n",
      "Most pictures in the book are self-explanatory. The text part of this book is only about 2%.\n",
      "The concept of this book came from co-author Uldis Zarins, classically trained sculptor, with 20 years of sculpting experience, looking for good visual anatomy book for his students, that would help to explain the forms of the human figure. After years of fruitless searching, Uldis decided to roll up his sleeves and take one for the team. So, he embarked on an epic quest to create a book for solid anatomical reference for any aspiring artist.\n",
      "The book contains images of various examples of different postures, such as a twisted torso, the movement of arms etc. This means you don't have to guess anymore how each muscle will look from any angle.\n",
      "\"A secret weapon\" to making a realistic human form.\n",
      "What sets apart good classical artists from others? Major factors are the skills and practice of course, but good live model makes a huge difference! If you have a good reference, you won’t need a live model anymore. Be inspired, and don’t waste your precious time on the\n",
      "Congratulations, this is no B.S. free zone!\n",
      "Visual artists are visual thinkers! So we made anatomy books for artists. They don't want to read magnificent, but boring anatomy textbooks, stuffed with medical level information.\n",
      "Instead, the author made a book with clear images, that contain only the necessary information needed, to create a realistic human form.\n",
      "Most pictures in the book are self-explanatory. The text part of this book is only about 2%.\n",
      "The concept of this book came from co-author Uldis Zarins, classically trained sculptor, with 20 years of sculpting experience, looking for good visual anatomy book for his students, that would help to explain the forms of the human figure. After years of fruitless searching, Uldis decided to roll up his sleeves and take one for the team. So, he embarked on an epic quest to create a book for solid anatomical reference for any aspiring artist.\n",
      "The book contains images of various examples of different postures, such as a twisted torso, the movement of arms etc. This means you don't have to guess anymore how each muscle will look from any angle.\n",
      "\"A secret weapon\" to making a realistic human form.\n",
      "What sets apart good classical artists from others? Major factors are the skills and practice of course, but good live model makes a huge difference! If you have a good reference, you won’t need a live model anymore. Be inspired, and don’t waste your precious time on the search\n",
      "You can rely on Sure Betbuilder S to present the very best service when it comes to Builder in Mc Leansville, NC. You'll need the most sophisticated technologies around, and our workforce of skilled experts will give you just that. Our materials are always of the very best quality and we are able to save cash. We can help you to come up with decisions for your job, answer all your questions, and organize a meeting with our professionals whenever you contact us by dialing 888-459-0005.\n",
      "Why's Us The Best ?\n",
      "Sure Betbuilder S concentrates on customer satisfaction to guarantee that you are happy with our labor. We discover your objectives and project standards, and we're going to strive to make certain you approve of our results. We understand all of your concerns, and we are ready to help. If you contact us today, we will answer your questions and concerns, and we will actually resolve the important questions which you did not think to ask. You should put together the best decisions for your own work, and we know how to help you to do that.\n",
      "At Sure Betbuilder S, we know that you'll want to stay within your financial budget and lower your costs wherever you're able to. In the process, you need the absolute best and finest standard of work for Builder in Mc Leansville, NC. Our attempts to save you money won't give up the quality of our services. Our intent is to be sure you acquire the right supplies and\n"
     ]
    },
    {
     "name": "stderr",
     "output_type": "stream",
     "text": [
      "  1%|          | 20/2000 [00:02<02:32, 13.03it/s]"
     ]
    },
    {
     "name": "stdout",
     "output_type": "stream",
     "text": [
      "You can rely on Sure Betbuilder S to present the very best service when it comes to Builder in Mc Leansville, NC. You'll need the most sophisticated technologies around, and our workforce of skilled experts will give you just that. Our materials are always of the very best quality and we are able to save cash. We can help you to come up with decisions for your job, answer all your questions, and organize a meeting with our professionals whenever you contact us by dialing 888-459-0005.\n",
      "Why's Us The Best ?\n",
      "Sure Betbuilder S concentrates on customer satisfaction to guarantee that you are happy with our labor. We discover your objectives and project standards, and we're going to strive to make certain you approve of our results. We understand all of your concerns, and we are ready to help. If you contact us today, we will answer your questions and concerns, and we will actually resolve the important questions which you did not think to ask. You should put together the best decisions for your own work, and we know how to help you to do that.\n",
      "At Sure Betbuilder S, we know that you'll want to stay within your financial budget and lower your costs wherever you're able to. In the process, you need the absolute best and finest standard of work for Builder in Mc Leansville, NC. Our attempts to save you money won't give up the quality of our services. Our intent is to be sure you acquire the right supplies and a\n",
      "The more times your children go under general anesthesia but it's not. This will be the 3rd time one of my children gets to experience this. It's really not that big of a deal, but I just feel bad there is nothing I can do to help, watching them wheel them away on the bed screaming, and then bringing them back asleep and waiting for them to wake up, which is never a pleasant thing if you have never experienced that.\n",
      "Unfortunately unlike Lucy he has had an infection that has been with him for a month, no antibiotic has cured it, not only that but the puss and fluid have not drained. So they will make an incision to let it drain before they put in the tubes the bad part is it's very painful, so the doctors tell me. Luckily Talmadge is a tough little boy, most of the time during his ear infections (9 since November) he never really cried, or woke up a lot at night, the only indication I ever has was a fever and loss of appetite. So hopefully he will not be to miserable when it's over.\n",
      "Oh! How not fun! It never DOES get easier to see your kids cry because they are scared or hurt. But at least he won't remember it, and it will help him out a ton in the long (and sounds like short) run.\n",
      "Poor little guy! I can not even imagine what he must feel like. I hope it goes well and solves all the problems!\n",
      "\n",
      "The more times your children go under general anesthesia but it's not. This will be the 3rd time one of my children gets to experience this. It's really not that big of a deal, but I just feel bad there is nothing I can do to help, watching them wheel them away on the bed screaming, and then bringing them back asleep and waiting for them to wake up, which is never a pleasant thing if you have never experienced that.\n",
      "Unfortunately unlike Lucy he has had an infection that has been with him for a month, no antibiotic has cured it, not only that but the puss and fluid have not drained. So they will make an incision to let it drain before they put in the tubes the bad part is it's very painful, so the doctors tell me. Luckily Talmadge is a tough little boy, most of the time during his ear infections (9 since November) he never really cried, or woke up a lot at night, the only indication I ever has was a fever and loss of appetite. So hopefully he will not be to miserable when it's over.\n",
      "Oh! How not fun! It never DOES get easier to see your kids cry because they are scared or hurt. But at least he won't remember it, and it will help him out a ton in the long (and sounds like short) run.\n",
      "Poor little guy! I can not even imagine what he must feel like. I hope it goes well and solves all the problems!\n",
      "I\n",
      "Drinking is sometimes very fascinating especially as you hang out with friends; it is a fun and provides the feeling of well being. However, the odor of alcohol is annoying for the family and co-workers around you at the workplace especially if you are Smelling like alcohol the next day. Drinking alcohol results in a strong odor around you and as soon as you realize it, you will try to get rid of its smell. Also the alcoholic breath is highly unpleasant for the people around you. In this article we will learn some How to get rid of alcohol breath home remedies?\n",
      "2 How to Get Rid of Alcohol Odor Naturally?\n",
      "The strong smell of alcohol is always one of the serious concerns of the drinkers. Also in the life time, some people drink heavily and they are unaware of the unpleasant smell of alcohol around them. As the alcohol addicts realize that they have strong odor in their breath and body, they need to find some ways to get rid of this unpleasant smell especially as they go to their workplaces. How long does alcohol breath last? It depends on the hygiene measures you are taking afterwards. There are some natural and effective ways to get rid of this annoying smell. Now you can drink without any worries of alcoholic odor.\n",
      "How to Get Rid of Alcohol Odor Naturally?\n",
      "How to get rid of alcohol smell instantly? One of the most easiest and effective remedy to kill the bad odor of alcohol is to eat some other foods after drinking. A packet of chips, fries, some salads, nach\n"
     ]
    },
    {
     "name": "stderr",
     "output_type": "stream",
     "text": [
      "  1%|          | 24/2000 [00:02<02:21, 13.99it/s]"
     ]
    },
    {
     "name": "stdout",
     "output_type": "stream",
     "text": [
      "Drinking is sometimes very fascinating especially as you hang out with friends; it is a fun and provides the feeling of well being. However, the odor of alcohol is annoying for the family and co-workers around you at the workplace especially if you are Smelling like alcohol the next day. Drinking alcohol results in a strong odor around you and as soon as you realize it, you will try to get rid of its smell. Also the alcoholic breath is highly unpleasant for the people around you. In this article we will learn some How to get rid of alcohol breath home remedies?\n",
      "2 How to Get Rid of Alcohol Odor Naturally?\n",
      "The strong smell of alcohol is always one of the serious concerns of the drinkers. Also in the life time, some people drink heavily and they are unaware of the unpleasant smell of alcohol around them. As the alcohol addicts realize that they have strong odor in their breath and body, they need to find some ways to get rid of this unpleasant smell especially as they go to their workplaces. How long does alcohol breath last? It depends on the hygiene measures you are taking afterwards. There are some natural and effective ways to get rid of this annoying smell. Now you can drink without any worries of alcoholic odor.\n",
      "How to Get Rid of Alcohol Odor Naturally?\n",
      "How to get rid of alcohol smell instantly? One of the most easiest and effective remedy to kill the bad odor of alcohol is to eat some other foods after drinking. A packet of chips, fries, some salads, nachos\n",
      "Today we are delighted to introduce you to FarmGirlRosePetals, a three-generation family farm based in Oregon, growing gorgeous flowers and freeze drying the petals for eco-friendly celebrations!\n",
      "How long have you been preserving flowers with freeze drying? When and where did the floriculture life begin for you?\n",
      "I started in 1988 in California… another business with my Mom & Sister. We were buying our flowers from local growers in Watsonville & also importing from South America. We wanted to find a piece of land and begin growing our own flowers so we would have 100% control over the quality of our products. That began our search which lasted for several years until we found our beautiful land.\n",
      "What (or who) inspired you to raise flowers and learn to preserve the petals?\n",
      "My grandparents always had an incredible garden. I remember when I was a very young girl just how special it was to go through the white arch of the picket fence into the back gardens and what a special occasion it always was to have access to their gardens and to be there with them… gardening, harvesting flowers & the sweetest raspberries. My parents both loved gardening as well. The raising of flowers and the preservation of the petals came much later once we found our slice of paradise with our land here in Rainbow Valley, Oregon. Our property sits on the mighty South Umpqua River which is how we responsibly irrigate all of our flower fields using a drip irrigation system. This way, each crop receives the\n",
      "Today we are delighted to introduce you to FarmGirlRosePetals, a three-generation family farm based in Oregon, growing gorgeous flowers and freeze drying the petals for eco-friendly celebrations!\n",
      "How long have you been preserving flowers with freeze drying? When and where did the floriculture life begin for you?\n",
      "I started in 1988 in California… another business with my Mom & Sister. We were buying our flowers from local growers in Watsonville & also importing from South America. We wanted to find a piece of land and begin growing our own flowers so we would have 100% control over the quality of our products. That began our search which lasted for several years until we found our beautiful land.\n",
      "What (or who) inspired you to raise flowers and learn to preserve the petals?\n",
      "My grandparents always had an incredible garden. I remember when I was a very young girl just how special it was to go through the white arch of the picket fence into the back gardens and what a special occasion it always was to have access to their gardens and to be there with them… gardening, harvesting flowers & the sweetest raspberries. My parents both loved gardening as well. The raising of flowers and the preservation of the petals came much later once we found our slice of paradise with our land here in Rainbow Valley, Oregon. Our property sits on the mighty South Umpqua River which is how we responsibly irrigate all of our flower fields using a drip irrigation system. This way, each crop receives the exact\n",
      "Thymoquinone protects DRG neurons from axotomy-induced cell death.\n",
      "OBJECTIVE: Peripheral nerve injury (PNI) is a significant health problem that is linked to sensory, motor, and autonomic deficits. This pathological condition leads to a reduced quality of life in most affected individuals. Schwann cells (SCs) play a crucial role in the repair of PNI. Effective agents that promote SC activation may facilitate and accelerate peripheral nerve repair. Thymoquinone (TQ), a bioactive component of Nigella sativa seeds, has an antioxidant, anti-inflammatory, immunomodulatory, and neuroprotective properties. In the present study, the neuroprotective efficacy of TQ was investigated by using a laser microdissection technique in a mouse PNI model.\n",
      "METHODS: Single cells were isolated from dorsal root ganglions (DRGs) of 6-8-week-old mice, maintained in defined culture conditions and treated with or without TQ at different concentrations. Axons were cut (axotomy) using a controllable laser microbeam to model axonal injury in vitro. Under fluorescence microscopy, cell viability was evaluated using the fluorescent dyes. The behavior of the cells was continuously monitored with time-lapse video microscopy.\n",
      "RESULTS: TQ significantly increased neuronal survival by promoting the survival and proliferation of SCs and fibroblasts, as well as the migration of SCs. Furthermore, TQ improved the ability to extend neurites of ax\n"
     ]
    },
    {
     "name": "stderr",
     "output_type": "stream",
     "text": [
      "  2%|▏         | 30/2000 [00:02<01:46, 18.56it/s]"
     ]
    },
    {
     "name": "stdout",
     "output_type": "stream",
     "text": [
      "Thymoquinone protects DRG neurons from axotomy-induced cell death.\n",
      "OBJECTIVE: Peripheral nerve injury (PNI) is a significant health problem that is linked to sensory, motor, and autonomic deficits. This pathological condition leads to a reduced quality of life in most affected individuals. Schwann cells (SCs) play a crucial role in the repair of PNI. Effective agents that promote SC activation may facilitate and accelerate peripheral nerve repair. Thymoquinone (TQ), a bioactive component of Nigella sativa seeds, has an antioxidant, anti-inflammatory, immunomodulatory, and neuroprotective properties. In the present study, the neuroprotective efficacy of TQ was investigated by using a laser microdissection technique in a mouse PNI model.\n",
      "METHODS: Single cells were isolated from dorsal root ganglions (DRGs) of 6-8-week-old mice, maintained in defined culture conditions and treated with or without TQ at different concentrations. Axons were cut (axotomy) using a controllable laser microbeam to model axonal injury in vitro. Under fluorescence microscopy, cell viability was evaluated using the fluorescent dyes. The behavior of the cells was continuously monitored with time-lapse video microscopy.\n",
      "RESULTS: TQ significantly increased neuronal survival by promoting the survival and proliferation of SCs and fibroblasts, as well as the migration of SCs. Furthermore, TQ improved the ability to extend neurites of axot\n",
      "Consider replacing the flapper and inspect the inside of the tank to see if there is any build-up preventing a proper seal. Also inspect the lift wire/guide to see if it is bent, corroded or catching on something, preventing the flapper from closing properly.\n",
      "The float arm needs to be adjusted so that the water level is 2\" below the top of the overflow pipe. The float arm may need to be repositioned to obtain the desired water level. If it is a plastic float arm, adjust the screw located at the top of the arm. Also make sure the refill tube is located about 1/4\" over the overflow pipe. If necessary, clip the tube to the overflow pipe to stabilize it and keep it from moving into the overflow pipe.\n",
      "Consider replacing or repairing the service line to prevent larger loss of water. A professional service may need to be contacted for completing this task.\n",
      "At this point, try to determine where the water is going inside the home.\n",
      "Finally, if all of the above tests show no evidence of leaked water, check the appliances that cycle. Water softeners can cause an increase in usage, so check the settings to make sure it is not cycling more often than necessary and monitor its full cycle to make sure it is operating properly. Also check outside spigots and hydrants to make sure they are not dripping, especially when connected to a sprinkler, soaker hose, or irrigation system. Take note of the times when extra water\n",
      "Consider replacing the flapper and inspect the inside of the tank to see if there is any build-up preventing a proper seal. Also inspect the lift wire/guide to see if it is bent, corroded or catching on something, preventing the flapper from closing properly.\n",
      "The float arm needs to be adjusted so that the water level is 2\" below the top of the overflow pipe. The float arm may need to be repositioned to obtain the desired water level. If it is a plastic float arm, adjust the screw located at the top of the arm. Also make sure the refill tube is located about 1/4\" over the overflow pipe. If necessary, clip the tube to the overflow pipe to stabilize it and keep it from moving into the overflow pipe.\n",
      "Consider replacing or repairing the service line to prevent larger loss of water. A professional service may need to be contacted for completing this task.\n",
      "At this point, try to determine where the water is going inside the home.\n",
      "Finally, if all of the above tests show no evidence of leaked water, check the appliances that cycle. Water softeners can cause an increase in usage, so check the settings to make sure it is not cycling more often than necessary and monitor its full cycle to make sure it is operating properly. Also check outside spigots and hydrants to make sure they are not dripping, especially when connected to a sprinkler, soaker hose, or irrigation system. Take note of the times when extra water is\n",
      "Who am I? What's this all About?\n",
      "You could say I grew up traveling, when I was young I lived in Lagos, Nigeria with my family. Over the years I spent there we traveled to some of the countries you see highlighted in green. During these travels I saw the pyramids of Egypt, I summited Mt. Kilimanjaro, skied in the alps, learned how to scuba dive in Mauritius, and so much more. I was very lucky in this respect, but living in West Africa exposed me to some stark realities. I quickly came to understand that the world is a harsh place to most people. The struggle for survival is something real and a part of most peoples' everyday lives.\n",
      "It wasn't until later, that I decided to travel again. This time on my own. At the age of twenty, fed up with the mundane routine of my life, I decided to take some time off school and head south. From my home in Colorado I traveled to Belize, Guatemala, and El Salvador. I was interested in environmental science, ecology, and societies different from my own and this area of the world beaconed me.\n",
      "I fell in love with the culture, the people, fellow travelers and the Spanish language. I spent just a few months down there, but I left with a promise to return. After just a couple years I graduated with a degree from Colorado State University, and I fulfilled that promise. It's now been over three years\n"
     ]
    },
    {
     "name": "stderr",
     "output_type": "stream",
     "text": [
      "  2%|▏         | 37/2000 [00:03<01:29, 21.93it/s]"
     ]
    },
    {
     "name": "stdout",
     "output_type": "stream",
     "text": [
      "Who am I? What's this all About?\n",
      "You could say I grew up traveling, when I was young I lived in Lagos, Nigeria with my family. Over the years I spent there we traveled to some of the countries you see highlighted in green. During these travels I saw the pyramids of Egypt, I summited Mt. Kilimanjaro, skied in the alps, learned how to scuba dive in Mauritius, and so much more. I was very lucky in this respect, but living in West Africa exposed me to some stark realities. I quickly came to understand that the world is a harsh place to most people. The struggle for survival is something real and a part of most peoples' everyday lives.\n",
      "It wasn't until later, that I decided to travel again. This time on my own. At the age of twenty, fed up with the mundane routine of my life, I decided to take some time off school and head south. From my home in Colorado I traveled to Belize, Guatemala, and El Salvador. I was interested in environmental science, ecology, and societies different from my own and this area of the world beaconed me.\n",
      "I fell in love with the culture, the people, fellow travelers and the Spanish language. I spent just a few months down there, but I left with a promise to return. After just a couple years I graduated with a degree from Colorado State University, and I fulfilled that promise. It's now been over three years since\n",
      "A PROCEDURE assessed by NICE (National Institute for Health and Care Excellence) and used in research led by the University of Birmingham has been hailed as an exciting development in increasing the number of livers which can be safely used for transplantation.\n",
      "Liver transplantation is a highly successful treatment for end-stage liver disease, which kills 11,000 people a year in England. Deaths from liver disease have soared by 25 per cent in a decade and continue to rise, while the average age of death from liver disease (currently 50-59 years) continues to decrease.\n",
      "Today NICE has issued final guidance which recommends the procedure — ex-vivo machine perfusion for extracorporeal preservation of livers for transplantation — is used under special arrangements as more data is gathered into its efficacy.\n",
      "NICE’s independent advisory committee did not identify any major safety concerns.\n",
      "NHS England and commissioners will decide whether they fund the procedure. However research is already taking place at centres around the UK including studies by experts from the University of Birmingham’s Centre for Liver and Gastrointestinal Research in the Institute of Immunology and Immunotherapy, University Hospitals Birmingham NHS Foundation Trust’s Queen Elizabeth Hospital Birmingham, and the National Institute for Health Research (NIHR) Birmingham Biomedical Research Centre.\n",
      "University of Birmingham Honorary Professor Darius Mirza, Consultant Transplant Surgeon at University Hospitals Birmingham NHS Foundation Trust, said: “In the 30 years I’ve been involved with transplantation there have been three or four events which have\n",
      "A PROCEDURE assessed by NICE (National Institute for Health and Care Excellence) and used in research led by the University of Birmingham has been hailed as an exciting development in increasing the number of livers which can be safely used for transplantation.\n",
      "Liver transplantation is a highly successful treatment for end-stage liver disease, which kills 11,000 people a year in England. Deaths from liver disease have soared by 25 per cent in a decade and continue to rise, while the average age of death from liver disease (currently 50-59 years) continues to decrease.\n",
      "Today NICE has issued final guidance which recommends the procedure — ex-vivo machine perfusion for extracorporeal preservation of livers for transplantation — is used under special arrangements as more data is gathered into its efficacy.\n",
      "NICE’s independent advisory committee did not identify any major safety concerns.\n",
      "NHS England and commissioners will decide whether they fund the procedure. However research is already taking place at centres around the UK including studies by experts from the University of Birmingham’s Centre for Liver and Gastrointestinal Research in the Institute of Immunology and Immunotherapy, University Hospitals Birmingham NHS Foundation Trust’s Queen Elizabeth Hospital Birmingham, and the National Institute for Health Research (NIHR) Birmingham Biomedical Research Centre.\n",
      "University of Birmingham Honorary Professor Darius Mirza, Consultant Transplant Surgeon at University Hospitals Birmingham NHS Foundation Trust, said: “In the 30 years I’ve been involved with transplantation there have been three or four events which have changed\n",
      "Born 1952; Education: Elmira College, B.A.; attended School of Visual Arts, and New School for Social Research.\n",
      "Offıce—375 South End Ave., #12T, New York, NY 10280.\n",
      "Writer and illustrator. Dial Press, New York, NY, worked as a design assistant and secretary for two years; owner of freelance illustration business, 1980—.\n",
      "Lawrence Weinberg, What Is This For?, Little Simon (New York, NY), 1982.\n",
      "Lawrence Weinberg, The ABC's, Little Simon (New York, NY), 1982.\n",
      "The City Mouse and the Country Mouse, Grosset & Dunlap (New York, NY), 1985.\n",
      "The Night before Christmas, Ideals Publishing (Nashville, TN), 1988.\n",
      "Lyn Sandow, My First Tool Books, Warner (New York, NY), 1988.\n",
      "Stephanie St. Pierre, Mystery in the Woods, Marvel (New York, NY), 1988.\n",
      "Sharon Gordon, Home for a Puppy, Troll (Mahwah, NJ), 1988.\n",
      "Joanne Barkan, My First Kitchen Gadget Books, six volumes, Warner (New York, NY), 1989.\n",
      "What a Teddy Bear Needs, Ladybird Books (London, England), 1989.\n",
      "Joanne Barkan, My First Garden Tools, three volumes, Warner (New York, NY), 1990\n"
     ]
    },
    {
     "name": "stderr",
     "output_type": "stream",
     "text": [
      "  2%|▏         | 40/2000 [00:03<01:52, 17.47it/s]"
     ]
    },
    {
     "name": "stdout",
     "output_type": "stream",
     "text": [
      "Born 1952; Education: Elmira College, B.A.; attended School of Visual Arts, and New School for Social Research.\n",
      "Offıce—375 South End Ave., #12T, New York, NY 10280.\n",
      "Writer and illustrator. Dial Press, New York, NY, worked as a design assistant and secretary for two years; owner of freelance illustration business, 1980—.\n",
      "Lawrence Weinberg, What Is This For?, Little Simon (New York, NY), 1982.\n",
      "Lawrence Weinberg, The ABC's, Little Simon (New York, NY), 1982.\n",
      "The City Mouse and the Country Mouse, Grosset & Dunlap (New York, NY), 1985.\n",
      "The Night before Christmas, Ideals Publishing (Nashville, TN), 1988.\n",
      "Lyn Sandow, My First Tool Books, Warner (New York, NY), 1988.\n",
      "Stephanie St. Pierre, Mystery in the Woods, Marvel (New York, NY), 1988.\n",
      "Sharon Gordon, Home for a Puppy, Troll (Mahwah, NJ), 1988.\n",
      "Joanne Barkan, My First Kitchen Gadget Books, six volumes, Warner (New York, NY), 1989.\n",
      "What a Teddy Bear Needs, Ladybird Books (London, England), 1989.\n",
      "Joanne Barkan, My First Garden Tools, three volumes, Warner (New York, NY), 1990.\n",
      "\n",
      "Cluster comprises IBM's Opteron-based eServer 325 server and systems management software and storage devices that can run Linux and Windows operating systems.\n",
      "IBM on Tuesday announced a prepackaged and pretested cluster that is powered by Advanced Micro Devices Inc.s 64-bit Opteron processor.\n",
      "IBM, of Armonk, N.Y., is combining its Opteron-based eServer 325 server—which targets scientific and technical computing users—with systems management software and storage devices to offer a bundled package that can run Linux and Windows operating systems.\n",
      "The new offering, which will be available later this month or in early December, is part of IBMs eServer Cluster 1350, which also includes bundles based on the companys BladeCenter blade servers and two-processor x335 and x345 systems using Intel Corp.s 32-bit Xeon chips.\n",
      "Clusters comprise multiple servers tied together to create a supercomputing environment for users. In a related move, IBM last week announced that it was teaming with Corning Inc., the U.S. Department of Energy and the National Nuclear Security Administration to develop high-speed, optically switched interconnects for supercomputers. The $20 million, two-and-a-half-year project is aimed at increasing network bandwidth by 50 times while at the same time cutting the costs of supercomputers.\n",
      "IBMs 325 systems, powered by 2GHz Opterons, give users a chance to run both their 32-bit and 64-bit applications on a single\n",
      "Cluster comprises IBM's Opteron-based eServer 325 server and systems management software and storage devices that can run Linux and Windows operating systems.\n",
      "IBM on Tuesday announced a prepackaged and pretested cluster that is powered by Advanced Micro Devices Inc.s 64-bit Opteron processor.\n",
      "IBM, of Armonk, N.Y., is combining its Opteron-based eServer 325 server—which targets scientific and technical computing users—with systems management software and storage devices to offer a bundled package that can run Linux and Windows operating systems.\n",
      "The new offering, which will be available later this month or in early December, is part of IBMs eServer Cluster 1350, which also includes bundles based on the companys BladeCenter blade servers and two-processor x335 and x345 systems using Intel Corp.s 32-bit Xeon chips.\n",
      "Clusters comprise multiple servers tied together to create a supercomputing environment for users. In a related move, IBM last week announced that it was teaming with Corning Inc., the U.S. Department of Energy and the National Nuclear Security Administration to develop high-speed, optically switched interconnects for supercomputers. The $20 million, two-and-a-half-year project is aimed at increasing network bandwidth by 50 times while at the same time cutting the costs of supercomputers.\n",
      "IBMs 325 systems, powered by 2GHz Opterons, give users a chance to run both their 32-bit and 64-bit applications on a single system\n",
      "Marketers are employed in the public sector as well as the private sector.\n",
      "Most people think of marketing as a strictly private sector activity, but the reality is people with sales and marketing backgrounds are hired by government agencies in a number of capacities. Government agencies at the local, state and federal level all employ marketing professionals in areas including, but not limited to, public relations, property disposal, bond sales and purchasing.\n",
      "Almost all major government agencies have their own public-relations staff, and in many cases it is a stand-alone department with a public relations or media director and several support staff. Government agency PR departments are responsible for producing news releases, holding press conferences, and generally promoting activities of the agency, such as tourism or encouraging new businesses to move into the area.\n",
      "Government agencies are constantly buying supplies, equipment and other property and selling off old equipment and property. The departments tasked with disposing of this government property often hire individuals with a background in marketing. Their job is to assist the agency in coming up with creative ways to sell or otherwise dispose of obsolete government property.\n",
      "Most government agencies have to follow complicated regulations for purchasing supplies and equipment. In many cases, agencies can only buy from certain suppliers or can only buy goods within specific price ranges. Agencies often hire purchasing agents with marketing backgrounds to help them manage their purchases, including setting criteria for suppliers and establishing price ranges. Government purchasing agents must be very familiar with current purchasing regulations at their agency.\n",
      "Local, state and federal agencies sometimes sell bonds to finance\n"
     ]
    },
    {
     "name": "stderr",
     "output_type": "stream",
     "text": [
      "  2%|▏         | 46/2000 [00:03<01:20, 24.36it/s]"
     ]
    },
    {
     "name": "stdout",
     "output_type": "stream",
     "text": [
      "Marketers are employed in the public sector as well as the private sector.\n",
      "Most people think of marketing as a strictly private sector activity, but the reality is people with sales and marketing backgrounds are hired by government agencies in a number of capacities. Government agencies at the local, state and federal level all employ marketing professionals in areas including, but not limited to, public relations, property disposal, bond sales and purchasing.\n",
      "Almost all major government agencies have their own public-relations staff, and in many cases it is a stand-alone department with a public relations or media director and several support staff. Government agency PR departments are responsible for producing news releases, holding press conferences, and generally promoting activities of the agency, such as tourism or encouraging new businesses to move into the area.\n",
      "Government agencies are constantly buying supplies, equipment and other property and selling off old equipment and property. The departments tasked with disposing of this government property often hire individuals with a background in marketing. Their job is to assist the agency in coming up with creative ways to sell or otherwise dispose of obsolete government property.\n",
      "Most government agencies have to follow complicated regulations for purchasing supplies and equipment. In many cases, agencies can only buy from certain suppliers or can only buy goods within specific price ranges. Agencies often hire purchasing agents with marketing backgrounds to help them manage their purchases, including setting criteria for suppliers and establishing price ranges. Government purchasing agents must be very familiar with current purchasing regulations at their agency.\n",
      "Local, state and federal agencies sometimes sell bonds to finance large\n",
      "hey. I can not start any programs because of the error \"Access denied\" (see photo). What can I do?\n",
      "To fix this it needs to implement a few permissions to wine and it should be installed to external storage. Temporary - until the next wine will be published - it can be done using some apk-editor/modification-utility through adding those permissions manually to the manifest. Also create some new folder on /storage/emulated/0/Android/data/. Call this folder \"org.winehq.wine\" and add in there another folder like \"drive_z\".\n",
      "Use a sophisticated file-manager to connect the wine-app with the \"org.winehq.wine\"-folder and create the connection to drive_z, i.e. \"Z:\\\" through wineconfig.\n",
      "4. permission to mount/unmount filesystems.\n",
      "Good Morning. I have the same problem. It says \"Access Denied\" every time I want to execute an .exe file. I am a root user and I have tried to modify the permissions with applications like \"total commander\" but I did not succeed.\n",
      "I thank you for helping us. Excuse my English, I'm from Argentina, I speak Spanish. Can you be a little clearer? I do not understand why I do not handle my English very well. Thank you!\n",
      "Hello, I am new to this forum. I've been able to modify the app manifest to install on the sd card, grant read/write permission, and mount/unmount file systems. I\n",
      "hey. I can not start any programs because of the error \"Access denied\" (see photo). What can I do?\n",
      "To fix this it needs to implement a few permissions to wine and it should be installed to external storage. Temporary - until the next wine will be published - it can be done using some apk-editor/modification-utility through adding those permissions manually to the manifest. Also create some new folder on /storage/emulated/0/Android/data/. Call this folder \"org.winehq.wine\" and add in there another folder like \"drive_z\".\n",
      "Use a sophisticated file-manager to connect the wine-app with the \"org.winehq.wine\"-folder and create the connection to drive_z, i.e. \"Z:\\\" through wineconfig.\n",
      "4. permission to mount/unmount filesystems.\n",
      "Good Morning. I have the same problem. It says \"Access Denied\" every time I want to execute an .exe file. I am a root user and I have tried to modify the permissions with applications like \"total commander\" but I did not succeed.\n",
      "I thank you for helping us. Excuse my English, I'm from Argentina, I speak Spanish. Can you be a little clearer? I do not understand why I do not handle my English very well. Thank you!\n",
      "Hello, I am new to this forum. I've been able to modify the app manifest to install on the sd card, grant read/write permission, and mount/unmount file systems. I've\n",
      "Too much? That's good because we were almost out of card puns for this one. Regardless of the terrible puns, we stand by what we said about fitting in but also being an individual and all that jazz. Which is exactly why we think a playing card its the perfect representational costume of the dichotomy of individualism vs. collectivist natures... and also we really like cards. Throwing them at things, building card castles with them, and playing games with them. Perhaps you have a kid like this. What? No, not a kid posing rhetorical questions about individualism, a kid who likes cards.\n",
      "If you do have a kid like this, well then we have the perfect outfit for them. Our Kids Ace of Clubs Costume has a white, foam-backed sleeveless tunic designed to look like the ace of clubs. Attached is a black velvet hood and cowl collar, shaped to look like a club, with a zipper up the back. The neck of the hood has elastic around the front edge for a snug fit around the face, and it comes with black velvet mitts with wide cuffs and elastic at the wrists. Your kid will look fancy enough to be invited to royal croquet parties in the garden.\n",
      "Ooh! You could say your kid will be \"on deck\" in this outfit!... Wait, we can do better than that. This fun outfit will have your kid ready to shuffle!... Alright, we're done now. Promise\n"
     ]
    },
    {
     "name": "stderr",
     "output_type": "stream",
     "text": [
      "  3%|▎         | 52/2000 [00:03<01:37, 20.07it/s]"
     ]
    },
    {
     "name": "stdout",
     "output_type": "stream",
     "text": [
      "Too much? That's good because we were almost out of card puns for this one. Regardless of the terrible puns, we stand by what we said about fitting in but also being an individual and all that jazz. Which is exactly why we think a playing card its the perfect representational costume of the dichotomy of individualism vs. collectivist natures... and also we really like cards. Throwing them at things, building card castles with them, and playing games with them. Perhaps you have a kid like this. What? No, not a kid posing rhetorical questions about individualism, a kid who likes cards.\n",
      "If you do have a kid like this, well then we have the perfect outfit for them. Our Kids Ace of Clubs Costume has a white, foam-backed sleeveless tunic designed to look like the ace of clubs. Attached is a black velvet hood and cowl collar, shaped to look like a club, with a zipper up the back. The neck of the hood has elastic around the front edge for a snug fit around the face, and it comes with black velvet mitts with wide cuffs and elastic at the wrists. Your kid will look fancy enough to be invited to royal croquet parties in the garden.\n",
      "Ooh! You could say your kid will be \"on deck\" in this outfit!... Wait, we can do better than that. This fun outfit will have your kid ready to shuffle!... Alright, we're done now. Promise.\n",
      "Friends, I have some pretty exciting news. I’ve been nominated me for a Liebster blogging award. This is an award that’s given to new bloggers as a way to recognize & encourage them in their work.\n",
      "Ayanna over at 21 Flavors of Splendor has nominated me for this award, and I couldn’t be more grateful. I’ve been following Ayanna, pretty much since I started blogging. She’s always been encouraging and this nomination is just further proof of that. Head over to check out her blog, oh and her Instagram is one full of encouragement and fun peaks into her everyday!\n",
      "Another blog that I really love is Rachael’s over at Oh Lord Help Us. This is a woman sharing her faith and sharing her resources. It’s clear from the moment you enter the world of her blog, she’s looking to be real, have real conversation, and share her real learning. In addition to her blog, she’s also making some pretty sweet jewelry pieces. And as if that weren’t enough, she’s donating the proceeds from sales to invest back in her ministry to share Gods truth with woman of faith to know who they were created to be. This is a ministry and blog that will encourage women to live to their full potential as strong and fierce daughters of God. Check her out over at her blog, Instagram or any of her social media accounts. She’s always dishing out some encouragement.\n",
      "The rules of this nomination encourage each blogger to share some randomness\n",
      "Friends, I have some pretty exciting news. I’ve been nominated me for a Liebster blogging award. This is an award that’s given to new bloggers as a way to recognize & encourage them in their work.\n",
      "Ayanna over at 21 Flavors of Splendor has nominated me for this award, and I couldn’t be more grateful. I’ve been following Ayanna, pretty much since I started blogging. She’s always been encouraging and this nomination is just further proof of that. Head over to check out her blog, oh and her Instagram is one full of encouragement and fun peaks into her everyday!\n",
      "Another blog that I really love is Rachael’s over at Oh Lord Help Us. This is a woman sharing her faith and sharing her resources. It’s clear from the moment you enter the world of her blog, she’s looking to be real, have real conversation, and share her real learning. In addition to her blog, she’s also making some pretty sweet jewelry pieces. And as if that weren’t enough, she’s donating the proceeds from sales to invest back in her ministry to share Gods truth with woman of faith to know who they were created to be. This is a ministry and blog that will encourage women to live to their full potential as strong and fierce daughters of God. Check her out over at her blog, Instagram or any of her social media accounts. She’s always dishing out some encouragement.\n",
      "The rules of this nomination encourage each blogger to share some randomness about\n",
      "Η GMC παρουσιάζει την Nightfall έκδοση του Terrain που θα κάνει ντεμπούτο στην έκθεση της Νέας Υόρκης. Το μοντέλο ξεχωρίζει από την μαύρη γρίλια, τα μαύρα γυαλιστερά διακοσμητικά, τις μαύρες ράγες οροφής και τις μαύρες/αλομινένιες ζάντες 18″.\n",
      "Είναι διαθέσιμο σε τέσσερα εξωτερικά χρώματα (Onyx Black, Crimson Red Metallic, Graphite Gray Metallic και Summit White) και στο εσωτερικό διαθέτει το σύστημα ενημέρωσης και ψυχαγωγίας IntelliLink με οθόνη αφής 7″ και συνδεσιμότητα 4G LTE με Wi-Fi hotspot.\n",
      "Οι πωλήσεις του θα ξεκινήσουν από το φθινόπωρο.\n",
      "The News Ahead of its debut at the New York International Auto Show, GMC today introduced the 2017 GMC Terrain Nightfall Edition – a stylized special edition combining blacked-out exterior details and wheels, with popular technologies such as IntelliLink with available 4G LTE connectivity and Wi-Fi hotspot.\n",
      "It joins the Canyon Nightfall Edition and the all-new Sierra All Terrain X as the latest GMC vehicle to offer an exclusive, personalized appearance with the Terrain’s premium features and refinement.\n",
      "Product\n"
     ]
    },
    {
     "name": "stderr",
     "output_type": "stream",
     "text": [
      "  3%|▎         | 66/2000 [00:04<00:58, 32.98it/s]"
     ]
    },
    {
     "name": "stdout",
     "output_type": "stream",
     "text": [
      "Η GMC παρουσιάζει την Nightfall έκδοση του Terrain που θα κάνει ντεμπούτο στην έκθεση της Νέας Υόρκης. Το μοντέλο ξεχωρίζει από την μαύρη γρίλια, τα μαύρα γυαλιστερά διακοσμητικά, τις μαύρες ράγες οροφής και τις μαύρες/αλομινένιες ζάντες 18″.\n",
      "Είναι διαθέσιμο σε τέσσερα εξωτερικά χρώματα (Onyx Black, Crimson Red Metallic, Graphite Gray Metallic και Summit White) και στο εσωτερικό διαθέτει το σύστημα ενημέρωσης και ψυχαγωγίας IntelliLink με οθόνη αφής 7″ και συνδεσιμότητα 4G LTE με Wi-Fi hotspot.\n",
      "Οι πωλήσεις του θα ξεκινήσουν από το φθινόπωρο.\n",
      "The News Ahead of its debut at the New York International Auto Show, GMC today introduced the 2017 GMC Terrain Nightfall Edition – a stylized special edition combining blacked-out exterior details and wheels, with popular technologies such as IntelliLink with available 4G LTE connectivity and Wi-Fi hotspot.\n",
      "It joins the Canyon Nightfall Edition and the all-new Sierra All Terrain X as the latest GMC vehicle to offer an exclusive, personalized appearance with the Terrain’s premium features and refinement.\n",
      "Product details\n",
      "After an even enough opening half, after which Monaghan led by three points, 1-5 to 0-5 while playing with the wind, any hopes Kildare had of turning the game around disappeared soon after the restart with Monaghan opening with two quick points and then adding a second goal, when a long ball in was won by Donnacha Swinburne over his marker, he turned and fired to to net to leave it 2-7 to 0-5 with just 36 minutes gone in the second half.\n",
      "Despite the wind rising and the rain lashing down their was little improvement from Kildare while Monaghan kept the score board ticking, without playing particularly well it has to be said, but they simply had too much for a Kildare side that looked more tired as the game went on and at times bereft of ideas.\n",
      "KILDARE: John Ball (Clane); John Lynch (Clane), Conor McGroary (Naas), Jack Himill (Raheens); Sean Englishy (Leixli), Kevin Kelleher (Ballymore Eustace), Daniel Caulfield (Sallins); Liam Broderick (Ballymore Eustace), Marcus Kiely (Two Mile House); Jack Cleary (Naas), Alex Beirne (Naas), Padraig Behan (Kilcullen); Eogan O'Haire (Newtown Gaels), Aaron Kennedy (St Laurence\n",
      "After an even enough opening half, after which Monaghan led by three points, 1-5 to 0-5 while playing with the wind, any hopes Kildare had of turning the game around disappeared soon after the restart with Monaghan opening with two quick points and then adding a second goal, when a long ball in was won by Donnacha Swinburne over his marker, he turned and fired to to net to leave it 2-7 to 0-5 with just 36 minutes gone in the second half.\n",
      "Despite the wind rising and the rain lashing down their was little improvement from Kildare while Monaghan kept the score board ticking, without playing particularly well it has to be said, but they simply had too much for a Kildare side that looked more tired as the game went on and at times bereft of ideas.\n",
      "KILDARE: John Ball (Clane); John Lynch (Clane), Conor McGroary (Naas), Jack Himill (Raheens); Sean Englishy (Leixli), Kevin Kelleher (Ballymore Eustace), Daniel Caulfield (Sallins); Liam Broderick (Ballymore Eustace), Marcus Kiely (Two Mile House); Jack Cleary (Naas), Alex Beirne (Naas), Padraig Behan (Kilcullen); Eogan O'Haire (Newtown Gaels), Aaron Kennedy (St Laurence's\n",
      "If you are on the lookout for cost savings, your first thoughts almost certainly relate to product sales, blowouts, and bargains. The best location to discover coupon codes is via on-line suppliers. Buying items on the web can conserve far more income than purchasing from any other income channel. The following article will present you how.\n",
      "When purchasing on the internet, it is crucial that your spyware and anti-virus computer software is up to date. If your personal computer is infected with something as simple as a keylogger even though producing an on-line purchase, you just handed a stranger your credit rating card number. Shell out focus to the warnings that are provided by your safety software if you see any suspicious exercise, report them to your website’s webmaster.\n",
      "Take your time and see the costs at many on the web stores to see how items examine on all of the internet sites. Unless of course you really have your heart set on a specific brand name, be open up to distinct possibilities. Find the characteristics you are seeking for then, start off evaluating prices. Regularly examine out the on the web stores you purchase from because they likely introduce new items constantly.\n",
      "If you acquire from Amazon usually, consider about Amazon Key. Amazon Key normally expenses for each 12 months, but you get so significantly for that income. This price contains getting cost-free two-day shipping when you purchase anything at all that they have in stock and you get discounts on other types of supply. Also, you get accessibility\n"
     ]
    },
    {
     "name": "stderr",
     "output_type": "stream",
     "text": [
      "  4%|▎         | 70/2000 [00:04<01:15, 25.56it/s]"
     ]
    },
    {
     "name": "stdout",
     "output_type": "stream",
     "text": [
      "If you are on the lookout for cost savings, your first thoughts almost certainly relate to product sales, blowouts, and bargains. The best location to discover coupon codes is via on-line suppliers. Buying items on the web can conserve far more income than purchasing from any other income channel. The following article will present you how.\n",
      "When purchasing on the internet, it is crucial that your spyware and anti-virus computer software is up to date. If your personal computer is infected with something as simple as a keylogger even though producing an on-line purchase, you just handed a stranger your credit rating card number. Shell out focus to the warnings that are provided by your safety software if you see any suspicious exercise, report them to your website’s webmaster.\n",
      "Take your time and see the costs at many on the web stores to see how items examine on all of the internet sites. Unless of course you really have your heart set on a specific brand name, be open up to distinct possibilities. Find the characteristics you are seeking for then, start off evaluating prices. Regularly examine out the on the web stores you purchase from because they likely introduce new items constantly.\n",
      "If you acquire from Amazon usually, consider about Amazon Key. Amazon Key normally expenses for each 12 months, but you get so significantly for that income. This price contains getting cost-free two-day shipping when you purchase anything at all that they have in stock and you get discounts on other types of supply. Also, you get accessibility to\n",
      "The enterprising and energetic Franklin Food Elves soon will be canvassing neighborhoods all around Franklin collecting goods during the “12 Days of Donating” campaign to benefit the Franklin Food Pantry. From December 1 to December 12, citizens can donate items in their own neighborhoods or at local participating businesses to help neighbors in need.\n",
      "The Food Elves is a charitable community service group made up of more than 60 students ranging from elementary through high school. For the past two years they have joined forces with the Franklin Downtown Partnership to operate the “12 Days of Donating” campaign with great success. This year the Elves aim to beat last year’s record-breaking collection drive by raising more than $5,700 and 4,200 pounds of goods.\n",
      "According to the Food Pantry, about 600 households are registered to use Pantry services. This year’s need will be even greater due to a decrease in SNAP benefits in November. Health and hygiene items are not covered by those benefits and are a particular need.\n",
      "In early December, Food Elves will notify their neighbors about the collection campaign, including what items can be collected and the collection dates. Residents simply place bags of goods at their mailboxes on the designated pickup day and the Elves will do the rest. Collection dates will be Saturday, December 7, Sunday, December 8, or Saturday, December 14.\n",
      "In case there’s no Elf in your neighborhood, it is still easy to donate. The Elves have placed bright red collection bins\n",
      "The enterprising and energetic Franklin Food Elves soon will be canvassing neighborhoods all around Franklin collecting goods during the “12 Days of Donating” campaign to benefit the Franklin Food Pantry. From December 1 to December 12, citizens can donate items in their own neighborhoods or at local participating businesses to help neighbors in need.\n",
      "The Food Elves is a charitable community service group made up of more than 60 students ranging from elementary through high school. For the past two years they have joined forces with the Franklin Downtown Partnership to operate the “12 Days of Donating” campaign with great success. This year the Elves aim to beat last year’s record-breaking collection drive by raising more than $5,700 and 4,200 pounds of goods.\n",
      "According to the Food Pantry, about 600 households are registered to use Pantry services. This year’s need will be even greater due to a decrease in SNAP benefits in November. Health and hygiene items are not covered by those benefits and are a particular need.\n",
      "In early December, Food Elves will notify their neighbors about the collection campaign, including what items can be collected and the collection dates. Residents simply place bags of goods at their mailboxes on the designated pickup day and the Elves will do the rest. Collection dates will be Saturday, December 7, Sunday, December 8, or Saturday, December 14.\n",
      "In case there’s no Elf in your neighborhood, it is still easy to donate. The Elves have placed bright red collection bins at\n",
      "Editor’s note: The Consulate General of Belgium in Atlanta each month puts out a newsletter recounting its activities across the region and informing its compatriots about vital information from the foreign ministry. Follow the consulate on Facebook.\n",
      "As with each edition, this month’s included a spotlight on Belgian living and working in the consulate’s jurisdiction. Known as “The Belgian in the Picture,” the series aims to show just how deeply impactful the country’s economic and cultural engagement with the South is, despite its small size. The below Q&A is reprinted with permission and has been lightly edited for clarity and style.\n",
      "Belgian Consulate: Paul De Sloover, a veteran Belgian entrepreneur in the U.S., is being spotlighted in this month’s newsletter — appropriated given that his latest venture provides an innovative way to generate power from the sun. Mr. De Sloover, can you tell us more about the solar roof tiles made by Desol Power Tiles?\n",
      "Mr. de Sloover: Solar roof tiles are roof tiles with integrated solar panels. Instead of installing unsightly solar panels on top of an existing roof, with DeSol Power Tiles it is your roof itself that captures the sunlight. The tiles themselves look like regular classic Nordic style roof tiles, and when installed as instructed they form a completely sealed, walkable and hurricane-resistant roof.\n",
      "Belgian Consulate: What are other reasons more people are choosing solar roof tiles rather than solar panels?\n",
      "Mr. de Sloover: An issue a lot\n"
     ]
    },
    {
     "name": "stderr",
     "output_type": "stream",
     "text": [
      "  4%|▍         | 82/2000 [00:04<00:53, 35.58it/s]"
     ]
    },
    {
     "name": "stdout",
     "output_type": "stream",
     "text": [
      "Editor’s note: The Consulate General of Belgium in Atlanta each month puts out a newsletter recounting its activities across the region and informing its compatriots about vital information from the foreign ministry. Follow the consulate on Facebook.\n",
      "As with each edition, this month’s included a spotlight on Belgian living and working in the consulate’s jurisdiction. Known as “The Belgian in the Picture,” the series aims to show just how deeply impactful the country’s economic and cultural engagement with the South is, despite its small size. The below Q&A is reprinted with permission and has been lightly edited for clarity and style.\n",
      "Belgian Consulate: Paul De Sloover, a veteran Belgian entrepreneur in the U.S., is being spotlighted in this month’s newsletter — appropriated given that his latest venture provides an innovative way to generate power from the sun. Mr. De Sloover, can you tell us more about the solar roof tiles made by Desol Power Tiles?\n",
      "Mr. de Sloover: Solar roof tiles are roof tiles with integrated solar panels. Instead of installing unsightly solar panels on top of an existing roof, with DeSol Power Tiles it is your roof itself that captures the sunlight. The tiles themselves look like regular classic Nordic style roof tiles, and when installed as instructed they form a completely sealed, walkable and hurricane-resistant roof.\n",
      "Belgian Consulate: What are other reasons more people are choosing solar roof tiles rather than solar panels?\n",
      "Mr. de Sloover: An issue a lot of\n",
      "Approach your problems from the right end It isn't that they can't see the solution. It is and begin with the answers. Then one day, that they can't see the problem. perhaps you will find the final question. G. K. Chesterton. The Scandal of Father 'The Hermit Clad in Crane Feathers' in R. Brown 'The point of a Pin'. van Gulik's The Chif1ese Maze Murders. Growing specialization and diversification have brought a host of monographs and textbooks on increasingly specialized topics. However, the \"tree\" of knowledge of mathematics and related fields does not grow only by putting forth new branches. It also happens, quite often in fact, that branches which were thought to be completely disparate are suddenly seen to be related. Further, the kind and level of sophistication of mathematics applied in various sciences has changed drastically in recent years: measure theory is used (non- trivially) in regional and theoretical economics; algebraic geometry interacts with physics; the Minkowsky lemma, coding theory and the structure of water meet one another in packing and covering theory; quantum fields, crystal defects and mathematical programming profit from homotopy theory; Lie algebras are relevant to filtering; and prediction and electrical engineering can use Stein spaces. And in addition to this there are such new emerging subdisciplines as \"experimental mathematics\", \"CFD\", \"completely integrable systems\", \"chaos, synerget\n",
      "Approach your problems from the right end It isn't that they can't see the solution. It is and begin with the answers. Then one day, that they can't see the problem. perhaps you will find the final question. G. K. Chesterton. The Scandal of Father 'The Hermit Clad in Crane Feathers' in R. Brown 'The point of a Pin'. van Gulik's The Chif1ese Maze Murders. Growing specialization and diversification have brought a host of monographs and textbooks on increasingly specialized topics. However, the \"tree\" of knowledge of mathematics and related fields does not grow only by putting forth new branches. It also happens, quite often in fact, that branches which were thought to be completely disparate are suddenly seen to be related. Further, the kind and level of sophistication of mathematics applied in various sciences has changed drastically in recent years: measure theory is used (non- trivially) in regional and theoretical economics; algebraic geometry interacts with physics; the Minkowsky lemma, coding theory and the structure of water meet one another in packing and covering theory; quantum fields, crystal defects and mathematical programming profit from homotopy theory; Lie algebras are relevant to filtering; and prediction and electrical engineering can use Stein spaces. And in addition to this there are such new emerging subdisciplines as \"experimental mathematics\", \"CFD\", \"completely integrable systems\", \"chaos, synergetics\n",
      "I always love a good nosey into people’s bags – it kind of shows you a little bit more of their personality. This backpack is from Urban Outfitters which I actually picked up in the sale for the bargainous price of £20. I’m not one to carry around a lot of things with me on a daily basis – these are the main things I had. I had just bought the two Models Own nail polish featured above – Boots are currently having a 2 for £8 offer on them, so now is the time to snap some up. I’m looking forward to trying the Hed Kandi collaboration – a have seen it on a few friends nails and it looks fabulous.\n",
      "I always need some hand cream with me because I hate how dry my hand gets from using cheap soap at work – this works a treat. The superbalm from Liz Earle is really good for lips and any dry patches you might have – it works wonders on elbows! I am loving the new Revlon Lip Butters – I often find lipsticks really drying so this is a perfect solution.\n",
      "My sheep keyring was from the Mark Fast goodie bag I managed to grab while I was at fashion week – I like this little dude on my keys, don’t you? I just picked up this case for my phone and I love it – it made me feel like I had a whole new phone again.\n",
      "I always throw this beanie in my bag to keep my hair dry and under control in\n"
     ]
    },
    {
     "name": "stderr",
     "output_type": "stream",
     "text": [
      "  4%|▍         | 86/2000 [00:04<00:56, 34.13it/s]"
     ]
    },
    {
     "name": "stdout",
     "output_type": "stream",
     "text": [
      "I always love a good nosey into people’s bags – it kind of shows you a little bit more of their personality. This backpack is from Urban Outfitters which I actually picked up in the sale for the bargainous price of £20. I’m not one to carry around a lot of things with me on a daily basis – these are the main things I had. I had just bought the two Models Own nail polish featured above – Boots are currently having a 2 for £8 offer on them, so now is the time to snap some up. I’m looking forward to trying the Hed Kandi collaboration – a have seen it on a few friends nails and it looks fabulous.\n",
      "I always need some hand cream with me because I hate how dry my hand gets from using cheap soap at work – this works a treat. The superbalm from Liz Earle is really good for lips and any dry patches you might have – it works wonders on elbows! I am loving the new Revlon Lip Butters – I often find lipsticks really drying so this is a perfect solution.\n",
      "My sheep keyring was from the Mark Fast goodie bag I managed to grab while I was at fashion week – I like this little dude on my keys, don’t you? I just picked up this case for my phone and I love it – it made me feel like I had a whole new phone again.\n",
      "I always throw this beanie in my bag to keep my hair dry and under control in the\n",
      "CompactFlash cards are not very popular anymore as Secure Digital cards are typically much cheaper. That being said, pro-sumer Digital SLR cameras as well as full Professional SLR cameras use CompactFlash as it seems to be more reliable and is certainly faster when it comes to continuous write speeds. Today we are taking a look at a very expensive 16GB card from SanDisk that is from their flagship line – the Extreme Pro. These cards claim to have a write speed of up to 90MB/sec – making them some of the fastest flash cards to ever hit the general public. How much will this set you back? SanDisk lists the MSRP at a mere $335.99USD currently. Before you choke and run away, let’s take a look and see if this price tag is justified in any way, shape or form.\n",
      "Founded in 1988 by Dr. Eli Harari, an internationally recognized authority on non-volatile memory technology, SanDisk has grown to become the world’s largest supplier of innovative flash memory data storage products.\n",
      "SanDisk currently has more than 1,100 U.S. patents, more than 600 foreign patents, and more than 1440 patent applications pending in the U.S. SanDisk is the only company, worldwide, that has the rights to both manufacture and sell every major flash card format, including CompactFlash®, SD™, miniSD™, microSD™, MultiMediaCard™, Reduced Size MultiMediaCard (RS-M\n",
      "CompactFlash cards are not very popular anymore as Secure Digital cards are typically much cheaper. That being said, pro-sumer Digital SLR cameras as well as full Professional SLR cameras use CompactFlash as it seems to be more reliable and is certainly faster when it comes to continuous write speeds. Today we are taking a look at a very expensive 16GB card from SanDisk that is from their flagship line – the Extreme Pro. These cards claim to have a write speed of up to 90MB/sec – making them some of the fastest flash cards to ever hit the general public. How much will this set you back? SanDisk lists the MSRP at a mere $335.99USD currently. Before you choke and run away, let’s take a look and see if this price tag is justified in any way, shape or form.\n",
      "Founded in 1988 by Dr. Eli Harari, an internationally recognized authority on non-volatile memory technology, SanDisk has grown to become the world’s largest supplier of innovative flash memory data storage products.\n",
      "SanDisk currently has more than 1,100 U.S. patents, more than 600 foreign patents, and more than 1440 patent applications pending in the U.S. SanDisk is the only company, worldwide, that has the rights to both manufacture and sell every major flash card format, including CompactFlash®, SD™, miniSD™, microSD™, MultiMediaCard™, Reduced Size MultiMediaCard (RS-MMC\n",
      "Welcome to Boston Mamas Rock! – where we’re giving a voice to fabulous local mamas from all walks of life. Read on for today’s interview with Susan Dorson & Amy Weitzman, two local moms on a mission to save their community library and provide parents with an eco-friendly, affordable shopping option via The Little Fox Shop. Then go ahead and nominate yourself or a friend!\n",
      "Christine: Welcome, Susan and Amy! You were nominated for this feature because of the work you have done to start The Little Fox Shop at the Edith Fox Branch Library in East Arlington, where all proceeds go to support the library (whose doors have been on the verge of closing for some time due to budget cuts). Now, everyone (present company included) talks about the importance of preserving local libraries, but your efforts truly walk the walk. What inspired you to action to help save the Fox Branch?\n",
      "Susan: I have always loved the Fox Library but when I was pregnant with my first son, I would take daily walks up to the Fox and chat with the librarians and it became a part of my life. After my son was born, there were days when I was very lonely but I knew that my local library was a place I could find people to talk to - and of course books. The thing about a branch library is that it is more than just a place to get books; it is a community gathering place. Owing in part to the smaller population that the Fox serves\n"
     ]
    },
    {
     "name": "stderr",
     "output_type": "stream",
     "text": [
      "  4%|▍         | 90/2000 [00:05<01:13, 25.98it/s]"
     ]
    },
    {
     "name": "stdout",
     "output_type": "stream",
     "text": [
      "Welcome to Boston Mamas Rock! – where we’re giving a voice to fabulous local mamas from all walks of life. Read on for today’s interview with Susan Dorson & Amy Weitzman, two local moms on a mission to save their community library and provide parents with an eco-friendly, affordable shopping option via The Little Fox Shop. Then go ahead and nominate yourself or a friend!\n",
      "Christine: Welcome, Susan and Amy! You were nominated for this feature because of the work you have done to start The Little Fox Shop at the Edith Fox Branch Library in East Arlington, where all proceeds go to support the library (whose doors have been on the verge of closing for some time due to budget cuts). Now, everyone (present company included) talks about the importance of preserving local libraries, but your efforts truly walk the walk. What inspired you to action to help save the Fox Branch?\n",
      "Susan: I have always loved the Fox Library but when I was pregnant with my first son, I would take daily walks up to the Fox and chat with the librarians and it became a part of my life. After my son was born, there were days when I was very lonely but I knew that my local library was a place I could find people to talk to - and of course books. The thing about a branch library is that it is more than just a place to get books; it is a community gathering place. Owing in part to the smaller population that the Fox serves,\n",
      "MIDDLETOWN, NJ - The Middletown Township Public Library and the Township of Middletown are pleased to announce the appointment of Kim Rinaldi as Provisional Library Director, beginning on February 24, 2014. Ms. Rinaldi will earn a salary of $95,000.00 per year.\n",
      "Ms. Rinaldi comes to the Middletown Township Public Library after having served as the Library Director of the Margaret E. Heggen Free Public Library in Washington Township, New Jersey. During her tenure in Washington Township, Ms. Rinaldi managed 26 employees and a $2.5 million annual budget. Ms. Rinaldi has also served as the Director of the Brielle Public Library and as a Senior Librarian at the Ocean County Library, Long Beach Island Branch in Surf City, New Jersey.\n",
      "Ms. Rinaldi holds a Masters in Library and Information Science from Texas Women’s College and has extensive experience in library administration, budgeting and project management. Ms. Rinaldi is credited with outsourcing material cataloging and processing at the Margaret E. Heggan Free Public Library, reducing annual operating costs by $150,000.00. Ms. Rinaldi also managed a successful $2 million library building project.\n",
      "Ms. Rinaldi is excited to begin her new position as Provisional Library Director and looks forward to working with the Board of Trustees, staff and residents to continue to make the Middlet\n",
      "MIDDLETOWN, NJ - The Middletown Township Public Library and the Township of Middletown are pleased to announce the appointment of Kim Rinaldi as Provisional Library Director, beginning on February 24, 2014. Ms. Rinaldi will earn a salary of $95,000.00 per year.\n",
      "Ms. Rinaldi comes to the Middletown Township Public Library after having served as the Library Director of the Margaret E. Heggen Free Public Library in Washington Township, New Jersey. During her tenure in Washington Township, Ms. Rinaldi managed 26 employees and a $2.5 million annual budget. Ms. Rinaldi has also served as the Director of the Brielle Public Library and as a Senior Librarian at the Ocean County Library, Long Beach Island Branch in Surf City, New Jersey.\n",
      "Ms. Rinaldi holds a Masters in Library and Information Science from Texas Women’s College and has extensive experience in library administration, budgeting and project management. Ms. Rinaldi is credited with outsourcing material cataloging and processing at the Margaret E. Heggan Free Public Library, reducing annual operating costs by $150,000.00. Ms. Rinaldi also managed a successful $2 million library building project.\n",
      "Ms. Rinaldi is excited to begin her new position as Provisional Library Director and looks forward to working with the Board of Trustees, staff and residents to continue to make the Middletown\n",
      "ATPases belong to the class of acid anhydride hydrolases. The most common ATPases (24 proteins) contain the classical mononucleotide-binding motif, which is known as the P-loop or Walkermotif. A second subfamily exists as the GHL ATPase family, including Hsp90, PMS2, MutL and DNA gyrase B, and share the same left-handed β-α-β-fold. Four conserved sequence motifs have been identified in these enzymes. Finally, β-actin, Hsp70 and FtsA contain a more complex nucleotide-binding site and form the third and last subfamily of ATPases. The presence of various types of nucleotide-binding site in ATPases is of interest for drug discovery, as it might allow the design of compounds that specifically target only one type.\n",
      "The class of Heat-shock proteins (Hsps; EC 3.6.-.-), the molecular chaperones, comprises five major and broadly conserved families: Hsp100s, Hsp90s, Hsp70s, Hsp60s, and small heat shock proteins (sHsps). The stress proteins are typically named after their molecular size in kilodaltons. They are required for the correct folding and maintenance of client proteins in biologically active conformations, and to stabilize them against heat stress and toxic chemicals (particularly heavy metals). Although Hsps are ubiquitously expressed proteins\n"
     ]
    },
    {
     "name": "stderr",
     "output_type": "stream",
     "text": [
      "  5%|▍         | 94/2000 [00:05<01:43, 18.50it/s]"
     ]
    },
    {
     "name": "stdout",
     "output_type": "stream",
     "text": [
      "ATPases belong to the class of acid anhydride hydrolases. The most common ATPases (24 proteins) contain the classical mononucleotide-binding motif, which is known as the P-loop or Walkermotif. A second subfamily exists as the GHL ATPase family, including Hsp90, PMS2, MutL and DNA gyrase B, and share the same left-handed β-α-β-fold. Four conserved sequence motifs have been identified in these enzymes. Finally, β-actin, Hsp70 and FtsA contain a more complex nucleotide-binding site and form the third and last subfamily of ATPases. The presence of various types of nucleotide-binding site in ATPases is of interest for drug discovery, as it might allow the design of compounds that specifically target only one type.\n",
      "The class of Heat-shock proteins (Hsps; EC 3.6.-.-), the molecular chaperones, comprises five major and broadly conserved families: Hsp100s, Hsp90s, Hsp70s, Hsp60s, and small heat shock proteins (sHsps). The stress proteins are typically named after their molecular size in kilodaltons. They are required for the correct folding and maintenance of client proteins in biologically active conformations, and to stabilize them against heat stress and toxic chemicals (particularly heavy metals). Although Hsps are ubiquitously expressed proteins,\n",
      "Our Palladium Tank Plating Kit – 1 Litre is a great option for re-plating white gold jewellery. The price of the kit includes 1 Litre of our Palladium Tank Plating Solution which contains 6 grams of palladium per litre and can be shipped outside the UK and EU, making it a good substitute for our transport restricted rhodium and platinum plating processes.\n",
      "Our Palladium Tank Plating Solution deposits a bright white, hard-wearing layer of palladium and is an excellent alternative to rhodium for re-plating white gold wedding and engagement rings. Another notable feature of our palladium plating system is that you can safely palladium plate items of jewellery that include materials such as pearl or coral without having to mask them out, as our Palladium Tank Plating Solution will not etch materials made from calcium carbonate. This was the case with the pearl and silver pendant in the picture; the whole of the pendant, pearls included, was immersed in our Palladium Plating Solution without any negative effect on the pearls. For a guide to setting up your Palladium Tank Plating Kit you can follow the same instructions for our Rhodium Tank Plating Kit which can be found in our Electroplating Manual by clicking HERE.\n",
      "This kit (or any of our other kits, equipment or solutions) is not suitable for plating on to aluminium or titanium and therefore can’t be used to plate iPhones and other similar products. If you are planning on palladium tank\n",
      "Our Palladium Tank Plating Kit – 1 Litre is a great option for re-plating white gold jewellery. The price of the kit includes 1 Litre of our Palladium Tank Plating Solution which contains 6 grams of palladium per litre and can be shipped outside the UK and EU, making it a good substitute for our transport restricted rhodium and platinum plating processes.\n",
      "Our Palladium Tank Plating Solution deposits a bright white, hard-wearing layer of palladium and is an excellent alternative to rhodium for re-plating white gold wedding and engagement rings. Another notable feature of our palladium plating system is that you can safely palladium plate items of jewellery that include materials such as pearl or coral without having to mask them out, as our Palladium Tank Plating Solution will not etch materials made from calcium carbonate. This was the case with the pearl and silver pendant in the picture; the whole of the pendant, pearls included, was immersed in our Palladium Plating Solution without any negative effect on the pearls. For a guide to setting up your Palladium Tank Plating Kit you can follow the same instructions for our Rhodium Tank Plating Kit which can be found in our Electroplating Manual by clicking HERE.\n",
      "This kit (or any of our other kits, equipment or solutions) is not suitable for plating on to aluminium or titanium and therefore can’t be used to plate iPhones and other similar products. If you are planning on palladium tank pl\n",
      "Here at Bathroom Make Over Authority, we'll be ready to satisfy your needs regarding Bathroom Makeovers in Iowa Park, TX. You'll need the most innovative modern technology in the field, and our crew of highly skilled professionals will offer just that. We grantee that you get the best services, the best value, and the highest quality materials. We will help you to come up with decisions for the task, respond to all your questions, and organize an appointment with our workers whenever you call us at 800-335-6975.\n",
      "You will have a budget to stick to, and you need to cut costs. Still you require superior services on Bathroom Makeovers in Iowa Park, TX, so you can rely on us to help you save money while continuing with offering the highest quality services. We offer the highest quality even while still saving you money. If you work with us, you'll receive the advantage of our own practical knowledge and superior materials to be sure that your project can last even while saving time and cash. For example, we are alert to keep clear of costly mistakes, do the job promptly to help save hours, and guarantee that you receive the top discounts on supplies and work. If you need to get lower rates, Bathroom Make Over Authority is the company to contact. Dial 800-335-6975 to talk to our client care staff, right now.\n",
      "You will need to be informed when it comes to Bathroom Makeovers in Iowa Park, TX. We won't\n"
     ]
    },
    {
     "name": "stderr",
     "output_type": "stream",
     "text": [
      "  5%|▍         | 97/2000 [00:05<01:56, 16.30it/s]"
     ]
    },
    {
     "name": "stdout",
     "output_type": "stream",
     "text": [
      "Here at Bathroom Make Over Authority, we'll be ready to satisfy your needs regarding Bathroom Makeovers in Iowa Park, TX. You'll need the most innovative modern technology in the field, and our crew of highly skilled professionals will offer just that. We grantee that you get the best services, the best value, and the highest quality materials. We will help you to come up with decisions for the task, respond to all your questions, and organize an appointment with our workers whenever you call us at 800-335-6975.\n",
      "You will have a budget to stick to, and you need to cut costs. Still you require superior services on Bathroom Makeovers in Iowa Park, TX, so you can rely on us to help you save money while continuing with offering the highest quality services. We offer the highest quality even while still saving you money. If you work with us, you'll receive the advantage of our own practical knowledge and superior materials to be sure that your project can last even while saving time and cash. For example, we are alert to keep clear of costly mistakes, do the job promptly to help save hours, and guarantee that you receive the top discounts on supplies and work. If you need to get lower rates, Bathroom Make Over Authority is the company to contact. Dial 800-335-6975 to talk to our client care staff, right now.\n",
      "You will need to be informed when it comes to Bathroom Makeovers in Iowa Park, TX. We won't encourage\n",
      "Win Your Next Account Director Role in the United Kingdom - Upgrade your CV today!\n",
      "Are You Looking for a New Job as an Account Director?\n",
      "Win Your Next Account Director Role by Upgrading Your CV Today!\n",
      "At UK CV Experts we take great pleasure in creating CVs for Account Directors. We believe that account directors are stealth sales people as they are usually responsible for retaining and farming large books of business. Whether you like to admit it or not, an account director role is a key sales function and the daily activities that most account directors take for granted are essential for any good sales organisation to move forward.\n",
      "What is an Account Director's CV and who would need one?\n",
      "An Account Director's CV covers the commercial experience of a senior account management professional who is seeking a new Account Director role. Typically, the CV summary includes details such as: professional education, relevant previous employment, commercial achievements, contact details, references and sometimes a little personal information about your hobbies and leisure preferences. Most Account Director CVs include an opening statement that helps senior executives quickly understand who you are and how you will help drive revenue growth and profitability.\n",
      "What are the Main Responsibilities for an Account Director role?\n",
      "If you are ready to move into your next big Account Director role, then please get in touch today and get a CV that outshines the competition.\n",
      "Our exclusive team of UK-based CV writers all come from a commercial background. Between us, we have screened and hired hundreds of sales and account management candidates in our time.\n",
      "Win Your Next Account Director Role in the United Kingdom - Upgrade your CV today!\n",
      "Are You Looking for a New Job as an Account Director?\n",
      "Win Your Next Account Director Role by Upgrading Your CV Today!\n",
      "At UK CV Experts we take great pleasure in creating CVs for Account Directors. We believe that account directors are stealth sales people as they are usually responsible for retaining and farming large books of business. Whether you like to admit it or not, an account director role is a key sales function and the daily activities that most account directors take for granted are essential for any good sales organisation to move forward.\n",
      "What is an Account Director's CV and who would need one?\n",
      "An Account Director's CV covers the commercial experience of a senior account management professional who is seeking a new Account Director role. Typically, the CV summary includes details such as: professional education, relevant previous employment, commercial achievements, contact details, references and sometimes a little personal information about your hobbies and leisure preferences. Most Account Director CVs include an opening statement that helps senior executives quickly understand who you are and how you will help drive revenue growth and profitability.\n",
      "What are the Main Responsibilities for an Account Director role?\n",
      "If you are ready to move into your next big Account Director role, then please get in touch today and get a CV that outshines the competition.\n",
      "Our exclusive team of UK-based CV writers all come from a commercial background. Between us, we have screened and hired hundreds of sales and account management candidates in our time. We\n",
      "There is a lot of discussion right now about stress reduction. Today we see an increased work load of mental health professionals, increased occurrences of abuse or violence faced by social workers and other therapists, and the terrible struggles facing our returning veterans. All of these things have increased our awareness of the stressful elements of our society and the impact those elements have on both our clients and the professionals whose job it is to help.\n",
      "As a social worker I am aware of the impact of work related stress on me, my family and my ability to do my job effectively. In my exploration of this topic, I found the blog of a young British social worker who wrote a blog called “Fighting Monsters.” She has since closed the blog, for personal reasons she did not disclose. But I was very struck by the quote she references while explaining the name of her blog.\n",
      "“Be careful when you fight the monsters, lest you become one.” Nietzsche.\n",
      "For her that was about the monster “mental disorder and illness.” For me it applies to all of the various ways we want to help and give care. If we don’t pay attention, we will fall into the very trap we are trying to help our clients climb out of. Stress, anxiety and depression are the most common warnings of the beginning fall. As professionals who work to support clients facing any number of difficult challenges, we need to be sure we have the appropriate tools to manage stress. But knowing stress is a problem and doing something about it are frequently two\n"
     ]
    },
    {
     "name": "stderr",
     "output_type": "stream",
     "text": [
      "  5%|▌         | 100/2000 [00:05<01:49, 17.41it/s]"
     ]
    },
    {
     "name": "stdout",
     "output_type": "stream",
     "text": [
      "There is a lot of discussion right now about stress reduction. Today we see an increased work load of mental health professionals, increased occurrences of abuse or violence faced by social workers and other therapists, and the terrible struggles facing our returning veterans. All of these things have increased our awareness of the stressful elements of our society and the impact those elements have on both our clients and the professionals whose job it is to help.\n",
      "As a social worker I am aware of the impact of work related stress on me, my family and my ability to do my job effectively. In my exploration of this topic, I found the blog of a young British social worker who wrote a blog called “Fighting Monsters.” She has since closed the blog, for personal reasons she did not disclose. But I was very struck by the quote she references while explaining the name of her blog.\n",
      "“Be careful when you fight the monsters, lest you become one.” Nietzsche.\n",
      "For her that was about the monster “mental disorder and illness.” For me it applies to all of the various ways we want to help and give care. If we don’t pay attention, we will fall into the very trap we are trying to help our clients climb out of. Stress, anxiety and depression are the most common warnings of the beginning fall. As professionals who work to support clients facing any number of difficult challenges, we need to be sure we have the appropriate tools to manage stress. But knowing stress is a problem and doing something about it are frequently two different\n",
      "Yet another fix for <tags>.\n",
      "Added <examples> tag (thanks to Jim for the tip).\n",
      "spiffy-request-vars: moving code to trunk.\n",
      "spiffy-request-vars: adding trunk & tags dirs.\n",
      "​http://chicken.wiki.br/cross-compilation may be a start.\n",
      "This would make it easier to conditionalize code for a particular version.\n",
      "awful.setup (trunk): use \"-O3 -lambda-lift\" instead of \"-O2\"\n",
      "Adding tag dir for awful version 0.17.\n",
      "Adding tags dir for awful.\n",
      "wiki/Unit extras: Comment on randomness quality of RANDOM.\n",
      "Updated docs for version 0.4.\n",
      "fixed: aded in 4722762d (experimental).\n",
      "Added mpfi dir and perms for Jeronimo.\n",
      "objc: Move objc-base to objc, other cleanups.\n",
      "wiki/srfi-4: Import srfi-4 docs and expand upon procedure definitions.\n",
      "wiki/srfi-14: Import procedures and charsets from SRFI.\n",
      "wiki/Unit srfi-13: Document all procedures.\n",
      "wiki/Unit srfi-1: Improve document markup.\n",
      "wiki/sxml-transforms: Expand upon apply-less starred variants.\n",
      "Changes applied for mario (189.114.111.55) through svnwiki: Table fix.\n",
      "fixed: Egg is available now, but needs more testing.\n",
      "* Last typo was fixed in only one file; the other is fixed now.\n",
      "Added user for Jer\n",
      "Yet another fix for <tags>.\n",
      "Added <examples> tag (thanks to Jim for the tip).\n",
      "spiffy-request-vars: moving code to trunk.\n",
      "spiffy-request-vars: adding trunk & tags dirs.\n",
      "​http://chicken.wiki.br/cross-compilation may be a start.\n",
      "This would make it easier to conditionalize code for a particular version.\n",
      "awful.setup (trunk): use \"-O3 -lambda-lift\" instead of \"-O2\"\n",
      "Adding tag dir for awful version 0.17.\n",
      "Adding tags dir for awful.\n",
      "wiki/Unit extras: Comment on randomness quality of RANDOM.\n",
      "Updated docs for version 0.4.\n",
      "fixed: aded in 4722762d (experimental).\n",
      "Added mpfi dir and perms for Jeronimo.\n",
      "objc: Move objc-base to objc, other cleanups.\n",
      "wiki/srfi-4: Import srfi-4 docs and expand upon procedure definitions.\n",
      "wiki/srfi-14: Import procedures and charsets from SRFI.\n",
      "wiki/Unit srfi-13: Document all procedures.\n",
      "wiki/Unit srfi-1: Improve document markup.\n",
      "wiki/sxml-transforms: Expand upon apply-less starred variants.\n",
      "Changes applied for mario (189.114.111.55) through svnwiki: Table fix.\n",
      "fixed: Egg is available now, but needs more testing.\n",
      "* Last typo was fixed in only one file; the other is fixed now.\n",
      "Added user for Jeron\n",
      "If you only focus on the graphics design of your web site and nothing else, you may have a beautiful web site that is hard to be found. If you only focus on search engine optimization and nothing else, your web site may be friendlier to the web robots at Google than it is to your web site visitors, which can hurt your conversion rate. If you only focus on social media and nothing else, you may not get the return on investment you are looking for.\n",
      "Web design, SEO, and social media are 3 important components of a successful Internet marketing strategy. If you want visitors to find you, you need outstanding SEO. If you want them to contact you or purchase from your site, you need great web design. If you want to create a lot of word-of-mouth recognition or implement a viral marketing campaign, social media can be an excellent tool for you.\n",
      "As a business owner, you should know that there is no one-size-fit-all online marketing strategy. There may be a lot of buzz on social media, but it may or may not be right for your business. This is why we always start by reviewing your business goals. When clients ask us: “How much should I spend on SEO? Should I create a Facebook page for my business? Do I need to redesign my web site? Is pay per click right for me? Should I start a blog?” Our answer is it only makes sense if it relates to your business goals.\n",
      "What are your business goals?\n"
     ]
    },
    {
     "name": "stderr",
     "output_type": "stream",
     "text": [
      "  5%|▌         | 105/2000 [00:06<02:03, 15.36it/s]"
     ]
    },
    {
     "name": "stdout",
     "output_type": "stream",
     "text": [
      "If you only focus on the graphics design of your web site and nothing else, you may have a beautiful web site that is hard to be found. If you only focus on search engine optimization and nothing else, your web site may be friendlier to the web robots at Google than it is to your web site visitors, which can hurt your conversion rate. If you only focus on social media and nothing else, you may not get the return on investment you are looking for.\n",
      "Web design, SEO, and social media are 3 important components of a successful Internet marketing strategy. If you want visitors to find you, you need outstanding SEO. If you want them to contact you or purchase from your site, you need great web design. If you want to create a lot of word-of-mouth recognition or implement a viral marketing campaign, social media can be an excellent tool for you.\n",
      "As a business owner, you should know that there is no one-size-fit-all online marketing strategy. There may be a lot of buzz on social media, but it may or may not be right for your business. This is why we always start by reviewing your business goals. When clients ask us: “How much should I spend on SEO? Should I create a Facebook page for my business? Do I need to redesign my web site? Is pay per click right for me? Should I start a blog?” Our answer is it only makes sense if it relates to your business goals.\n",
      "What are your business goals? Do\n",
      "Learn how to battle and defeat the secret boss in Kingdom Hearts 3 (KH3) - Dark Inferno, including info on boss characteristics, attacks, battle strategy, tips, and more!\n",
      "After beating the main story, you can visit the wastelands again and you'll find Battle Portal 14 there. Activate it to trigger the fight against Dark Inferno.\n",
      "Check Out All Battle Portal List Here!\n",
      "Dark Inferno mainly deals strong physical damage. Equip Sora with strong defensive armor and accessories, disregarding elemental resistance attributes for this fight.\n",
      "When you've reduced the Dark Inferno's HP by a certain amount, it powers up. This happens in two stages throughout the fight with his attack and speed amping up every time. These Form changes are permanent, and will not change throughout the battle.\n",
      "Focus on equipping Sora with high defense armor accessories. These will help combat against the high physical damage Dark Inferno can inflict on you during the battle.\n",
      "Check Out All Armor List!\n",
      "The Keyblade Wheel Of Fate from The Caribbean is one of the better weapons to use against Dark Inferno. It increases its range of attack when it transforms and also increases the number of your combos.\n",
      "It can be hard to manage your HP levels by using Curaga alone. Be sure to stock up on recovery items and equip them in your Shortcut menu so you're ready to heal when Curaga is on cooldown.\n",
      "Make sure to check that you've set your Guard move and your passive abilities before\n",
      "Learn how to battle and defeat the secret boss in Kingdom Hearts 3 (KH3) - Dark Inferno, including info on boss characteristics, attacks, battle strategy, tips, and more!\n",
      "After beating the main story, you can visit the wastelands again and you'll find Battle Portal 14 there. Activate it to trigger the fight against Dark Inferno.\n",
      "Check Out All Battle Portal List Here!\n",
      "Dark Inferno mainly deals strong physical damage. Equip Sora with strong defensive armor and accessories, disregarding elemental resistance attributes for this fight.\n",
      "When you've reduced the Dark Inferno's HP by a certain amount, it powers up. This happens in two stages throughout the fight with his attack and speed amping up every time. These Form changes are permanent, and will not change throughout the battle.\n",
      "Focus on equipping Sora with high defense armor accessories. These will help combat against the high physical damage Dark Inferno can inflict on you during the battle.\n",
      "Check Out All Armor List!\n",
      "The Keyblade Wheel Of Fate from The Caribbean is one of the better weapons to use against Dark Inferno. It increases its range of attack when it transforms and also increases the number of your combos.\n",
      "It can be hard to manage your HP levels by using Curaga alone. Be sure to stock up on recovery items and equip them in your Shortcut menu so you're ready to heal when Curaga is on cooldown.\n",
      "Make sure to check that you've set your Guard move and your passive abilities before you\n",
      "I have been living and working in Médecins Sans Frontières’ hospital since the clashes began in March. I’ve only been able to leave the hospital twice since then. The first time was to refer a patient to a specialised hospital as his life was in danger. Thankfully, he is now alive and well.\n",
      "The second time was to participate in the burial of a dear friend who had died. He was an administrative employee in a local hospital but was working as a volunteer to provide first aid to the injured. One day, he was transferring an injured patient to the hospital.\n",
      "The car was going fast—there was no ambulance and they were using an open pickup. My friend fell from the car and was taken to a hospital. I was not able to visit him, as I was busy here; we were receiving many cases and it was important for me to stay in order to supervise the nurses, nursing assistants, cleaning staff, and others. On the third day after his injury, I received news of his death. The second time I went outside the hospital was to say farewell to my friend and participate in the burial. He was a pleasant, hard-working and brave person.\n",
      "My family left with our neighbours to an area outside Aden for their own safety. I wasn’t able to see them or say goodbye. My house is not far from the hospital, about 3km away, but it feels like thousands of kilometres. I cannot go and check if everything is OK there.\n"
     ]
    },
    {
     "name": "stderr",
     "output_type": "stream",
     "text": [
      "  6%|▌         | 113/2000 [00:06<01:29, 21.01it/s]"
     ]
    },
    {
     "name": "stdout",
     "output_type": "stream",
     "text": [
      "I have been living and working in Médecins Sans Frontières’ hospital since the clashes began in March. I’ve only been able to leave the hospital twice since then. The first time was to refer a patient to a specialised hospital as his life was in danger. Thankfully, he is now alive and well.\n",
      "The second time was to participate in the burial of a dear friend who had died. He was an administrative employee in a local hospital but was working as a volunteer to provide first aid to the injured. One day, he was transferring an injured patient to the hospital.\n",
      "The car was going fast—there was no ambulance and they were using an open pickup. My friend fell from the car and was taken to a hospital. I was not able to visit him, as I was busy here; we were receiving many cases and it was important for me to stay in order to supervise the nurses, nursing assistants, cleaning staff, and others. On the third day after his injury, I received news of his death. The second time I went outside the hospital was to say farewell to my friend and participate in the burial. He was a pleasant, hard-working and brave person.\n",
      "My family left with our neighbours to an area outside Aden for their own safety. I wasn’t able to see them or say goodbye. My house is not far from the hospital, about 3km away, but it feels like thousands of kilometres. I cannot go and check if everything is OK there. I\n",
      "FREDERICTON– Nearly 7,000 immigrants entered the province’s workforce between 2011 and 2016, contributing about $168 million annually to the provincial budget, according to an economic impact study conducted by Jupia Consultants for the New Brunswick Multicultural Council (NBMC).\n",
      "Alex LeBlanc, executive director of NBMC, says it’s difficult to show the exact impact of immigrants on the economy, so the report includes economic models and estimations based on various data sets from Statistics Canada.\n",
      "“What [the report] shows is that if they arrived between 2011 and 2016 and they were participating in the workforce to that extent, there really is a pretty quick integration into the workforce. And within that five-year period, people hit the ground running,” he said.\n",
      "According to the report, the contribution is based on more than $129 million of implied annual tax payments to the province, and federal transfer payments, which amounted to $4,200 per capita in 2017. The transfer payments “are almost entirely distributed based on population,” the report said.\n",
      "LeBlanc said with more than 64 per cent of the provincial budget relying on residents’ taxes, it’s necessary to grow the population.\n",
      "“If we’re going to have a plan for growing our economy and maintaining our public services, it has to be anchored in growing our population base,” he said.\n",
      "The report also found that the 6,960 immigrants plus more than 900 international students\n",
      "FREDERICTON– Nearly 7,000 immigrants entered the province’s workforce between 2011 and 2016, contributing about $168 million annually to the provincial budget, according to an economic impact study conducted by Jupia Consultants for the New Brunswick Multicultural Council (NBMC).\n",
      "Alex LeBlanc, executive director of NBMC, says it’s difficult to show the exact impact of immigrants on the economy, so the report includes economic models and estimations based on various data sets from Statistics Canada.\n",
      "“What [the report] shows is that if they arrived between 2011 and 2016 and they were participating in the workforce to that extent, there really is a pretty quick integration into the workforce. And within that five-year period, people hit the ground running,” he said.\n",
      "According to the report, the contribution is based on more than $129 million of implied annual tax payments to the province, and federal transfer payments, which amounted to $4,200 per capita in 2017. The transfer payments “are almost entirely distributed based on population,” the report said.\n",
      "LeBlanc said with more than 64 per cent of the provincial budget relying on residents’ taxes, it’s necessary to grow the population.\n",
      "“If we’re going to have a plan for growing our economy and maintaining our public services, it has to be anchored in growing our population base,” he said.\n",
      "The report also found that the 6,960 immigrants plus more than 900 international students who\n",
      "Download a standard PAGB booking form.\n",
      "In recent years there has been a tendency for clubs to deviate from using the standard booking forms and change to an email based booking system. Whilst we still recommend using a standard form, if you deviate from this as a club, you must ensure that the Lecturer or Judge receives all the information that is on the standard booking form. Lecturers and Judges who do not receive adequate information may decline the booking. Simply sending an email is not enough – you must ensure that you have also received a reply in order to ensure that your booking is made securely.\n",
      "From time to time clubs like to create a flyer or a blog post about a forthcoming lecture, illustrated by an image by the guest speaker. Please ensure that you ask permission of the speaker and don’t just take an image from his/her website. Most speakers will supply an image or two if asked!\n",
      "Reminders should be sent at least 10 days before the event. Please ensure that your Judge/Lecturer knows how to get to your venue, where to park and that final arrangements are made.\n",
      "When should expenses be agreed?\n",
      "The club must ensure that all expenses are agreed at the time of booking.\n",
      "What may Judges and Lecturers charge?\n",
      "Listed L&CPU Judges and Lecturers are restricted to charges set by the PAGB below.\n",
      "Fees. In the L&CPU, our approved lecturers and judges do not charge a fee in addition to their travel expenses.\n",
      "Some\n",
      "Download a standard PAGB booking form.\n",
      "In recent years there has been a tendency for clubs to deviate from using the standard booking forms and change to an email based booking system. Whilst we still recommend using a standard form, if you deviate from this as a club, you must ensure that the Lecturer or Judge receives all the information that is on the standard booking form. Lecturers and Judges who do not receive adequate information may decline the booking. Simply sending an email is not enough – you must ensure that you have also received a reply in order to ensure that your booking is made securely.\n",
      "From time to time clubs like to create a flyer or a blog post about a forthcoming lecture, illustrated by an image by the guest speaker. Please ensure that you ask permission of the speaker and don’t just take an image from his/her website. Most speakers will supply an image or two if asked!\n",
      "Reminders should be sent at least 10 days before the event. Please ensure that your Judge/Lecturer knows how to get to your venue, where to park and that final arrangements are made.\n",
      "When should expenses be agreed?\n",
      "The club must ensure that all expenses are agreed at the time of booking.\n",
      "What may Judges and Lecturers charge?\n",
      "Listed L&CPU Judges and Lecturers are restricted to charges set by the PAGB below.\n",
      "Fees. In the L&CPU, our approved lecturers and judges do not charge a fee in addition to their travel expenses.\n",
      "Some clubs\n",
      "Very Long Post Ahead. Here it is - that time again. This End of the Year Survey hosted by The Perpetual Page-Turner has remained a favorite of mine to look forward to every year. It's enjoyable to reflect back on the past twelves month and what I've read, picking out my favorites, the quirks, the hit or miss moments. If you're curious on my answers from previous months, check out 2012, 2013, 2014, and 2015.\n",
      "2016 has been another excellent year with reading.\n",
      "I passed my Goodreads goal (the highest set yet), and although I doubt I can do it every year depending on what's going on, for the first time I went over 200 books. I remember when I barely made 100, then 150, now this. I focused on trying to get a number of books done per month (17) and making up for months when I was short of the goal other times. As always it was a fun year of reading - I discovered new favorite authors, finished some series I wanted to get through, discovered some new 2016 reads, and had general fun participating in some team challenges on GR.\n",
      "Yearly Challenges Participated In: On the blog, 13. On Goodreads, four team challenges and multiple individual challenges.\n",
      "I can never, ever name just one. I read several five stars this year - I'm not including re-reads for this\n",
      "Very Long Post Ahead. Here it is - that time again. This End of the Year Survey hosted by The Perpetual Page-Turner has remained a favorite of mine to look forward to every year. It's enjoyable to reflect back on the past twelves month and what I've read, picking out my favorites, the quirks, the hit or miss moments. If you're curious on my answers from previous months, check out 2012, 2013, 2014, and 2015.\n",
      "2016 has been another excellent year with reading.\n",
      "I passed my Goodreads goal (the highest set yet), and although I doubt I can do it every year depending on what's going on, for the first time I went over 200 books. I remember when I barely made 100, then 150, now this. I focused on trying to get a number of books done per month (17) and making up for months when I was short of the goal other times. As always it was a fun year of reading - I discovered new favorite authors, finished some series I wanted to get through, discovered some new 2016 reads, and had general fun participating in some team challenges on GR.\n",
      "Yearly Challenges Participated In: On the blog, 13. On Goodreads, four team challenges and multiple individual challenges.\n",
      "I can never, ever name just one. I read several five stars this year - I'm not including re-reads for this one\n",
      "Daniel has been an active member of the Central Alberta Photographic Society for the past five years. He has been appointed as Competition Director for the past three years and has taken the CAPA (Canadian Association for Photographic Art) judging course. As an advanced photographer, Daniel has facilitated a number of presentations including: Lightroom Basics, High Dynamic Range (HDR) and Focus Stacking (in near future).\n",
      "Since retiring, Daniel has continued to follow his enthusiasm for photography with his digital camera. He has participated in various photography competitions over the past five years and has quickly progressed from the novice division to the advanced division.\n",
      "He has been awarded with many Certificates in an assortment of competition categories. Additionally, Daniel has also won first place trophies in the Corrigan and the President’s Choice competitions. He has been awarded “Photographer of the Year” for the last two years and is striving to achieve this honor once again this year. He very much enjoys the challenge of integrating various techniques and styles into his artistic process. He is known for his attention to detail, persistence, and dedication to get the “perfect shot”, especially when photographing wildlife and landscapes.\n",
      "Sandra is currently a photographic Artist; and been evolved in some form of Art her entire life. Born on the Prairies, she spent her childhood growing up in Calgary, where a deep love of Alberta’s nature and wanting to capture it artistically became a passion.\n",
      "Sandra’s style would fall into the romantic, pictorial\n"
     ]
    },
    {
     "name": "stderr",
     "output_type": "stream",
     "text": [
      "  6%|▌         | 118/2000 [00:07<02:09, 14.50it/s]"
     ]
    },
    {
     "name": "stdout",
     "output_type": "stream",
     "text": [
      "Daniel has been an active member of the Central Alberta Photographic Society for the past five years. He has been appointed as Competition Director for the past three years and has taken the CAPA (Canadian Association for Photographic Art) judging course. As an advanced photographer, Daniel has facilitated a number of presentations including: Lightroom Basics, High Dynamic Range (HDR) and Focus Stacking (in near future).\n",
      "Since retiring, Daniel has continued to follow his enthusiasm for photography with his digital camera. He has participated in various photography competitions over the past five years and has quickly progressed from the novice division to the advanced division.\n",
      "He has been awarded with many Certificates in an assortment of competition categories. Additionally, Daniel has also won first place trophies in the Corrigan and the President’s Choice competitions. He has been awarded “Photographer of the Year” for the last two years and is striving to achieve this honor once again this year. He very much enjoys the challenge of integrating various techniques and styles into his artistic process. He is known for his attention to detail, persistence, and dedication to get the “perfect shot”, especially when photographing wildlife and landscapes.\n",
      "Sandra is currently a photographic Artist; and been evolved in some form of Art her entire life. Born on the Prairies, she spent her childhood growing up in Calgary, where a deep love of Alberta’s nature and wanting to capture it artistically became a passion.\n",
      "Sandra’s style would fall into the romantic, pictorial,\n",
      "[Weekly 4koma] Can you see the crazy? Original character, Yuukin!\n",
      "It may not be February, but love is still in the air. Any girl would be excited for Christmas because that’s when boyfriends prove their worth! But there are always worries that go along with a season that makes you think of love – does he like me, is he being faithful, do we spend enough time together? Honestly, the only solution to all of these problems is to lock him up and tie him to a chair to make sure you two will be together… FOREVER!\n",
      "Moving on from all of the tsundere, we are happy to introduce another original character, Yuukin Aikyou. She is just like any other girl – caring, loving, sweet and will make sure that she does whatever is necessary to keep you two together. Hear that? Whatever is necessary. Yanderes are most commonly characterized by their crazy side, be it in love or otherwise. Check out this 4koma for a first hand example.\n",
      "Watch out, because Yuu is possessive of everything. But our yandere, Yuukin, did not gain this personality by chance. Her father was often away on business trips which left her mother always alone. To make matters worse, her mother did not understand Japanese and ended up ostracized from her community due to her foreign appearance. Over the years she developed a tendency to go into hysterical fits of depression\n",
      "[Weekly 4koma] Can you see the crazy? Original character, Yuukin!\n",
      "It may not be February, but love is still in the air. Any girl would be excited for Christmas because that’s when boyfriends prove their worth! But there are always worries that go along with a season that makes you think of love – does he like me, is he being faithful, do we spend enough time together? Honestly, the only solution to all of these problems is to lock him up and tie him to a chair to make sure you two will be together… FOREVER!\n",
      "Moving on from all of the tsundere, we are happy to introduce another original character, Yuukin Aikyou. She is just like any other girl – caring, loving, sweet and will make sure that she does whatever is necessary to keep you two together. Hear that? Whatever is necessary. Yanderes are most commonly characterized by their crazy side, be it in love or otherwise. Check out this 4koma for a first hand example.\n",
      "Watch out, because Yuu is possessive of everything. But our yandere, Yuukin, did not gain this personality by chance. Her father was often away on business trips which left her mother always alone. To make matters worse, her mother did not understand Japanese and ended up ostracized from her community due to her foreign appearance. Over the years she developed a tendency to go into hysterical fits of depression and\n",
      "Today’s blogger is Amy Norton, our behind-the-scenes editor. If word choice were an Olympic sport, she’d get the gold. Thanks to Amy for writing today’s post on the newest fashion destination in Nashville: Anthropologie Shoes and Accessories.\n",
      "What is it about spending a little time in Anthropologie that seems to soothe the soul? Mine, anyway. Whenever I need a pick-me-up (i.e. Winter 2011 – all of it), a quick spin through this favorite haunt always seems to lift my spirits. Doesn’t matter if I leave with the smallest of trinkets –maybe a candle or new pair of earrings– or an entire outfit purchased in anticipation of a new season. Although I might skulk in as Madame Frump, I always skip out feeling a little bit new again. And discovering a different way to reframe myself makes me happy to contemplate the contents of my closet again.\n",
      "Having just attended the grand opening of Anthropologie’s Shoes and Accessories Boutique in the Mall at Green Hills last week, I’m thrilled to know that all of my discretionary spending will now be trackable to one place. (Who needs groceries anyway, right?) Since I was a child, I’ve had a fetish for accessories, and Anthro’s newest store is brimming with amazing adornments from all around the world (not to mention our own back yard) in the form of jewelry, handbags, scarves, belts and shoes. Anything you need to elevate your standard\n"
     ]
    },
    {
     "name": "stderr",
     "output_type": "stream",
     "text": [
      "  6%|▋         | 130/2000 [00:07<01:03, 29.24it/s]"
     ]
    },
    {
     "name": "stdout",
     "output_type": "stream",
     "text": [
      "Today’s blogger is Amy Norton, our behind-the-scenes editor. If word choice were an Olympic sport, she’d get the gold. Thanks to Amy for writing today’s post on the newest fashion destination in Nashville: Anthropologie Shoes and Accessories.\n",
      "What is it about spending a little time in Anthropologie that seems to soothe the soul? Mine, anyway. Whenever I need a pick-me-up (i.e. Winter 2011 – all of it), a quick spin through this favorite haunt always seems to lift my spirits. Doesn’t matter if I leave with the smallest of trinkets –maybe a candle or new pair of earrings– or an entire outfit purchased in anticipation of a new season. Although I might skulk in as Madame Frump, I always skip out feeling a little bit new again. And discovering a different way to reframe myself makes me happy to contemplate the contents of my closet again.\n",
      "Having just attended the grand opening of Anthropologie’s Shoes and Accessories Boutique in the Mall at Green Hills last week, I’m thrilled to know that all of my discretionary spending will now be trackable to one place. (Who needs groceries anyway, right?) Since I was a child, I’ve had a fetish for accessories, and Anthro’s newest store is brimming with amazing adornments from all around the world (not to mention our own back yard) in the form of jewelry, handbags, scarves, belts and shoes. Anything you need to elevate your standard uniform\n",
      "These badges represent a set of personalities useful in the field of services nearby. Thank to your relations in the network, it's possible to get as much as desired. Receive one of these badges, means that a relation has recommended a feature of your character.\n",
      "Badge Balanced : People with this badge are in harmony between out their workload and their personal stuff. It is obvious to them \"Personal life should interfere rarely with the profesionnal life\".\n",
      "Badge Communicative : People who received this badge have shown they excel the art of communication in a private sphere as well as in a business environment.\n",
      "Badge Direct : People with this badge have the particularity to go straight to the point with tact.\n",
      "\"People who are direct keep their integrity by being honest towards others\", Kobad Ghandy.\n",
      "Badge Endearing : Endearing people are very appreciated by their relations. This means that people with this badge are in very good position to be supported or to receive help.\n",
      "Badge Friendly : People with this badge have good human contact to make friends and to keep them. Their main qualities come from their listening and communication.\n",
      "Badge Funny : People who received this badge have shown that it easy to entertain people whether they are kids or adults.\n",
      "Badge Generous : Generosity isn't just about money, it's also giving his time and attention. People with this badge have these generous qualities that express their greatness of soul.\n",
      "Badge Helpful : Be helpful or help others are strong actions that Yoomken defends and promotes in the network\n",
      "These badges represent a set of personalities useful in the field of services nearby. Thank to your relations in the network, it's possible to get as much as desired. Receive one of these badges, means that a relation has recommended a feature of your character.\n",
      "Badge Balanced : People with this badge are in harmony between out their workload and their personal stuff. It is obvious to them \"Personal life should interfere rarely with the profesionnal life\".\n",
      "Badge Communicative : People who received this badge have shown they excel the art of communication in a private sphere as well as in a business environment.\n",
      "Badge Direct : People with this badge have the particularity to go straight to the point with tact.\n",
      "\"People who are direct keep their integrity by being honest towards others\", Kobad Ghandy.\n",
      "Badge Endearing : Endearing people are very appreciated by their relations. This means that people with this badge are in very good position to be supported or to receive help.\n",
      "Badge Friendly : People with this badge have good human contact to make friends and to keep them. Their main qualities come from their listening and communication.\n",
      "Badge Funny : People who received this badge have shown that it easy to entertain people whether they are kids or adults.\n",
      "Badge Generous : Generosity isn't just about money, it's also giving his time and attention. People with this badge have these generous qualities that express their greatness of soul.\n",
      "Badge Helpful : Be helpful or help others are strong actions that Yoomken defends and promotes in the network.\n",
      "Founded in 2010, TICA’S has grown from its humble beginnings as a small family business into a market leader in the Egyptian textiles sector. TICA’S produces a wide variety of original products that are unique in the Egyptian market – from embroidered towels and tablecloths to beanbags and cushions, specifically designed for comfort. For more information on our wide range of goods, we encourage you to check out our Products.\n",
      "Through hard work, business savvy, and innovative thinking, brother and sister, Omar and Khadiga Magdy, and their mother Maha Moneim have transformed TICA’S from a side project, offering embroidered towels, into a retail and wholesale powerhouse, whose products can be found in Jordan, Kuwait, Greece, UAE, and throughout Egypt.\n",
      "The trio built brand recognition by tirelessly participating in events throughout Cairo, leading to the opening of the first TICA’S shop in Dandy Mall in Cairo, Egypt, in May 2010 and a shift in focus to business-to-business prospects for the company. Initial successes and hard work resulted in an expansion in distribution channels, including a network of retail stores and direct sales to hotels, travel agencies, and restaurants, among others. We are particularly proud of gaining a foothold in Cairo’s prestigious fashion retail store Beymen.\n",
      "The one constant throughout our early success is that Khadiga – known to family and friends as Tica – has provided the artistic inspiration, using her creative flair and witty sense of humor to produce\n"
     ]
    },
    {
     "name": "stderr",
     "output_type": "stream",
     "text": [
      "  7%|▋         | 138/2000 [00:07<01:02, 29.95it/s]"
     ]
    },
    {
     "name": "stdout",
     "output_type": "stream",
     "text": [
      "Founded in 2010, TICA’S has grown from its humble beginnings as a small family business into a market leader in the Egyptian textiles sector. TICA’S produces a wide variety of original products that are unique in the Egyptian market – from embroidered towels and tablecloths to beanbags and cushions, specifically designed for comfort. For more information on our wide range of goods, we encourage you to check out our Products.\n",
      "Through hard work, business savvy, and innovative thinking, brother and sister, Omar and Khadiga Magdy, and their mother Maha Moneim have transformed TICA’S from a side project, offering embroidered towels, into a retail and wholesale powerhouse, whose products can be found in Jordan, Kuwait, Greece, UAE, and throughout Egypt.\n",
      "The trio built brand recognition by tirelessly participating in events throughout Cairo, leading to the opening of the first TICA’S shop in Dandy Mall in Cairo, Egypt, in May 2010 and a shift in focus to business-to-business prospects for the company. Initial successes and hard work resulted in an expansion in distribution channels, including a network of retail stores and direct sales to hotels, travel agencies, and restaurants, among others. We are particularly proud of gaining a foothold in Cairo’s prestigious fashion retail store Beymen.\n",
      "The one constant throughout our early success is that Khadiga – known to family and friends as Tica – has provided the artistic inspiration, using her creative flair and witty sense of humor to produce a\n",
      "Learning at the Speed of Business (Part 3): All Hail the Queen!\n",
      "In part one of this blog series I wrote about the many and varied theories of learning. And in part two, I described the many different trends which are influencing the rapid change we see in the way people learn. Even with all this complexity, at the end of my previous blog I promised some good news – there is one thing which remains constant: context!\n",
      "For me this was a particularly thought provoking question – what are you learning when you sit in a classroom? I’m sure that most of you have attended some kind of classroom training, and however good it might have been you probably went straight back to your workplace having forgotten most of what you learnt.\n",
      "When I am presenting at Learning events, I often ask the audience a simple question. Take a moment to reflect, and to think about your most memorable learning experience. Where did it take place? In a classroom? Or while performing some task? When I ask this of my audiences, usually 90% of people say it is while performing some task. After recovering from the disappointment stemming from the fact that no one had replied that my presentation was their most memorable learning experience, I realised that this simple test brings me to our simple constant of learning. Learning is always more effective when delivered in context. Most learning professionals will tell you that content is king (and they’re right!). I will add to this – if content is king, context is queen\n",
      "Learning at the Speed of Business (Part 3): All Hail the Queen!\n",
      "In part one of this blog series I wrote about the many and varied theories of learning. And in part two, I described the many different trends which are influencing the rapid change we see in the way people learn. Even with all this complexity, at the end of my previous blog I promised some good news – there is one thing which remains constant: context!\n",
      "For me this was a particularly thought provoking question – what are you learning when you sit in a classroom? I’m sure that most of you have attended some kind of classroom training, and however good it might have been you probably went straight back to your workplace having forgotten most of what you learnt.\n",
      "When I am presenting at Learning events, I often ask the audience a simple question. Take a moment to reflect, and to think about your most memorable learning experience. Where did it take place? In a classroom? Or while performing some task? When I ask this of my audiences, usually 90% of people say it is while performing some task. After recovering from the disappointment stemming from the fact that no one had replied that my presentation was their most memorable learning experience, I realised that this simple test brings me to our simple constant of learning. Learning is always more effective when delivered in context. Most learning professionals will tell you that content is king (and they’re right!). I will add to this – if content is king, context is queen!\n",
      "\n",
      "All materials displayed or otherwise accessible through the Web site, including, without limitation, news articles, text, photographs, images, illustrations, audio clips, video clips, computer software and code (collectively, the Content) are protected under local and foreign copyright or other laws, and are owned by respective copyrightowners, its licensors or the party accredited as the provider of the Content. In addition, the Web site is protected under copyright law as a collective work and/or compilation pursuant to Local and foreign laws. You shall abide by all additional copyright notices, information and restrictions on or contained in any of the Content accessed through the Web site. ANY USE, REPRODUCTION, ALTERATION, MODIFICATION, PUBLIC PERFORMANCE OR DISPLAY, UPLOADING OR POSTING ONTO THE INTERNET, TRANSMISSION, REDISTRIBUTION OR OTHER EXPLOITATION OF THE WEBSITE OR OF ANY CONTENT, WHETHER IN WHOLE OR IN PART, OTHER THAN EXPRESSLY SET OUT HEREIN, IS PROHIBITED WITHOUT THE EXPRESS WRITTEN PERMISSION OF Realty Pro.\n",
      "CASTING CORPORATION, DESIGN are official marks or trademarks of the Local Broadcasting Corporation. Other names, words, titles, phrases, logos, designs, graphics, icons and trademarks displayed on the Web site may constitute registered or unregistered trademarks of third parties. While certain trademarks of third parties, the display of third-party trademarks on the Web site should not be taken to imply any relationship or license between VidLyf and the owner of said trademark\n"
     ]
    },
    {
     "name": "stderr",
     "output_type": "stream",
     "text": [
      "  7%|▋         | 142/2000 [00:07<01:18, 23.71it/s]"
     ]
    },
    {
     "name": "stdout",
     "output_type": "stream",
     "text": [
      "All materials displayed or otherwise accessible through the Web site, including, without limitation, news articles, text, photographs, images, illustrations, audio clips, video clips, computer software and code (collectively, the Content) are protected under local and foreign copyright or other laws, and are owned by respective copyrightowners, its licensors or the party accredited as the provider of the Content. In addition, the Web site is protected under copyright law as a collective work and/or compilation pursuant to Local and foreign laws. You shall abide by all additional copyright notices, information and restrictions on or contained in any of the Content accessed through the Web site. ANY USE, REPRODUCTION, ALTERATION, MODIFICATION, PUBLIC PERFORMANCE OR DISPLAY, UPLOADING OR POSTING ONTO THE INTERNET, TRANSMISSION, REDISTRIBUTION OR OTHER EXPLOITATION OF THE WEBSITE OR OF ANY CONTENT, WHETHER IN WHOLE OR IN PART, OTHER THAN EXPRESSLY SET OUT HEREIN, IS PROHIBITED WITHOUT THE EXPRESS WRITTEN PERMISSION OF Realty Pro.\n",
      "CASTING CORPORATION, DESIGN are official marks or trademarks of the Local Broadcasting Corporation. Other names, words, titles, phrases, logos, designs, graphics, icons and trademarks displayed on the Web site may constitute registered or unregistered trademarks of third parties. While certain trademarks of third parties, the display of third-party trademarks on the Web site should not be taken to imply any relationship or license between VidLyf and the owner of said trademark or\n",
      "BOSTON -- A disastrous 8th inning handed the Cubs a 6-2 loss to the Boston Red Sox on Sunday night, and it also gave the Red Sox the 2-1 series win.\n",
      "Cubs 42-year-old relief pitcher Koji Uehara (L, 0-2), pitching for the second day in a row, gave up three consecutive singles to start the bottom of the 8th with the game tied at 2. He was relieved by Pedro Strop who gave up a run on a wild pitch and another run on a groundout. Two more runs scored when Anthony Rizzo was unable to pick Addison Russell's throw out of the dirt at first base.\n",
      "Chicago was unable to get anything against Boston closer Craig Kimbrel in the 9th and fell to 5-4 on the 10 day, 9 game road trip.\n",
      "\"I'll take a 5-4 road trip. I will. I'll take a winning month. I will,\" Cubs manager Joe Maddon said. \"We are not clicking on all cylinders yet. We had opportunities to score more runs early and didn't do it. But overall I thought it was a really good road trip.\"\n",
      "Matt Barnes (W, 3-0) picked up the win in relief for the Red Sox, pitching a perfect eighth inning.\n",
      "The Cubs tied the game in the seventh inning when Jon Jay scored from on a wild pitch that the catcher could not find.\n",
      "\n",
      "BOSTON -- A disastrous 8th inning handed the Cubs a 6-2 loss to the Boston Red Sox on Sunday night, and it also gave the Red Sox the 2-1 series win.\n",
      "Cubs 42-year-old relief pitcher Koji Uehara (L, 0-2), pitching for the second day in a row, gave up three consecutive singles to start the bottom of the 8th with the game tied at 2. He was relieved by Pedro Strop who gave up a run on a wild pitch and another run on a groundout. Two more runs scored when Anthony Rizzo was unable to pick Addison Russell's throw out of the dirt at first base.\n",
      "Chicago was unable to get anything against Boston closer Craig Kimbrel in the 9th and fell to 5-4 on the 10 day, 9 game road trip.\n",
      "\"I'll take a 5-4 road trip. I will. I'll take a winning month. I will,\" Cubs manager Joe Maddon said. \"We are not clicking on all cylinders yet. We had opportunities to score more runs early and didn't do it. But overall I thought it was a really good road trip.\"\n",
      "Matt Barnes (W, 3-0) picked up the win in relief for the Red Sox, pitching a perfect eighth inning.\n",
      "The Cubs tied the game in the seventh inning when Jon Jay scored from on a wild pitch that the catcher could not find.\n",
      "The\n",
      "Oh boy, it’s finally here! After years of waiting and having to endure those horrible prequels, the long-awaited conclusion is finally here! Yes, that’s what I thought when I first heard the news. After years of making us wait and spend our hard earned money on a sleuth of teaser prequels and filler, Brian Herbert and KJA (or as I like to call him, NOT FRANK HERBERT!) finally delivered on their promise and released the damn Dune 7 novel!\n",
      "Like most fans, I had been waiting years for that day. Ever since KJA and Brian got together and announced that they would be releasing Dune 7, a book which Frank had apparently been working on shortly before he died, I was understandably excited. It was just a few years before this announcement that I had finally worked my way to the end of the Dune series (Chapterhouse: Dune) only to find that it ended on a cliffhanger note with numerous loose ends.\n",
      "For example, what was this mysterious enemy that the Honored Matres were fleeing? Who were the old man and woman from Duncan’s visions? What was Duncan’s role in all this; i.e. was he the new Kwisatz Haderach or something even greater? And above all, was this all the result of Leto’s vision, or were the main characters finally free of the Tyrant’s “Golden Path”? These and other questions I wanted answered, and\n"
     ]
    },
    {
     "name": "stderr",
     "output_type": "stream",
     "text": [
      "  7%|▋         | 147/2000 [00:08<01:08, 27.03it/s]"
     ]
    },
    {
     "name": "stdout",
     "output_type": "stream",
     "text": [
      "Oh boy, it’s finally here! After years of waiting and having to endure those horrible prequels, the long-awaited conclusion is finally here! Yes, that’s what I thought when I first heard the news. After years of making us wait and spend our hard earned money on a sleuth of teaser prequels and filler, Brian Herbert and KJA (or as I like to call him, NOT FRANK HERBERT!) finally delivered on their promise and released the damn Dune 7 novel!\n",
      "Like most fans, I had been waiting years for that day. Ever since KJA and Brian got together and announced that they would be releasing Dune 7, a book which Frank had apparently been working on shortly before he died, I was understandably excited. It was just a few years before this announcement that I had finally worked my way to the end of the Dune series (Chapterhouse: Dune) only to find that it ended on a cliffhanger note with numerous loose ends.\n",
      "For example, what was this mysterious enemy that the Honored Matres were fleeing? Who were the old man and woman from Duncan’s visions? What was Duncan’s role in all this; i.e. was he the new Kwisatz Haderach or something even greater? And above all, was this all the result of Leto’s vision, or were the main characters finally free of the Tyrant’s “Golden Path”? These and other questions I wanted answered, and I\n",
      "For you rabid drum corps fans out there who are already feeling the heat of summer and looking to get your hands on tickets to some of Drum Corps International's most popular events, mark your calendars for MEGA MONDAY on January 18! On that day, we'll be putting tickets on sale to more than 10 Premier Events scheduled for the 2010 DCI Tour. This will be your early opportunity to grab some of the best seats in the house for some of the most popular events of the year. EXTRA SPECIAL MEGA MONDAY OFFER: The first 500 fans to forward their e-mail receipt or phone order confirmation/account number from MEGA MONDAY ticket orders, along with name and mailing address to posteroffer@dci.org, will receive the brand-new and bodacious 2010 DCI Calendar Poster. This epic 23\" x 29\" work of art features all of the '09 World Championship corps on two sides, and is guaranteed to rock your drum corps socks off. Valued at $10, this poster is offered to you only while supplies last! View this poster.\n",
      "Dallas, Texas Thursday & Friday, July 22 & 23 Lake Highlands High School Houston, TX Thursday & Friday, July 22 & 23 Berry Athletic Complex Hattiesburg, MS Wednesday, July 28 Univ. of Southern Miss. Gadsden, AL Thursday, July 29 Gadsden City High School Murfreesboro, TN Friday, July\n",
      "For you rabid drum corps fans out there who are already feeling the heat of summer and looking to get your hands on tickets to some of Drum Corps International's most popular events, mark your calendars for MEGA MONDAY on January 18! On that day, we'll be putting tickets on sale to more than 10 Premier Events scheduled for the 2010 DCI Tour. This will be your early opportunity to grab some of the best seats in the house for some of the most popular events of the year. EXTRA SPECIAL MEGA MONDAY OFFER: The first 500 fans to forward their e-mail receipt or phone order confirmation/account number from MEGA MONDAY ticket orders, along with name and mailing address to posteroffer@dci.org, will receive the brand-new and bodacious 2010 DCI Calendar Poster. This epic 23\" x 29\" work of art features all of the '09 World Championship corps on two sides, and is guaranteed to rock your drum corps socks off. Valued at $10, this poster is offered to you only while supplies last! View this poster.\n",
      "Dallas, Texas Thursday & Friday, July 22 & 23 Lake Highlands High School Houston, TX Thursday & Friday, July 22 & 23 Berry Athletic Complex Hattiesburg, MS Wednesday, July 28 Univ. of Southern Miss. Gadsden, AL Thursday, July 29 Gadsden City High School Murfreesboro, TN Friday, July \n",
      "Members of your family have already met with staff of Bet-Olam Jewish Funerals. However, it might be helpful to review these formalities.\n",
      "The legal documents which were signed during the meeting with the funeral director enable the funeral to take place. Forms for the cemetery and also information to be lodged with the Department of Births, Deaths and Marriages were also completed during this meeting. This information not only notifies the department that your loved one has passed away but enables the department to produce the official Death Certificate. This certificate will be forwarded in four to six weeks directly to the person who signed the documentation.\n",
      "The Bet-Olam Jewish Funeral forms (one copy for you and the other for Bet-Olam) have details of the time, car pick-up time (if applicable), date and location of the funeral.\n",
      "This form also shows the costs which, by law, we must explain to you.\n",
      "This is the cost of the actual grave with headstone that Springvale Botanical Gardens charges Bet-Olam Jewish funerals.\n",
      "The cemetery internment fee is the cost of preparing or digging the actual grave – Springvale Botanical Gardens charges Bet-Olam for this service.\n",
      "This covers the transfer, mortuary, coffin, bookings with the cemetery and death certificate lodgment. These are arrangements that Bet-Olam Jewish Funerals puts into place to enable the funeral to proceed.\n",
      "If the service is a cremation, a fee is charged to Bet-Olam Jewish Funerals by Springvale Botanical Gardens.\n"
     ]
    },
    {
     "name": "stderr",
     "output_type": "stream",
     "text": [
      "  8%|▊         | 151/2000 [00:08<01:23, 22.26it/s]"
     ]
    }
   ],
   "source": [
    "from tqdm import tqdm\n",
    "import convert_llama\n",
    "# for gamma in [0,0.2]:\n",
    "#     for beta in [0,0.2]:\n",
    "SAMPLE_NUM = 2000\n",
    "MAX_LENGTH = 300\n",
    "OUTPUT_LENTGH = 1\n",
    "alpha = 0.2\n",
    "# for gamma,beta in [(0,0.3),(0.3,0),(0.2,0.2)]:\n",
    "for gamma, beta in [(0.3,0.1)]:\n",
    "# for gamma, beta in [(0,0.1)]:\n",
    "# for gamma, beta in [(0.3221,0)]:\n",
    "# for gamma,beta in [(0.1,0.2),(0.2,0.1),(0.2,0.2)]:\n",
    "    print(f\"alpha: {alpha}, gamma: {gamma}, beta: {beta}\")\n",
    "    convert_llama.convert_llama_model(model, sparsity=0.1, start_num=21, end_num=32, alpha=alpha, beta=beta, gamma=gamma, use_core=False)\n",
    "    # for layerid in range(22,32):\n",
    "    #     model.model.layers[layerid].mlp.clear_list()\n",
    "\n",
    "    # for c4_demo in c4['validation']['text'][:SAMPLE_NUM]:\n",
    "    for c4_demo in tqdm(c4['validation']['text'][:SAMPLE_NUM]):\n",
    "        input_demo = tokenizer(c4_demo, padding=False, truncation=True, max_length=MAX_LENGTH, return_tensors=\"pt\")\n",
    "        if input_demo.input_ids.shape[1] < MAX_LENGTH:\n",
    "            continue\n",
    "        # print(tokenizer.batch_decode(input_demo.input_ids, skip_special_tokens=True, clean_up_tokenization_spaces=False)[0])\n",
    "        generate_ids = model.generate(input_demo.input_ids.to('cuda:0'), max_length=MAX_LENGTH+OUTPUT_LENTGH, generation_config=GenerationConfig(do_sample=False), pad_token_id=tokenizer.eos_token_id)\n",
    "        # tokenizer.batch_decode(generate_ids, skip_special_tokens=True, clean_up_tokenization_spaces=False)[0]\n",
    "        # print(tokenizer.batch_decode(generate_ids, skip_special_tokens=True, clean_up_tokenization_spaces=False)[0])\n",
    "    for layerid in range(22,32):\n",
    "        model.model.layers[layerid].mlp.print_ratio()\n"
   ]
  },
  {
   "cell_type": "code",
   "execution_count": 43,
   "metadata": {},
   "outputs": [
    {
     "name": "stderr",
     "output_type": "stream",
     "text": [
      "Convert Llama Models: 0it [00:00, ?it/s]"
     ]
    },
    {
     "name": "stderr",
     "output_type": "stream",
     "text": [
      "Convert Llama Models: 462it [00:02, 208.40it/s]\n"
     ]
    },
    {
     "name": "stdout",
     "output_type": "stream",
     "text": [
      "Converted Model Done\n"
     ]
    },
    {
     "name": "stderr",
     "output_type": "stream",
     "text": [
      "100%|██████████| 200/200 [03:20<00:00,  1.00s/it]"
     ]
    },
    {
     "name": "stdout",
     "output_type": "stream",
     "text": [
      "Perplexity: 2.3604316777980006\n"
     ]
    },
    {
     "name": "stderr",
     "output_type": "stream",
     "text": [
      "\n"
     ]
    }
   ],
   "source": [
    "import torch\n",
    "from tqdm import tqdm\n",
    "import convert_llama\n",
    "import numpy as np\n",
    "import math\n",
    "from transformers import AutoTokenizer, AutoModelForCausalLM\n",
    "\n",
    "# 1. 定义超参数\n",
    "SAMPLE_NUM = 200\n",
    "MAX_LENGTH = 300\n",
    "OUTPUT_LENTGH = 30\n",
    "alpha = 0.2\n",
    "beta = 0\n",
    "gamma = 1.0\n",
    "\n",
    "eos_token_id = tokenizer.convert_tokens_to_ids('.')\n",
    "\n",
    "convert_llama.convert_llama_model(model, sparsity=0.1, start_num=20, end_num=32, alpha=alpha, beta=beta, gamma=gamma)\n",
    "ppl_list = []\n",
    "# 2. 准备输入文本\n",
    "for c4_demo in tqdm(c4['validation']['text'][:SAMPLE_NUM]):\n",
    "    input_demo = tokenizer(c4_demo, padding=False, truncation=True, max_length=MAX_LENGTH, return_tensors=\"pt\")\n",
    "    if input_demo.input_ids.shape[1] < MAX_LENGTH:\n",
    "        continue\n",
    "    # input_ids = tokenizer.encode(prompt, return_tensors='pt').to(device)\n",
    "\n",
    "    with torch.no_grad():\n",
    "        outputs = model(input_demo.input_ids.cuda(), use_cache=True)\n",
    "        past_key_values = outputs.past_key_values\n",
    "    \n",
    "    generated = input_demo.input_ids\n",
    "    log_prob = []\n",
    "    # 3. 生成文本[不应该用model.generate, 手写一个方便测试困惑度]\n",
    "    for _ in range(OUTPUT_LENTGH):\n",
    "        with torch.no_grad():\n",
    "            input_ids = generated[:, -1:].cuda()\n",
    "            outputs = model(input_ids=input_ids, past_key_values=past_key_values, use_cache=True)\n",
    "            logits = outputs.logits\n",
    "            past_key_values = outputs.past_key_values\n",
    "\n",
    "            # print(logits.shape) # [1, 1, 128256]\n",
    "            # print(input_ids.shape) # [1, 1]\n",
    "            # labels = input_ids[:, :]\n",
    "            probs = torch.softmax(logits[:,:], dim=-1)\n",
    "            probs = torch.max(probs.squeeze(0))\n",
    "            # print(probs, labels)\n",
    "            # print(probs)\n",
    "            log_prob.append(probs.log2().cpu().numpy())\n",
    "    \n",
    "        next_token_logits = logits[:, -1, :]\n",
    "        next_token_id = torch.argmax(next_token_logits, dim=-1)\n",
    "    \n",
    "        generated = torch.cat((generated.cuda(), next_token_id.unsqueeze(-1)), dim=1)\n",
    "    \n",
    "        next_token_text = tokenizer.decode(next_token_id)\n",
    "        # print(next_token_text, end='', flush=True)\n",
    "    \n",
    "        # if next_token_id.item() == eos_token_id:\n",
    "        #     break\n",
    "        # if '.' in next_token_text:\n",
    "        #     break\n",
    "    ppl_item = - np.sum(log_prob) / len(log_prob)\n",
    "    ppl_list.append(ppl_item)\n",
    "\n",
    "\n",
    "ce = np.sum(ppl_list) / len(ppl_list)\n",
    "ppl = 2 ** ce\n",
    "print(f\"Perplexity: {ppl.item()}\")"
   ]
  },
  {
   "cell_type": "code",
   "execution_count": 2,
   "metadata": {},
   "outputs": [
    {
     "name": "stdout",
     "output_type": "stream",
     "text": [
      "[prefill] in gate layer: 15\n",
      "[prefill] in up layer: 15\n"
     ]
    },
    {
     "data": {
      "text/plain": [
       "'The woman who died after falling from a bridge over the A21 has been identified as a Sevenoaks mum.\\nMarta Kendle, 37, fell from the Gracious Lane bridge on the morning of February 19.\\nPolice were called to the carriageway around 6.10am and the road was promptly closed in both directions.\\nDespite paramedics best efforts, Marta, who was originally from Poland, was pronounced dead at the scene.\\nKent and Medway Coroners office have confirmed an inquest into her death will open on Wednesday (February 27).\\nTributes to the mum were left at the scene and on social media.\\nFriend, Jodi Cahill posted on Facebook: \"I will certainly remember you. I am sorry we did not see how lost and alone you felt.\\n\"Be at peace dear Marta.\"\\nA floral tribute left at the scene said goodbye to the \"beautiful and kind soul\".\\nIt read: \"To a beautiful and kind soul. You will be missed. Rest in peace.\"\\nA spokesman for Kent Police said: \"Officers were called to the A21 at Gracious Lane,'"
      ]
     },
     "execution_count": 2,
     "metadata": {},
     "output_type": "execute_result"
    }
   ],
   "source": [
    "### 使用greedy decode\n",
    "generate_ids = model.generate(input_demo.input_ids.to('cuda:0'), max_length=230, generation_config=GenerationConfig(do_sample=False), pad_token_id=tokenizer.eos_token_id)\n",
    "tokenizer.batch_decode(generate_ids, skip_special_tokens=True, clean_up_tokenization_spaces=False)[0]"
   ]
  },
  {
   "cell_type": "code",
   "execution_count": 3,
   "metadata": {},
   "outputs": [
    {
     "name": "stdout",
     "output_type": "stream",
     "text": [
      "in decode, gate layer 15\n",
      "Overlap count: 1243.8621, Overlap ratio: 0.8680\n",
      "in decode, up layer 15\n",
      "Overlap count: 1080.8966, Overlap ratio: 0.7543\n"
     ]
    }
   ],
   "source": [
    "model.model.layers[15].mlp.gate_proj.coreinfer_recall()\n",
    "model.model.layers[15].mlp.up_proj.coreinfer_recall()"
   ]
  },
  {
   "cell_type": "markdown",
   "metadata": {},
   "source": [
    "## wanda剪枝的思路"
   ]
  },
  {
   "cell_type": "markdown",
   "metadata": {},
   "source": [
    "### 构建wanda数据集"
   ]
  },
  {
   "cell_type": "code",
   "execution_count": null,
   "metadata": {},
   "outputs": [],
   "source": [
    "import random\n",
    "from datasets import load_dataset\n",
    "\n",
    "def get_c4(nsamples, seed, seqlen, tokenizer):\n",
    "    # Load train and validation datasets\n",
    "    traindata = load_dataset('/home/lz/workspace/llama2-7b/HQQ/notebooks/draft', split='validation')\n",
    "\n",
    "    # Generate samples from training set\n",
    "    random.seed(seed)\n",
    "    trainloader = []\n",
    "    for _ in range(nsamples):\n",
    "        while True:\n",
    "            i = random.randint(0, len(traindata) - 1)\n",
    "            # print(traindata[i])\n",
    "            trainenc = tokenizer(traindata[i]['text'], return_tensors='pt')\n",
    "            if trainenc.input_ids.shape[1] > seqlen:\n",
    "                break\n",
    "        i = random.randint(0, trainenc.input_ids.shape[1] - seqlen - 1)\n",
    "        j = i + seqlen\n",
    "        inp = trainenc.input_ids[:, i:j]\n",
    "        tar = inp.clone()\n",
    "        tar[:, :-1] = -100\n",
    "        trainloader.append((inp, tar))\n",
    "\n",
    "    return trainloader\n",
    "from transformers import AutoTokenizer\n",
    "nsamples = 128\n",
    "seed = 0\n",
    "seqlen = 2048\n",
    "model_name = \"/mnt/storage/zyx/Meta-Llama-3-8B\"\n",
    "tokenizer = AutoTokenizer.from_pretrained(model_name)\n",
    "train_loader = get_c4(nsamples, seed, seqlen, tokenizer)"
   ]
  },
  {
   "cell_type": "code",
   "execution_count": null,
   "metadata": {},
   "outputs": [],
   "source": [
    "import torch\n",
    "import torch.nn as nn\n",
    "\n",
    "def prepare_calibration_input(model, dataloader, device):\n",
    "    use_cache = model.config.use_cache\n",
    "    model.config.use_cache = False\n",
    "    layers = model.model.layers\n",
    "\n",
    "    # dev = model.hf_device_map[\"model.embed_tokens\"]\n",
    "    if \"model.embed_tokens\" in model.hf_device_map:\n",
    "        device = model.hf_device_map[\"model.embed_tokens\"]\n",
    "\n",
    "    dtype = next(iter(model.parameters())).dtype\n",
    "    inps = torch.zeros((128, model.seqlen, model.config.hidden_size), dtype=dtype, device=device)\n",
    "    inps.requires_grad = False\n",
    "    cache = {'i': 0, 'attention_mask': None, \"position_ids\": None}\n",
    "\n",
    "    class Catcher(nn.Module):\n",
    "        def __init__(self, module):\n",
    "            super().__init__()\n",
    "            self.module = module\n",
    "        def forward(self, inp, **kwargs):\n",
    "            inps[cache['i']] = inp\n",
    "            cache['i'] += 1\n",
    "            cache['attention_mask'] = kwargs['attention_mask']\n",
    "            cache['position_ids'] = kwargs['position_ids']\n",
    "            raise ValueError\n",
    "    layers[0] = Catcher(layers[0])\n",
    "    for batch in dataloader:\n",
    "        try:\n",
    "            model(batch[0].to(device))\n",
    "        except ValueError:\n",
    "            pass \n",
    "    layers[0] = layers[0].module\n",
    "\n",
    "    outs = torch.zeros_like(inps)\n",
    "    attention_mask = cache['attention_mask']\n",
    "    position_ids = cache['position_ids']\n",
    "    model.config.use_cache = use_cache\n",
    "\n",
    "    return inps, outs, attention_mask, position_ids "
   ]
  },
  {
   "cell_type": "code",
   "execution_count": null,
   "metadata": {},
   "outputs": [],
   "source": [
    "from transformers import LlamaForCausalLM\n",
    "device = 'cuda:1'\n",
    "model = LlamaForCausalLM.from_pretrained(\n",
    "    model_name,\n",
    "    device_map=device,\n",
    "    use_cache=False,\n",
    "    torch_dtype=torch.float16,\n",
    ")\n",
    "model.seqlen = 2048"
   ]
  },
  {
   "cell_type": "code",
   "execution_count": null,
   "metadata": {},
   "outputs": [],
   "source": [
    "class WrappedGPT:\n",
    "    \"\"\"\n",
    "    This class wraps a GPT layer for specific operations.\n",
    "    \"\"\"\n",
    "\n",
    "    def __init__(self, layer, layer_id=0, layer_name=\"none\"):\n",
    "        self.layer = layer\n",
    "        self.dev = self.layer.weight.device\n",
    "        self.rows = layer.weight.data.shape[0]\n",
    "        self.columns = layer.weight.data.shape[1]\n",
    "\n",
    "        self.scaler_row = torch.zeros((self.columns), device=self.dev)\n",
    "        self.nsamples = 0\n",
    "\n",
    "        self.layer_id = layer_id \n",
    "        self.layer_name = layer_name\n",
    "\n",
    "    def add_batch(self, inp, out):\n",
    "        if len(inp.shape) == 2:\n",
    "            inp = inp.unsqueeze(0)\n",
    "        tmp = inp.shape[0]\n",
    "        if isinstance(self.layer, nn.Linear):\n",
    "            if len(inp.shape) == 3:\n",
    "                inp = inp.reshape((-1, inp.shape[-1]))\n",
    "            inp = inp.t()\n",
    "\n",
    "        self.scaler_row *= self.nsamples / (self.nsamples+tmp)\n",
    "        self.nsamples += tmp\n",
    "\n",
    "        inp = inp.type(torch.float32)\n",
    "        self.scaler_row += torch.norm(inp, p=2, dim=1) ** 2  / self.nsamples"
   ]
  },
  {
   "cell_type": "code",
   "execution_count": null,
   "metadata": {},
   "outputs": [],
   "source": [
    "with torch.no_grad():\n",
    "    inps, outs, attention_mask, position_ids = prepare_calibration_input(model, train_loader, device)\n",
    "layers = model.model.layers\n",
    "\n",
    "gate_scaler_row = []\n",
    "up_scaler_row = []\n",
    "\n",
    "for layer in layers:\n",
    "    ### 改成字典类型的集合 存 layer.mlp.gate_proj 和 layer.mlp.up_proj\n",
    "    subset = {\n",
    "        'gate_proj': layer.mlp.gate_proj,\n",
    "        'up_proj': layer.mlp.up_proj\n",
    "    }\n",
    "    wrapped_layers = {}\n",
    "    for name in subset:\n",
    "        wrapped_layers[name] = WrappedGPT(subset[name])\n",
    "    ### 定义hook函数\n",
    "    def add_batch(name):\n",
    "        def tmp(_, inp, out):\n",
    "            wrapped_layers[name].add_batch(inp[0].data, out.data)\n",
    "        return tmp\n",
    "\n",
    "    handles = []\n",
    "    for name in wrapped_layers:\n",
    "        handles.append(subset[name].register_forward_hook(add_batch(name)))\n",
    "    # handles.append(subset.register_forward_hook(add_batch('gate_proj')))\n",
    "    for j in range(nsamples):\n",
    "        with torch.no_grad():\n",
    "            outs[j] = layer(inps[j].unsqueeze(0),attention_mask=attention_mask, position_ids=position_ids)[0]\n",
    "    for h in handles:\n",
    "        h.remove()\n",
    "    inps, outs = outs, inps\n",
    "    print(wrapped_layers['gate_proj'].scaler_row)\n",
    "    gate_scaler_row.append(wrapped_layers['gate_proj'].scaler_row)\n",
    "    up_scaler_row.append(wrapped_layers['up_proj'].scaler_row)\n",
    "    # break\n"
   ]
  },
  {
   "cell_type": "code",
   "execution_count": null,
   "metadata": {},
   "outputs": [],
   "source": [
    "def prune_layer(specific_scaler_row, weight, layerid, sparsity_ratio=0.1):\n",
    "    W_metric = weight * torch.sqrt(specific_scaler_row[layerid].reshape((1,-1)))\n",
    "    W_mask = (torch.zeros_like(W_metric) == 1)  ## initialize a mask to be all False\n",
    "\n",
    "    sort_res = torch.sort(W_metric, dim=-1, stable=True)\n",
    "    # unstructured pruning\n",
    "    indices = sort_res[1][:,:int(W_metric.shape[1]*sparsity_ratio)]\n",
    "    W_mask.scatter_(1, indices, True)\n",
    "\n",
    "    return W_mask"
   ]
  },
  {
   "cell_type": "code",
   "execution_count": null,
   "metadata": {},
   "outputs": [],
   "source": [
    "layerid = 15\n",
    "with open('path.json', 'r') as file:\n",
    "    paths = json.load(file)\n",
    "    wanda_path = paths.get(\"wanda_path\", '')\n",
    "\n",
    "for sparsity_ratio in [0, 0.1, 0.2, 0.3, 0.4, 0.5, 0.6, 0.7, 0.8, 0.9]:\n",
    "    #### gate\n",
    "    this_data = model.model.layers[layerid].mlp.gate_proj.weight.data.clone()\n",
    "    this_mask = prune_layer(gate_scaler_row[layerid], this_data, layerid, sparsity_ratio)\n",
    "    this_data[this_mask] = 0\n",
    "    torch.save(this_data, f'{wanda_path}/gate_proj_{sparsity_ratio}.pt')\n",
    "    #### up\n",
    "    this_data_up = model.model.layers[layerid].mlp.up_proj.weight.data.clone()\n",
    "    this_mask_up = prune_layer(up_scaler_row[layerid], this_data_up, layerid, sparsity_ratio)\n",
    "    this_data_up[this_mask_up] = 0\n",
    "    torch.save(this_data_up, f'{wanda_path}/up_proj_{sparsity_ratio}.pt')"
   ]
  },
  {
   "cell_type": "markdown",
   "metadata": {},
   "source": [
    "### 测试剪枝后的准确率"
   ]
  },
  {
   "cell_type": "code",
   "execution_count": 10,
   "metadata": {},
   "outputs": [],
   "source": [
    "import torch.nn as nn\n",
    "class CustomModel(nn.Module):\n",
    "    def __init__(self, gate_proj_shape, up_proj_shape):\n",
    "        super(CustomModel, self).__init__()\n",
    "        self.gate_proj = nn.Parameter(torch.zeros(gate_proj_shape, dtype=torch.float32))\n",
    "        self.up_proj = nn.Parameter(torch.zeros(up_proj_shape, dtype=torch.float32))\n",
    "        self.activation = nn.SiLU()\n",
    "        self.gate_mask = None\n",
    "        self.up_mask = None\n",
    "\n",
    "    def load(self, gate_proj_path, up_proj_path):\n",
    "        self.gate_proj.data = torch.load(gate_proj_path).to(torch.float32)\n",
    "        self.up_proj.data = torch.load(up_proj_path).to(torch.float32)\n",
    "        self.gate_mask = self.gate_proj != 0\n",
    "        self.up_mask = self.up_proj != 0\n",
    "\n",
    "    def forward(self, inputs):\n",
    "        gate_outputs = self.activation(inputs @ (self.gate_proj * self.gate_mask).T)\n",
    "        up_outputs = inputs @ (self.up_proj * self.up_mask).T\n",
    "        outputs = gate_outputs * up_outputs\n",
    "        return outputs\n",
    "\n",
    "# 初始化自定义模型实例\n",
    "model = CustomModel(gate_proj_shape=(14336, 4096), up_proj_shape=(14336, 4096))"
   ]
  },
  {
   "cell_type": "code",
   "execution_count": 3,
   "metadata": {},
   "outputs": [
    {
     "name": "stdout",
     "output_type": "stream",
     "text": [
      "333186 333186\n",
      "333186 torch.Size([4096]) torch.Size([14336])\n"
     ]
    },
    {
     "name": "stderr",
     "output_type": "stream",
     "text": [
      "33it [00:10,  3.05it/s]"
     ]
    },
    {
     "name": "stdout",
     "output_type": "stream",
     "text": [
      "预测与标签选取的数量比: 2.0006978367062107\n",
      "覆盖率(Recall): 0.6892014713033654\n"
     ]
    },
    {
     "name": "stderr",
     "output_type": "stream",
     "text": [
      "\n"
     ]
    }
   ],
   "source": [
    "from tqdm import tqdm\n",
    "import torch.nn as nn\n",
    "from torch.utils.data import DataLoader, Dataset, random_split\n",
    "from torch.cuda.amp import GradScaler, autocast\n",
    "from torch.utils.tensorboard import SummaryWriter\n",
    "\n",
    "def sparse_row(row, keep_ratio=0.1, use_abs = False):\n",
    "    # 计算需要保留的参数数量\n",
    "    num_to_keep = int(keep_ratio * row.numel())\n",
    "    \n",
    "    # 找到绝对值最大的 num_to_keep 个参数的索引\n",
    "    if use_abs:\n",
    "        row = torch.abs(row)\n",
    "    topk_indices = torch.topk(row, num_to_keep).indices\n",
    "    # topk_indices = torch.topk(row, num_to_keep).indices\n",
    "    \n",
    "    # 创建一个与 row 相同大小的零张量\n",
    "    sparse_row = torch.zeros_like(row)\n",
    "    \n",
    "    # 将 topk_indices 对应的值置为 1\n",
    "    sparse_row[topk_indices] = 1\n",
    "    \n",
    "    return sparse_row\n",
    "\n",
    "def generate_label(y, sparsity, use_abs=False):\n",
    "    # 对每一行进行稀疏化\n",
    "    sparse_tensor = torch.stack([sparse_row(row, sparsity, use_abs) for row in y])\n",
    "    return sparse_tensor\n",
    "\n",
    "def test_model(model, val_loader, sparsity=0.1):\n",
    "    # 初始化总的统计变量\n",
    "    total_correct_preds = 0\n",
    "    total_preds = 0\n",
    "    total_labels = 0\n",
    "    total_masks = 0\n",
    "\n",
    "    with torch.no_grad():\n",
    "        for batch_idx, (inputs, targets) in tqdm(enumerate(val_loader)):\n",
    "            #### model.forward\n",
    "            outputs = model(inputs.to(torch.float32))\n",
    "\n",
    "            preds = generate_label(outputs, sparsity, use_abs = True)\n",
    "            truth = generate_label(targets, 0.1, use_abs = True)\n",
    "            # truth = targets\n",
    "            \n",
    "            # 计算当前batch的精度\n",
    "            dif = truth - preds\n",
    "            miss = dif > 0.0 # classifier didn't activated target neuron\n",
    "\n",
    "            total_correct_preds += (truth.sum(dim=1).float() - miss.sum(dim=1).float()).mean().item()\n",
    "            total_preds += (preds.sum(dim=1).float()).mean().item()\n",
    "            total_labels += (truth.sum(dim=1).float()).mean().item()\n",
    "\n",
    "    print('预测与标签选取的数量比:',(total_preds / total_labels))\n",
    "    print('覆盖率(Recall):',(total_correct_preds / total_labels))\n",
    "\n",
    "def train_model(model, train_loader, val_loader, criterion, optimizer, writer=None, epochs=25, layerid=1):\n",
    "    scaler = GradScaler()  # 创建 GradScaler 对象\n",
    "    for epoch in range(epochs):\n",
    "        epoch_loss = 0.0  # 初始化每个epoch的总loss\n",
    "        if epoch % 1 == 0:\n",
    "            print(f'---------after training {epoch} epochs---------')\n",
    "            test_model(model, val_loader, sparsity=0.2)\n",
    "        model.train()\n",
    "        for batch_idx, (inputs, targets) in enumerate(train_loader):\n",
    "            inputs, targets = inputs.cuda(), targets.cuda()\n",
    "\n",
    "            optimizer.zero_grad()\n",
    "\n",
    "            targets = generate_label(targets, 0.2, use_abs =True)\n",
    "\n",
    "            # 使用 autocast 来进行自动混合精度处理\n",
    "            with autocast():\n",
    "                outputs = model(inputs.to(torch.float32))\n",
    "                probs = outputs.sigmoid()\n",
    "                # cross_entropy\n",
    "                loss = criterion(probs, targets)\n",
    "\n",
    "            # 使用 GradScaler 来缩放损失，然后进行反向传播\n",
    "            # 注意：反向传播不包含在 autocast() 块中\n",
    "            scaler.scale(loss).backward()\n",
    "            # loss.backward()\n",
    "            optimizer.step()\n",
    "            # writer.add_scalar('Loss/Train', loss.item(), epoch * len(train_loader) + batch_idx)\n",
    "            # 调用 scaler.step() 来更新模型权重，并调用 scaler.update() 准备下一步\n",
    "            scaler.step(optimizer)\n",
    "            scaler.update()\n",
    "            \n",
    "            epoch_loss += loss.item()  # 累加每个batch的loss\n",
    "\n",
    "        print(f'Epoch {epoch} Loss: {epoch_loss / len(train_loader)}')  # 打印每个epoch的平均loss\n",
    "\n",
    "    print(f'---------after training {epochs} epochs---------')\n",
    "    test_model(model, val_loader, sparsity=0.2)\n",
    "    #torch.save(model.state_dict(), './predictor_wight/predictor01_twodata.pt')\n",
    "    torch.save(model.state_dict(), f'/home/lz/workspace/llama2-7b/moe-offloading/notebooks/output/sparsity/{layerid}.pt')\n",
    "\n",
    "layerid = 15\n",
    "dataset = CustomDataset(layerid, startid=1, endid=4)\n",
    "print(len(dataset), dataset[0][0].shape, dataset[0][1].shape) # torch.Size([512, 4096])\n",
    "# 划分训练集和验证集\n",
    "train_size = int(0.9 * len(dataset))\n",
    "val_size = len(dataset) - train_size\n",
    "train_dataset, val_dataset = random_split(dataset, [train_size, val_size])\n",
    "train_loader = DataLoader(train_dataset, batch_size=1024, shuffle=True)\n",
    "val_loader = DataLoader(val_dataset, batch_size=1024, shuffle=False)\n",
    "\n",
    "# train_model(model, train_loader, val_loader, criterion, optimizer, writer=writer, epochs=4, layerid=15)"
   ]
  },
  {
   "cell_type": "code",
   "execution_count": 13,
   "metadata": {},
   "outputs": [
    {
     "name": "stdout",
     "output_type": "stream",
     "text": [
      "gate_sparsity: 0, up_sparsity: 0\n"
     ]
    },
    {
     "name": "stderr",
     "output_type": "stream",
     "text": [
      "33it [00:09,  3.46it/s]\n"
     ]
    },
    {
     "name": "stdout",
     "output_type": "stream",
     "text": [
      "预测与标签选取的数量比: 2.0006978367062107\n",
      "覆盖率(Recall): 1.0\n",
      "gate_sparsity: 0, up_sparsity: 0.1\n"
     ]
    },
    {
     "name": "stderr",
     "output_type": "stream",
     "text": [
      "33it [00:09,  3.46it/s]\n"
     ]
    },
    {
     "name": "stdout",
     "output_type": "stream",
     "text": [
      "预测与标签选取的数量比: 2.0006978367062107\n",
      "覆盖率(Recall): 0.8319152071818366\n",
      "gate_sparsity: 0, up_sparsity: 0.2\n"
     ]
    },
    {
     "name": "stderr",
     "output_type": "stream",
     "text": [
      "33it [00:09,  3.48it/s]\n"
     ]
    },
    {
     "name": "stdout",
     "output_type": "stream",
     "text": [
      "预测与标签选取的数量比: 2.0006978367062107\n",
      "覆盖率(Recall): 0.7632567832775923\n",
      "gate_sparsity: 0, up_sparsity: 0.3\n"
     ]
    },
    {
     "name": "stderr",
     "output_type": "stream",
     "text": [
      "33it [00:09,  3.44it/s]\n"
     ]
    },
    {
     "name": "stdout",
     "output_type": "stream",
     "text": [
      "预测与标签选取的数量比: 2.0006978367062107\n",
      "覆盖率(Recall): 0.7390745018124921\n",
      "gate_sparsity: 0.1, up_sparsity: 0\n"
     ]
    },
    {
     "name": "stderr",
     "output_type": "stream",
     "text": [
      "33it [00:09,  3.43it/s]\n"
     ]
    },
    {
     "name": "stdout",
     "output_type": "stream",
     "text": [
      "预测与标签选取的数量比: 2.0006978367062107\n",
      "覆盖率(Recall): 0.9057734071844139\n",
      "gate_sparsity: 0.1, up_sparsity: 0.1\n"
     ]
    },
    {
     "name": "stderr",
     "output_type": "stream",
     "text": [
      "33it [00:09,  3.43it/s]\n"
     ]
    },
    {
     "name": "stdout",
     "output_type": "stream",
     "text": [
      "预测与标签选取的数量比: 2.0006978367062107\n",
      "覆盖率(Recall): 0.741349908028955\n",
      "gate_sparsity: 0.1, up_sparsity: 0.2\n"
     ]
    },
    {
     "name": "stderr",
     "output_type": "stream",
     "text": [
      "33it [00:09,  3.35it/s]\n"
     ]
    },
    {
     "name": "stdout",
     "output_type": "stream",
     "text": [
      "预测与标签选取的数量比: 2.0006978367062107\n",
      "覆盖率(Recall): 0.6827520058984878\n",
      "gate_sparsity: 0.1, up_sparsity: 0.3\n"
     ]
    },
    {
     "name": "stderr",
     "output_type": "stream",
     "text": [
      "33it [00:09,  3.45it/s]\n"
     ]
    },
    {
     "name": "stdout",
     "output_type": "stream",
     "text": [
      "预测与标签选取的数量比: 2.0006978367062107\n",
      "覆盖率(Recall): 0.6621179141654243\n",
      "gate_sparsity: 0.2, up_sparsity: 0\n"
     ]
    },
    {
     "name": "stderr",
     "output_type": "stream",
     "text": [
      "33it [00:09,  3.39it/s]\n"
     ]
    },
    {
     "name": "stdout",
     "output_type": "stream",
     "text": [
      "预测与标签选取的数量比: 2.0006978367062107\n",
      "覆盖率(Recall): 0.8692518354972218\n",
      "gate_sparsity: 0.2, up_sparsity: 0.1\n"
     ]
    },
    {
     "name": "stderr",
     "output_type": "stream",
     "text": [
      "33it [00:09,  3.37it/s]\n"
     ]
    },
    {
     "name": "stdout",
     "output_type": "stream",
     "text": [
      "预测与标签选取的数量比: 2.0006978367062107\n",
      "覆盖率(Recall): 0.7150472766711901\n",
      "gate_sparsity: 0.2, up_sparsity: 0.2\n"
     ]
    },
    {
     "name": "stderr",
     "output_type": "stream",
     "text": [
      "33it [00:09,  3.40it/s]\n"
     ]
    },
    {
     "name": "stdout",
     "output_type": "stream",
     "text": [
      "预测与标签选取的数量比: 2.0006978367062107\n",
      "覆盖率(Recall): 0.6608203301565573\n",
      "gate_sparsity: 0.2, up_sparsity: 0.3\n"
     ]
    },
    {
     "name": "stderr",
     "output_type": "stream",
     "text": [
      "33it [00:09,  3.47it/s]\n"
     ]
    },
    {
     "name": "stdout",
     "output_type": "stream",
     "text": [
      "预测与标签选取的数量比: 2.0006978367062107\n",
      "覆盖率(Recall): 0.6418193925314125\n",
      "gate_sparsity: 0.3, up_sparsity: 0\n"
     ]
    },
    {
     "name": "stderr",
     "output_type": "stream",
     "text": [
      "33it [00:09,  3.43it/s]\n"
     ]
    },
    {
     "name": "stdout",
     "output_type": "stream",
     "text": [
      "预测与标签选取的数量比: 2.0006978367062107\n",
      "覆盖率(Recall): 0.853785499282834\n",
      "gate_sparsity: 0.3, up_sparsity: 0.1\n"
     ]
    },
    {
     "name": "stderr",
     "output_type": "stream",
     "text": [
      "33it [00:09,  3.41it/s]\n"
     ]
    },
    {
     "name": "stdout",
     "output_type": "stream",
     "text": [
      "预测与标签选取的数量比: 2.0006978367062107\n",
      "覆盖率(Recall): 0.704894166389118\n",
      "gate_sparsity: 0.3, up_sparsity: 0.2\n"
     ]
    },
    {
     "name": "stderr",
     "output_type": "stream",
     "text": [
      "33it [00:09,  3.44it/s]\n"
     ]
    },
    {
     "name": "stdout",
     "output_type": "stream",
     "text": [
      "预测与标签选取的数量比: 2.0006978367062107\n",
      "覆盖率(Recall): 0.6532204083947245\n",
      "gate_sparsity: 0.3, up_sparsity: 0.3\n"
     ]
    },
    {
     "name": "stderr",
     "output_type": "stream",
     "text": [
      "33it [00:09,  3.43it/s]"
     ]
    },
    {
     "name": "stdout",
     "output_type": "stream",
     "text": [
      "预测与标签选取的数量比: 2.0006978367062107\n",
      "覆盖率(Recall): 0.635375651310129\n"
     ]
    },
    {
     "name": "stderr",
     "output_type": "stream",
     "text": [
      "\n"
     ]
    }
   ],
   "source": [
    "\n",
    "# 加载gate_proj和up_proj\n",
    "for gate_sparsity in [0, 0.1, 0.2, 0.3]:\n",
    "    for up_sparsity in [0, 0.1, 0.2, 0.3]:\n",
    "        print(f'gate_sparsity: {gate_sparsity}, up_sparsity: {up_sparsity}')\n",
    "        \n",
    "        model = CustomModel(gate_proj_shape=(14336, 4096), up_proj_shape=(14336, 4096))\n",
    "        model.load(\n",
    "            gate_proj_path=f'/home/lz/workspace/llama2-7b/moe-offloading/notebooks/output/sparsity/wanda/gate_proj_{gate_sparsity}.pt',\n",
    "            up_proj_path=f'/home/lz/workspace/llama2-7b/moe-offloading/notebooks/output/sparsity/wanda/up_proj_{up_sparsity}.pt'\n",
    "        )\n",
    "        model.to(\"cuda\")  # 假设使用 GPU\n",
    "        test_model(model, val_loader, sparsity=0.2)"
   ]
  },
  {
   "cell_type": "markdown",
   "metadata": {},
   "source": [
    "## 加载保存的激活值"
   ]
  },
  {
   "cell_type": "code",
   "execution_count": 1,
   "metadata": {},
   "outputs": [],
   "source": [
    "from torch import nn\n",
    "import torch.nn.init as init\n",
    "import os\n",
    "os.environ[\"CUDA_VISIBLE_DEVICES\"] = \"1\"\n",
    "\n",
    "from torch.utils.tensorboard import SummaryWriter\n",
    "from torch.cuda.amp import GradScaler, autocast  \n",
    "from torch.utils.data import DataLoader, Dataset, random_split\n",
    "import torch.optim as optim\n",
    "import torch\n",
    "import json\n",
    "\n",
    "with open('path.json', 'r') as file:\n",
    "    paths = json.load(file)\n",
    "    save_path = paths.get('channel_gate_path','')\n",
    "\n",
    "def load_datasets(layerid = 1, expertid = 0, startid=1, endid=4, use_x1 = False):   \n",
    "    datasets_x = []\n",
    "    datasets_y = []\n",
    "    datasets_x1 = []\n",
    "    for fileid in range(startid, endid):\n",
    "        # print(fileid)\n",
    "        # 加一个map_location\n",
    "        d = torch.load(f'{save_path}/{fileid}-{layerid}-gate.pth', map_location=lambda storage, loc: storage.cuda(0))\n",
    "        datasets_x.append(d[0])\n",
    "        if use_x1:\n",
    "            datasets_x1.append(d[1])\n",
    "        datasets_y.append(d[-1])\n",
    "    x,y = torch.cat(datasets_x,dim=1), torch.cat(datasets_y,dim=1)\n",
    "    datasets_x.clear()\n",
    "    datasets_y.clear()\n",
    "    x = x.reshape(-1, 4096)\n",
    "    y = y.reshape(-1, 14336)\n",
    "    # print(x[0].shape)\n",
    "    if use_x1:\n",
    "        x1 = torch.cat(datasets_x1,dim=1)\n",
    "        datasets_x1.clear()\n",
    "        x1 = x1.reshape(-1, 14336)\n",
    "        return x,x1,y\n",
    "    return x,y\n",
    "    \n",
    "\n",
    "class CustomDataset(Dataset):\n",
    "    def __init__(self, layerid = 1, expertid = 0, startid=1, endid=4, use_x1 =False):\n",
    "        # 加载数据self.data_x1,\n",
    "        self.use_x1 = use_x1\n",
    "        if use_x1:\n",
    "            self.data_x, self.data_x1, self.data_y = load_datasets(layerid,startid=startid,endid=endid,use_x1=use_x1)\n",
    "            print(len(self.data_x1),len(self.data_x),len(self.data_y))\n",
    "        else:\n",
    "            self.data_x, self.data_y = load_datasets(layerid,startid=startid,endid=endid,use_x1=use_x1)\n",
    "            print(len(self.data_x),len(self.data_y))\n",
    "\n",
    "    def __len__(self):\n",
    "        return len(self.data_x)\n",
    "    \n",
    "    def __getitem__(self, idx):\n",
    "        if self.use_x1:\n",
    "            return self.data_x[idx],self.data_x1[idx],self.data_y[idx]\n",
    "        else:\n",
    "            return self.data_x[idx],self.data_y[idx]"
   ]
  },
  {
   "cell_type": "markdown",
   "metadata": {},
   "source": [
    "#### 查看分channel的特征"
   ]
  },
  {
   "cell_type": "code",
   "execution_count": 3,
   "metadata": {},
   "outputs": [
    {
     "name": "stdout",
     "output_type": "stream",
     "text": [
      "110137 110137\n",
      "31 110137 torch.Size([4096]) torch.Size([14336])\n"
     ]
    }
   ],
   "source": [
    "import torch\n",
    "### 统计的个数\n",
    "counts = 20000\n",
    "\n",
    "for layerid in range(22,32):\n",
    "    dataset = CustomDataset(layerid, startid=1, endid=2)\n",
    "    print(layerid, len(dataset), dataset[0][0].shape, dataset[0][1].shape) # torch.Size([512, 4096])\n",
    "    \n",
    "    updata_sum = torch.zeros_like(dataset[0][1])\n",
    "\n",
    "    for i in range(counts):\n",
    "        updata_sum += torch.abs(dataset[i][1])\n",
    "        # break\n",
    "\n",
    "    updata_sum /= counts\n",
    "    torch.save(updata_sum, f'{save_path}/{layerid}-average.pth')\n",
    "\n",
    "    # ### 遍历所有的数据集,计算每个位置的中位数\n",
    "    # dim = dataset[0][1].shape[0]\n",
    "\n",
    "    # # 创建一个列表,每个位置存储该位置所有非0值\n",
    "    # nonzero_values = [[] for _ in range(dim)]\n",
    "\n",
    "    # # 收集所有非0值\n",
    "    # for i in range(counts):\n",
    "    #     values = torch.abs(dataset[i][1])\n",
    "    #     for j in range(dim):\n",
    "    #         if values[j] != 0:\n",
    "    #             nonzero_values[j].append(values[j].item())\n",
    "\n",
    "    # # 计算每个位置非0值的中位数\n",
    "    # median_values = torch.zeros(dim, device=dataset[0][1].device)\n",
    "    # for i in range(dim):\n",
    "    #     if len(nonzero_values[i]) > 0:\n",
    "    #         median_values[i] = torch.tensor(sorted(nonzero_values[i])[len(nonzero_values[i])//2])\n",
    "    #     else:\n",
    "    #         median_values[i] = 0\n",
    "    # # 保存中位数\n",
    "    # torch.save(median_values, f'{save_path}/{layerid}-median.pth')"
   ]
  },
  {
   "cell_type": "code",
   "execution_count": 5,
   "metadata": {},
   "outputs": [],
   "source": [
    "layerid = 22\n",
    "aa = torch.load(f'{save_path}/{layerid}-median.pth')"
   ]
  },
  {
   "cell_type": "code",
   "execution_count": 7,
   "metadata": {},
   "outputs": [
    {
     "data": {
      "text/plain": [
       "torch.Size([14336])"
      ]
     },
     "execution_count": 7,
     "metadata": {},
     "output_type": "execute_result"
    }
   ],
   "source": [
    "aa.shape"
   ]
  },
  {
   "cell_type": "code",
   "execution_count": 2,
   "metadata": {},
   "outputs": [
    {
     "name": "stdout",
     "output_type": "stream",
     "text": [
      "110137 110137\n"
     ]
    }
   ],
   "source": [
    "layerid = 22\n",
    "dataset = CustomDataset(layerid, startid=1, endid=2)\n",
    "import torch\n",
    "### 遍历所有的数据集,计算每个位置的中位数\n",
    "counts = 300\n",
    "dim = dataset[0][1].shape[0]\n",
    "\n",
    "# 创建一个列表,每个位置存储该位置所有非0值\n",
    "nonzero_values = [[] for _ in range(dim)]\n",
    "\n",
    "# 收集所有非0值\n",
    "for i in range(counts):\n",
    "    values = torch.abs(dataset[i][1])\n",
    "    for j in range(dim):\n",
    "        if values[j] != 0:\n",
    "            nonzero_values[j].append(values[j].item())\n",
    "\n",
    "# 计算每个位置非0值的中位数\n",
    "median_values = torch.zeros(dim, device=dataset[0][1].device)\n",
    "for i in range(dim):\n",
    "    if len(nonzero_values[i]) > 0:\n",
    "        median_values[i] = torch.tensor(sorted(nonzero_values[i])[len(nonzero_values[i])//2])\n",
    "    else:\n",
    "        median_values[i] = 0"
   ]
  },
  {
   "cell_type": "code",
   "execution_count": null,
   "metadata": {},
   "outputs": [],
   "source": [
    "# 保存中位数\n",
    "torch.save(median_values, f'{save_path}/{layerid}-median.pth')"
   ]
  },
  {
   "cell_type": "code",
   "execution_count": 45,
   "metadata": {},
   "outputs": [
    {
     "data": {
      "text/plain": [
       "(tensor(11277, device='cuda:0'),\n",
       " tensor(3049, device='cuda:0'),\n",
       " tensor(14070, device='cuda:0'))"
      ]
     },
     "execution_count": 45,
     "metadata": {},
     "output_type": "execute_result"
    }
   ],
   "source": [
    "# 按中位数从大到小排序\n",
    "sorted_indices = torch.argsort(median_values, descending=True)\n",
    "sorted_medians = median_values[sorted_indices]\n",
    "sorted_indices[0], sorted_indices[200], sorted_indices[-1]"
   ]
  },
  {
   "cell_type": "code",
   "execution_count": 48,
   "metadata": {},
   "outputs": [
    {
     "data": {
      "text/plain": [
       "(array([150., 213., 150., 120.,  79.,  65.,  60.,  45.,  43.,  19.,  20.,\n",
       "         12.,   7.,   9.,   4.,   0.,   1.,   0.,   2.,   4.]),\n",
       " array([0.0322876 , 0.06641541, 0.10054321, 0.13467102, 0.16879883,\n",
       "        0.20292664, 0.23705444, 0.27118225, 0.30531006, 0.33943787,\n",
       "        0.37356567, 0.40769348, 0.44182129, 0.4759491 , 0.5100769 ,\n",
       "        0.54420471, 0.57833252, 0.61246033, 0.64658813, 0.68071594,\n",
       "        0.71484375]),\n",
       " <BarContainer object of 20 artists>)"
      ]
     },
     "execution_count": 48,
     "metadata": {},
     "output_type": "execute_result"
    },
    {
     "data": {
      "image/png": "[encoded data removed]",
      "text/plain": [
       "<Figure size 640x480 with 1 Axes>"
      ]
     },
     "metadata": {},
     "output_type": "display_data"
    }
   ],
   "source": [
    "import math\n",
    "### 遍历所有的数据集\n",
    "index = 14070\n",
    "counts = 2000\n",
    "updata_list = []\n",
    "\n",
    "for i in range(counts):\n",
    "    up_data = dataset[i][1]\n",
    "    if up_data[index] != 0:\n",
    "        updata_list.append(math.fabs(up_data[index]))\n",
    "    # break\n",
    "\n",
    "import matplotlib.pyplot as plt\n",
    "### 画一个频次图\n",
    "plt.hist(updata_list, bins=20, alpha=0.75, log=False)\n",
    "# plt.plot(updata_list)\n"
   ]
  },
  {
   "cell_type": "code",
   "execution_count": 14,
   "metadata": {},
   "outputs": [
    {
     "data": {
      "text/plain": [
       "(array([  43.,    0.,    0.,    0.,    6.,    7.,   30.,   40.,   63.,\n",
       "          76.,  111.,  142.,  168.,  213.,  307.,  386.,  499.,  638.,\n",
       "         711.,  853.,  912., 1005.,  989.,  953.,  897.,  788.,  688.,\n",
       "         524.,  372.,  309.,  195.,  158.,   83.,   41.,   14.,   15.,\n",
       "          18.,    5.,    0.,    3.]),\n",
       " array([0.00754166, 0.08264608, 0.15775051, 0.23285494, 0.30795937,\n",
       "        0.38306379, 0.45816822, 0.53327265, 0.60837708, 0.6834815 ,\n",
       "        0.75858593, 0.83369036, 0.90879478, 0.98389921, 1.05900364,\n",
       "        1.13410807, 1.20921249, 1.28431692, 1.35942135, 1.43452578,\n",
       "        1.5096302 , 1.58473463, 1.65983906, 1.73494349, 1.81004791,\n",
       "        1.88515234, 1.96025677, 2.03536119, 2.11046562, 2.18557005,\n",
       "        2.26067448, 2.3357789 , 2.41088333, 2.48598776, 2.56109219,\n",
       "        2.63619661, 2.71130104, 2.78640547, 2.8615099 , 2.93661432,\n",
       "        3.01171875]),\n",
       " <BarContainer object of 40 artists>)"
      ]
     },
     "execution_count": 14,
     "metadata": {},
     "output_type": "execute_result"
    },
    {
     "data": {
      "image/png": "[encoded data removed]",
      "text/plain": [
       "<Figure size 640x480 with 1 Axes>"
      ]
     },
     "metadata": {},
     "output_type": "display_data"
    }
   ],
   "source": [
    "import math\n",
    "### 遍历所有的数据集\n",
    "index = 7048\n",
    "counts = 12263\n",
    "updata_list = []\n",
    "\n",
    "for i in range(1,counts):\n",
    "    up_data = dataset[i][1]\n",
    "    updata_list.append(math.fabs(up_data[index]))\n",
    "    # break\n",
    "\n",
    "import matplotlib.pyplot as plt\n",
    "### 画一个频次图\n",
    "plt.hist(updata_list, bins=40, alpha=0.75)\n",
    "# plt.plot(updata_list)\n"
   ]
  },
  {
   "cell_type": "markdown",
   "metadata": {},
   "source": [
    "## 稀疏预测器"
   ]
  },
  {
   "cell_type": "code",
   "execution_count": 11,
   "metadata": {},
   "outputs": [],
   "source": [
    "class SimpleLinearModel(nn.Module):\n",
    "    def __init__(self,input_dim,output_dim,hidden_dim=32):\n",
    "        super(SimpleLinearModel, self).__init__()\n",
    "        self.linear1 = nn.Linear(input_dim, hidden_dim,bias=False)\n",
    "        # self.activation = nn.SiLU() # 添加激活函数\n",
    "        self.linear2 = nn.Linear(hidden_dim,output_dim,bias=False)  \n",
    "        init.kaiming_normal_(self.linear1.weight, mode='fan_out', nonlinearity='relu')\n",
    "        init.kaiming_normal_(self.linear2.weight, mode='fan_out', nonlinearity='relu')\n",
    "        # self.linear1.bias.data.fill_(0)\n",
    "        # self.linear2.bias.data.fill_(0)\n",
    "\n",
    "    def forward(self, x):\n",
    "        # x= self.activation(x)\n",
    "        return self.linear2(self.linear1(x))\n",
    "    \n",
    "model=SimpleLinearModel(4096,14336,hidden_dim=1024)\n",
    "model.to(\"cuda\")  # 假设使用 GPU\n",
    "# criterion = nn.MSELoss().to(\"cuda\")\n",
    "criterion = nn.CrossEntropyLoss().to(\"cuda\")\n",
    "# criterion = nn.KLDivLoss(reduction='batchmean').to(\"cuda\")\n",
    "optimizer = optim.Adam(model.parameters(), lr=5e-4) #lr=5e-5\n",
    "writer = SummaryWriter('runs/predictor_sparsity')"
   ]
  },
  {
   "cell_type": "code",
   "execution_count": 12,
   "metadata": {},
   "outputs": [],
   "source": [
    "from tqdm import tqdm\n",
    "\n",
    "cnt = 0\n",
    "\n",
    "def sparse_row(row, keep_ratio=0.1, use_abs = False):\n",
    "    # 计算需要保留的参数数量\n",
    "    num_to_keep = int(keep_ratio * row.numel())\n",
    "    \n",
    "    # 找到绝对值最大的 num_to_keep 个参数的索引\n",
    "    if use_abs:\n",
    "        row = torch.abs(row)\n",
    "    topk_indices = torch.topk(row, num_to_keep).indices\n",
    "    # topk_indices = torch.topk(row, num_to_keep).indices\n",
    "    \n",
    "    # 创建一个与 row 相同大小的零张量\n",
    "    sparse_row = torch.zeros_like(row)\n",
    "    \n",
    "    # 将 topk_indices 对应的值置为 1\n",
    "    sparse_row[topk_indices] = 1\n",
    "    \n",
    "    return sparse_row\n",
    "\n",
    "def generate_label(y, sparsity, use_abs=False):\n",
    "    # 对每一行进行稀疏化\n",
    "    sparse_tensor = torch.stack([sparse_row(row, sparsity, use_abs) for row in y])\n",
    "    return sparse_tensor\n",
    "\n",
    "def test_model(model, val_loader, sparsity=0.1):\n",
    "    model.eval()\n",
    "    # 初始化总的统计变量\n",
    "    total_correct_preds = 0\n",
    "    total_preds = 0\n",
    "    total_labels = 0\n",
    "    total_masks = 0\n",
    "\n",
    "    with torch.no_grad():\n",
    "        for batch_idx, (inputs, targets) in tqdm(enumerate(val_loader)):\n",
    "            with autocast():\n",
    "                outputs = model(inputs)\n",
    "\n",
    "            preds = generate_label(outputs, sparsity)\n",
    "            truth = generate_label(targets, 0.1, use_abs = True)\n",
    "            # truth = targets\n",
    "            \n",
    "            # 计算当前batch的精度\n",
    "            dif = truth - preds\n",
    "            miss = dif > 0.0 # classifier didn't activated target neuron\n",
    "\n",
    "            total_correct_preds += (truth.sum(dim=1).float() - miss.sum(dim=1).float()).mean().item()\n",
    "            total_preds += (preds.sum(dim=1).float()).mean().item()\n",
    "            total_labels += (truth.sum(dim=1).float()).mean().item()\n",
    "\n",
    "    # print('预测占比:{:.4f}'.format((total_preds/total_masks).item()))\n",
    "    # print('标签占比:{:.4f}'.format((total_labels/total_masks).item()))\n",
    "    print('预测与标签选取的数量比:',(total_preds / total_labels))\n",
    "    print('覆盖率(Recall):',(total_correct_preds / total_labels))\n",
    "\n",
    "def train_model(model, train_loader, val_loader, criterion, optimizer, writer, epochs=25, layerid=1):\n",
    "    scaler = GradScaler()  # 创建 GradScaler 对象\n",
    "    for epoch in range(epochs):\n",
    "        if epoch % 2 == 0:\n",
    "            print(f'---------after training {epoch} epochs---------')\n",
    "            test_model(model, val_loader, sparsity=0.2)\n",
    "        model.train()\n",
    "        for batch_idx, (inputs, targets) in enumerate(train_loader):\n",
    "            inputs, targets = inputs.cuda(), targets.cuda()\n",
    "\n",
    "            optimizer.zero_grad()\n",
    "\n",
    "            targets = generate_label(targets, 0.2, use_abs =True)\n",
    "\n",
    "            # 使用 autocast 来进行自动混合精度处理\n",
    "            with autocast():\n",
    "                outputs = model(inputs)\n",
    "                probs = outputs.sigmoid()\n",
    "                # cross_entropy\n",
    "                loss = criterion(probs, targets)\n",
    "\n",
    "            # 使用 GradScaler 来缩放损失，然后进行反向传播\n",
    "            # 注意：反向传播不包含在 autocast() 块中\n",
    "            scaler.scale(loss).backward()\n",
    "            writer.add_scalar('Loss/Train', loss.item(), epoch * len(train_loader) + batch_idx)\n",
    "            # 调用 scaler.step() 来更新模型权重，并调用 scaler.update() 准备下一步\n",
    "            scaler.step(optimizer)\n",
    "            scaler.update()\n",
    "    print(f'---------after training {epochs} epochs---------')\n",
    "    test_model(model, val_loader, sparsity=0.2)\n",
    "    global cnt\n",
    "    torch.save(model.state_dict(), f'./output/sparsity/{layerid}-{cnt}.pt')\n",
    "    cnt += 1\n"
   ]
  },
  {
   "cell_type": "code",
   "execution_count": 4,
   "metadata": {},
   "outputs": [
    {
     "name": "stdout",
     "output_type": "stream",
     "text": [
      "333186 333186\n",
      "333186 torch.Size([4096]) torch.Size([14336])\n",
      "---------after training 0 epochs---------\n"
     ]
    },
    {
     "name": "stderr",
     "output_type": "stream",
     "text": [
      "33it [00:08,  3.91it/s]\n"
     ]
    },
    {
     "name": "stdout",
     "output_type": "stream",
     "text": [
      "预测与标签选取的数量比: 2.0013956734124214\n",
      "覆盖率(Recall): 0.20009789296144784\n",
      "---------after training 2 epochs---------\n"
     ]
    },
    {
     "name": "stderr",
     "output_type": "stream",
     "text": [
      "33it [00:07,  4.16it/s]\n"
     ]
    },
    {
     "name": "stdout",
     "output_type": "stream",
     "text": [
      "预测与标签选取的数量比: 2.0013956734124214\n",
      "覆盖率(Recall): 0.5413863739824867\n",
      "---------after training 4 epochs---------\n"
     ]
    },
    {
     "name": "stderr",
     "output_type": "stream",
     "text": [
      "33it [00:08,  4.11it/s]\n"
     ]
    },
    {
     "name": "stdout",
     "output_type": "stream",
     "text": [
      "预测与标签选取的数量比: 2.0013956734124214\n",
      "覆盖率(Recall): 0.5608398667241754\n",
      "327227 327227\n",
      "327227 torch.Size([4096]) torch.Size([14336])\n",
      "---------after training 0 epochs---------\n"
     ]
    },
    {
     "name": "stderr",
     "output_type": "stream",
     "text": [
      "32it [00:07,  4.11it/s]\n"
     ]
    },
    {
     "name": "stdout",
     "output_type": "stream",
     "text": [
      "预测与标签选取的数量比: 2.0013956734124214\n",
      "覆盖率(Recall): 0.5442518565676384\n",
      "---------after training 2 epochs---------\n"
     ]
    },
    {
     "name": "stderr",
     "output_type": "stream",
     "text": [
      "32it [00:07,  4.15it/s]\n"
     ]
    },
    {
     "name": "stdout",
     "output_type": "stream",
     "text": [
      "预测与标签选取的数量比: 2.0013956734124214\n",
      "覆盖率(Recall): 0.5660076314389747\n",
      "---------after training 4 epochs---------\n"
     ]
    },
    {
     "name": "stderr",
     "output_type": "stream",
     "text": [
      "32it [00:07,  4.22it/s]\n"
     ]
    },
    {
     "name": "stdout",
     "output_type": "stream",
     "text": [
      "预测与标签选取的数量比: 2.0013956734124214\n",
      "覆盖率(Recall): 0.5710160334627693\n",
      "341549 341549\n",
      "341549 torch.Size([4096]) torch.Size([14336])\n",
      "---------after training 0 epochs---------\n"
     ]
    },
    {
     "name": "stderr",
     "output_type": "stream",
     "text": [
      "34it [00:08,  4.14it/s]\n"
     ]
    },
    {
     "name": "stdout",
     "output_type": "stream",
     "text": [
      "预测与标签选取的数量比: 2.0013956734124214\n",
      "覆盖率(Recall): 0.5556886096016526\n",
      "---------after training 2 epochs---------\n"
     ]
    },
    {
     "name": "stderr",
     "output_type": "stream",
     "text": [
      "34it [00:08,  4.22it/s]\n"
     ]
    },
    {
     "name": "stdout",
     "output_type": "stream",
     "text": [
      "预测与标签选取的数量比: 2.0013956734124214\n",
      "覆盖率(Recall): 0.5726461708435582\n",
      "---------after training 4 epochs---------\n"
     ]
    },
    {
     "name": "stderr",
     "output_type": "stream",
     "text": [
      "34it [00:08,  4.20it/s]\n"
     ]
    },
    {
     "name": "stdout",
     "output_type": "stream",
     "text": [
      "预测与标签选取的数量比: 2.0013956734124214\n",
      "覆盖率(Recall): 0.5752094106414646\n"
     ]
    }
   ],
   "source": [
    "for startid, endid in [(1,4),(4,7),(7,10)]:\n",
    "    layerid = 15\n",
    "    dataset = CustomDataset(layerid, startid=startid, endid=endid)\n",
    "    print(len(dataset), dataset[0][0].shape, dataset[0][1].shape) # torch.Size([512, 4096])\n",
    "    # 划分训练集和验证集\n",
    "    train_size = int(0.9 * len(dataset))\n",
    "    val_size = len(dataset) - train_size\n",
    "    train_dataset, val_dataset = random_split(dataset, [train_size, val_size])\n",
    "    train_loader = DataLoader(train_dataset, batch_size=1024, shuffle=True)\n",
    "    val_loader = DataLoader(val_dataset, batch_size=1024, shuffle=False)\n",
    "\n",
    "    train_model(model, train_loader, val_loader, criterion, optimizer, writer=writer, epochs=4, layerid=15)"
   ]
  },
  {
   "cell_type": "markdown",
   "metadata": {},
   "source": [
    "### 加载训练好的进行测试"
   ]
  },
  {
   "cell_type": "code",
   "execution_count": 13,
   "metadata": {},
   "outputs": [
    {
     "name": "stdout",
     "output_type": "stream",
     "text": [
      "333186 333186\n",
      "333186 torch.Size([4096]) torch.Size([14336])\n"
     ]
    },
    {
     "name": "stderr",
     "output_type": "stream",
     "text": [
      "33it [00:09,  3.30it/s]"
     ]
    },
    {
     "name": "stdout",
     "output_type": "stream",
     "text": [
      "预测与标签选取的数量比: 3.0006978367062107\n",
      "覆盖率(Recall): 0.6927953512494317\n"
     ]
    },
    {
     "name": "stderr",
     "output_type": "stream",
     "text": [
      "\n"
     ]
    }
   ],
   "source": [
    "layerid = 15\n",
    "dataset = CustomDataset(layerid, startid=1, endid=4)\n",
    "print(len(dataset), dataset[0][0].shape, dataset[0][1].shape) # torch.Size([512, 4096])\n",
    "# 划分训练集和验证集\n",
    "train_size = int(0.9 * len(dataset))\n",
    "val_size = len(dataset) - train_size\n",
    "train_dataset, val_dataset = random_split(dataset, [train_size, val_size])\n",
    "train_loader = DataLoader(train_dataset, batch_size=1024, shuffle=True)\n",
    "val_loader = DataLoader(val_dataset, batch_size=1024, shuffle=False)\n",
    "# model = SimpleLinearModel(4096,14336,hidden_dim=1024).cuda()\n",
    "model.load_state_dict(torch.load(f'./output/sparsity/15-2.pt'))\n",
    "test_model(model, val_loader, sparsity=0.3)"
   ]
  },
  {
   "cell_type": "markdown",
   "metadata": {},
   "source": [
    "### 下游任务测试"
   ]
  },
  {
   "cell_type": "code",
   "execution_count": 1,
   "metadata": {},
   "outputs": [
    {
     "ename": "KeyboardInterrupt",
     "evalue": "",
     "output_type": "error",
     "traceback": [
      "\u001b[0;31m---------------------------------------------------------------------------\u001b[0m",
      "\u001b[0;31mKeyboardInterrupt\u001b[0m                         Traceback (most recent call last)",
      "Cell \u001b[0;32mIn[1], line 10\u001b[0m\n\u001b[1;32m      7\u001b[0m os\u001b[38;5;241m.\u001b[39menviron[\u001b[38;5;124m\"\u001b[39m\u001b[38;5;124mHF_ENDPOINT\u001b[39m\u001b[38;5;124m\"\u001b[39m]\u001b[38;5;241m=\u001b[39m\u001b[38;5;124m\"\u001b[39m\u001b[38;5;124mhttps://hf-mirror.com\u001b[39m\u001b[38;5;124m\"\u001b[39m\n\u001b[1;32m      8\u001b[0m os\u001b[38;5;241m.\u001b[39menviron[\u001b[38;5;124m\"\u001b[39m\u001b[38;5;124mCUDA_VISIBLE_DEVICES\u001b[39m\u001b[38;5;124m\"\u001b[39m] \u001b[38;5;241m=\u001b[39m \u001b[38;5;124m\"\u001b[39m\u001b[38;5;124m1\u001b[39m\u001b[38;5;124m\"\u001b[39m\n\u001b[0;32m---> 10\u001b[0m \u001b[38;5;28;01mfrom\u001b[39;00m \u001b[38;5;21;01mlm_eval\u001b[39;00m\u001b[38;5;21;01m.\u001b[39;00m\u001b[38;5;21;01mmodels\u001b[39;00m\u001b[38;5;21;01m.\u001b[39;00m\u001b[38;5;21;01mhuggingface\u001b[39;00m \u001b[38;5;28;01mimport\u001b[39;00m HFLM\n\u001b[1;32m     11\u001b[0m \u001b[38;5;28;01mfrom\u001b[39;00m \u001b[38;5;21;01mlm_eval\u001b[39;00m \u001b[38;5;28;01mimport\u001b[39;00m evaluator\n\u001b[1;32m     14\u001b[0m \u001b[38;5;28;01mdef\u001b[39;00m \u001b[38;5;21m_load_model\u001b[39m(model_name \u001b[38;5;241m=\u001b[39m \u001b[38;5;124m\"\u001b[39m\u001b[38;5;124mLlama3-8b\u001b[39m\u001b[38;5;124m\"\u001b[39m):\n",
      "File \u001b[0;32m~/workspace/llama2-7b/lm-evaluation-harness/lm_eval/__init__.py:1\u001b[0m\n\u001b[0;32m----> 1\u001b[0m \u001b[38;5;28;01mfrom\u001b[39;00m \u001b[38;5;21;01m.\u001b[39;00m\u001b[38;5;21;01mevaluator\u001b[39;00m \u001b[38;5;28;01mimport\u001b[39;00m evaluate, simple_evaluate\n",
      "File \u001b[0;32m~/workspace/llama2-7b/lm-evaluation-harness/lm_eval/evaluator.py:14\u001b[0m\n\u001b[1;32m     12\u001b[0m \u001b[38;5;28;01mimport\u001b[39;00m \u001b[38;5;21;01mlm_eval\u001b[39;00m\u001b[38;5;21;01m.\u001b[39;00m\u001b[38;5;21;01mapi\u001b[39;00m\u001b[38;5;21;01m.\u001b[39;00m\u001b[38;5;21;01mmetrics\u001b[39;00m\n\u001b[1;32m     13\u001b[0m \u001b[38;5;28;01mimport\u001b[39;00m \u001b[38;5;21;01mlm_eval\u001b[39;00m\u001b[38;5;21;01m.\u001b[39;00m\u001b[38;5;21;01mapi\u001b[39;00m\u001b[38;5;21;01m.\u001b[39;00m\u001b[38;5;21;01mregistry\u001b[39;00m\n\u001b[0;32m---> 14\u001b[0m \u001b[38;5;28;01mimport\u001b[39;00m \u001b[38;5;21;01mlm_eval\u001b[39;00m\u001b[38;5;21;01m.\u001b[39;00m\u001b[38;5;21;01mmodels\u001b[39;00m\n\u001b[1;32m     15\u001b[0m \u001b[38;5;28;01mfrom\u001b[39;00m \u001b[38;5;21;01mlm_eval\u001b[39;00m\u001b[38;5;21;01m.\u001b[39;00m\u001b[38;5;21;01mcaching\u001b[39;00m\u001b[38;5;21;01m.\u001b[39;00m\u001b[38;5;21;01mcache\u001b[39;00m \u001b[38;5;28;01mimport\u001b[39;00m delete_cache\n\u001b[1;32m     16\u001b[0m \u001b[38;5;28;01mfrom\u001b[39;00m \u001b[38;5;21;01mlm_eval\u001b[39;00m\u001b[38;5;21;01m.\u001b[39;00m\u001b[38;5;21;01mevaluator_utils\u001b[39;00m \u001b[38;5;28;01mimport\u001b[39;00m (\n\u001b[1;32m     17\u001b[0m     consolidate_results,\n\u001b[1;32m     18\u001b[0m     get_sample_size,\n\u001b[0;32m   (...)\u001b[0m\n\u001b[1;32m     22\u001b[0m     run_task_tests,\n\u001b[1;32m     23\u001b[0m )\n",
      "File \u001b[0;32m~/workspace/llama2-7b/lm-evaluation-harness/lm_eval/models/__init__.py:1\u001b[0m\n\u001b[0;32m----> 1\u001b[0m \u001b[38;5;28;01mfrom\u001b[39;00m \u001b[38;5;21;01m.\u001b[39;00m \u001b[38;5;28;01mimport\u001b[39;00m (\n\u001b[1;32m      2\u001b[0m     anthropic_llms,\n\u001b[1;32m      3\u001b[0m     dummy,\n\u001b[1;32m      4\u001b[0m     gguf,\n\u001b[1;32m      5\u001b[0m     huggingface,\n\u001b[1;32m      6\u001b[0m     mamba_lm,\n\u001b[1;32m      7\u001b[0m     nemo_lm,\n\u001b[1;32m      8\u001b[0m     neuralmagic,\n\u001b[1;32m      9\u001b[0m     neuron_optimum,\n\u001b[1;32m     10\u001b[0m     openai_completions,\n\u001b[1;32m     11\u001b[0m     optimum_lm,\n\u001b[1;32m     12\u001b[0m     textsynth,\n\u001b[1;32m     13\u001b[0m     vllm_causallms,\n\u001b[1;32m     14\u001b[0m )\n\u001b[1;32m     17\u001b[0m \u001b[38;5;66;03m# TODO: implement __all__\u001b[39;00m\n\u001b[1;32m     20\u001b[0m \u001b[38;5;28;01mtry\u001b[39;00m:\n\u001b[1;32m     21\u001b[0m     \u001b[38;5;66;03m# enable hf hub transfer if available\u001b[39;00m\n",
      "File \u001b[0;32m~/workspace/llama2-7b/lm-evaluation-harness/lm_eval/models/huggingface.py:18\u001b[0m\n\u001b[1;32m     16\u001b[0m \u001b[38;5;28;01mfrom\u001b[39;00m \u001b[38;5;21;01mhuggingface_hub\u001b[39;00m \u001b[38;5;28;01mimport\u001b[39;00m HfApi\n\u001b[1;32m     17\u001b[0m \u001b[38;5;28;01mfrom\u001b[39;00m \u001b[38;5;21;01mpackaging\u001b[39;00m \u001b[38;5;28;01mimport\u001b[39;00m version\n\u001b[0;32m---> 18\u001b[0m \u001b[38;5;28;01mfrom\u001b[39;00m \u001b[38;5;21;01mpeft\u001b[39;00m \u001b[38;5;28;01mimport\u001b[39;00m PeftModel\n\u001b[1;32m     19\u001b[0m \u001b[38;5;28;01mfrom\u001b[39;00m \u001b[38;5;21;01mpeft\u001b[39;00m \u001b[38;5;28;01mimport\u001b[39;00m __version__ \u001b[38;5;28;01mas\u001b[39;00m PEFT_VERSION\n\u001b[1;32m     20\u001b[0m \u001b[38;5;28;01mfrom\u001b[39;00m \u001b[38;5;21;01mtqdm\u001b[39;00m \u001b[38;5;28;01mimport\u001b[39;00m tqdm\n",
      "File \u001b[0;32m~/anaconda3/envs/moe/lib/python3.10/site-packages/peft/__init__.py:22\u001b[0m\n\u001b[1;32m      1\u001b[0m \u001b[38;5;66;03m# flake8: noqa\u001b[39;00m\n\u001b[1;32m      2\u001b[0m \u001b[38;5;66;03m# There's no way to ignore \"F401 '...' imported but unused\" warnings in this\u001b[39;00m\n\u001b[1;32m      3\u001b[0m \u001b[38;5;66;03m# module, but to preserve other warnings. So, don't check this module at all.\u001b[39;00m\n\u001b[0;32m   (...)\u001b[0m\n\u001b[1;32m     17\u001b[0m \u001b[38;5;66;03m# See the License for the specific language governing permissions and\u001b[39;00m\n\u001b[1;32m     18\u001b[0m \u001b[38;5;66;03m# limitations under the License.\u001b[39;00m\n\u001b[1;32m     20\u001b[0m __version__ \u001b[38;5;241m=\u001b[39m \u001b[38;5;124m\"\u001b[39m\u001b[38;5;124m0.11.1\u001b[39m\u001b[38;5;124m\"\u001b[39m\n\u001b[0;32m---> 22\u001b[0m \u001b[38;5;28;01mfrom\u001b[39;00m \u001b[38;5;21;01m.\u001b[39;00m\u001b[38;5;21;01mauto\u001b[39;00m \u001b[38;5;28;01mimport\u001b[39;00m (\n\u001b[1;32m     23\u001b[0m     AutoPeftModel,\n\u001b[1;32m     24\u001b[0m     AutoPeftModelForCausalLM,\n\u001b[1;32m     25\u001b[0m     AutoPeftModelForSequenceClassification,\n\u001b[1;32m     26\u001b[0m     AutoPeftModelForSeq2SeqLM,\n\u001b[1;32m     27\u001b[0m     AutoPeftModelForTokenClassification,\n\u001b[1;32m     28\u001b[0m     AutoPeftModelForQuestionAnswering,\n\u001b[1;32m     29\u001b[0m     AutoPeftModelForFeatureExtraction,\n\u001b[1;32m     30\u001b[0m )\n\u001b[1;32m     31\u001b[0m \u001b[38;5;28;01mfrom\u001b[39;00m \u001b[38;5;21;01m.\u001b[39;00m\u001b[38;5;21;01mmapping\u001b[39;00m \u001b[38;5;28;01mimport\u001b[39;00m (\n\u001b[1;32m     32\u001b[0m     MODEL_TYPE_TO_PEFT_MODEL_MAPPING,\n\u001b[1;32m     33\u001b[0m     PEFT_TYPE_TO_CONFIG_MAPPING,\n\u001b[0;32m   (...)\u001b[0m\n\u001b[1;32m     36\u001b[0m     inject_adapter_in_model,\n\u001b[1;32m     37\u001b[0m )\n\u001b[1;32m     38\u001b[0m \u001b[38;5;28;01mfrom\u001b[39;00m \u001b[38;5;21;01m.\u001b[39;00m\u001b[38;5;21;01mmixed_model\u001b[39;00m \u001b[38;5;28;01mimport\u001b[39;00m PeftMixedModel\n",
      "File \u001b[0;32m~/anaconda3/envs/moe/lib/python3.10/site-packages/peft/auto.py:32\u001b[0m\n\u001b[1;32m     21\u001b[0m \u001b[38;5;28;01mfrom\u001b[39;00m \u001b[38;5;21;01mtransformers\u001b[39;00m \u001b[38;5;28;01mimport\u001b[39;00m (\n\u001b[1;32m     22\u001b[0m     AutoModel,\n\u001b[1;32m     23\u001b[0m     AutoModelForCausalLM,\n\u001b[0;32m   (...)\u001b[0m\n\u001b[1;32m     28\u001b[0m     AutoTokenizer,\n\u001b[1;32m     29\u001b[0m )\n\u001b[1;32m     31\u001b[0m \u001b[38;5;28;01mfrom\u001b[39;00m \u001b[38;5;21;01m.\u001b[39;00m\u001b[38;5;21;01mconfig\u001b[39;00m \u001b[38;5;28;01mimport\u001b[39;00m PeftConfig\n\u001b[0;32m---> 32\u001b[0m \u001b[38;5;28;01mfrom\u001b[39;00m \u001b[38;5;21;01m.\u001b[39;00m\u001b[38;5;21;01mmapping\u001b[39;00m \u001b[38;5;28;01mimport\u001b[39;00m MODEL_TYPE_TO_PEFT_MODEL_MAPPING\n\u001b[1;32m     33\u001b[0m \u001b[38;5;28;01mfrom\u001b[39;00m \u001b[38;5;21;01m.\u001b[39;00m\u001b[38;5;21;01mpeft_model\u001b[39;00m \u001b[38;5;28;01mimport\u001b[39;00m (\n\u001b[1;32m     34\u001b[0m     PeftModel,\n\u001b[1;32m     35\u001b[0m     PeftModelForCausalLM,\n\u001b[0;32m   (...)\u001b[0m\n\u001b[1;32m     40\u001b[0m     PeftModelForTokenClassification,\n\u001b[1;32m     41\u001b[0m )\n\u001b[1;32m     42\u001b[0m \u001b[38;5;28;01mfrom\u001b[39;00m \u001b[38;5;21;01m.\u001b[39;00m\u001b[38;5;21;01mutils\u001b[39;00m\u001b[38;5;21;01m.\u001b[39;00m\u001b[38;5;21;01mconstants\u001b[39;00m \u001b[38;5;28;01mimport\u001b[39;00m TOKENIZER_CONFIG_NAME\n",
      "File \u001b[0;32m~/anaconda3/envs/moe/lib/python3.10/site-packages/peft/mapping.py:22\u001b[0m\n\u001b[1;32m     19\u001b[0m \u001b[38;5;28;01mimport\u001b[39;00m \u001b[38;5;21;01mtorch\u001b[39;00m\n\u001b[1;32m     21\u001b[0m \u001b[38;5;28;01mfrom\u001b[39;00m \u001b[38;5;21;01m.\u001b[39;00m\u001b[38;5;21;01mconfig\u001b[39;00m \u001b[38;5;28;01mimport\u001b[39;00m PeftConfig\n\u001b[0;32m---> 22\u001b[0m \u001b[38;5;28;01mfrom\u001b[39;00m \u001b[38;5;21;01m.\u001b[39;00m\u001b[38;5;21;01mmixed_model\u001b[39;00m \u001b[38;5;28;01mimport\u001b[39;00m PeftMixedModel\n\u001b[1;32m     23\u001b[0m \u001b[38;5;28;01mfrom\u001b[39;00m \u001b[38;5;21;01m.\u001b[39;00m\u001b[38;5;21;01mpeft_model\u001b[39;00m \u001b[38;5;28;01mimport\u001b[39;00m (\n\u001b[1;32m     24\u001b[0m     PeftModel,\n\u001b[1;32m     25\u001b[0m     PeftModelForCausalLM,\n\u001b[0;32m   (...)\u001b[0m\n\u001b[1;32m     30\u001b[0m     PeftModelForTokenClassification,\n\u001b[1;32m     31\u001b[0m )\n\u001b[1;32m     32\u001b[0m \u001b[38;5;28;01mfrom\u001b[39;00m \u001b[38;5;21;01m.\u001b[39;00m\u001b[38;5;21;01mtuners\u001b[39;00m \u001b[38;5;28;01mimport\u001b[39;00m (\n\u001b[1;32m     33\u001b[0m     AdaLoraConfig,\n\u001b[1;32m     34\u001b[0m     AdaLoraModel,\n\u001b[0;32m   (...)\u001b[0m\n\u001b[1;32m     57\u001b[0m     VeraModel,\n\u001b[1;32m     58\u001b[0m )\n",
      "File \u001b[0;32m~/anaconda3/envs/moe/lib/python3.10/site-packages/peft/mixed_model.py:26\u001b[0m\n\u001b[1;32m     23\u001b[0m \u001b[38;5;28;01mfrom\u001b[39;00m \u001b[38;5;21;01mtorch\u001b[39;00m \u001b[38;5;28;01mimport\u001b[39;00m nn\n\u001b[1;32m     24\u001b[0m \u001b[38;5;28;01mfrom\u001b[39;00m \u001b[38;5;21;01mtransformers\u001b[39;00m\u001b[38;5;21;01m.\u001b[39;00m\u001b[38;5;21;01mutils\u001b[39;00m \u001b[38;5;28;01mimport\u001b[39;00m PushToHubMixin\n\u001b[0;32m---> 26\u001b[0m \u001b[38;5;28;01mfrom\u001b[39;00m \u001b[38;5;21;01mpeft\u001b[39;00m\u001b[38;5;21;01m.\u001b[39;00m\u001b[38;5;21;01mtuners\u001b[39;00m\u001b[38;5;21;01m.\u001b[39;00m\u001b[38;5;21;01mmixed\u001b[39;00m \u001b[38;5;28;01mimport\u001b[39;00m COMPATIBLE_TUNER_TYPES\n\u001b[1;32m     28\u001b[0m \u001b[38;5;28;01mfrom\u001b[39;00m \u001b[38;5;21;01m.\u001b[39;00m\u001b[38;5;21;01mconfig\u001b[39;00m \u001b[38;5;28;01mimport\u001b[39;00m PeftConfig\n\u001b[1;32m     29\u001b[0m \u001b[38;5;28;01mfrom\u001b[39;00m \u001b[38;5;21;01m.\u001b[39;00m\u001b[38;5;21;01mpeft_model\u001b[39;00m \u001b[38;5;28;01mimport\u001b[39;00m PeftModel\n",
      "File \u001b[0;32m~/anaconda3/envs/moe/lib/python3.10/site-packages/peft/tuners/__init__.py:26\u001b[0m\n\u001b[1;32m     24\u001b[0m \u001b[38;5;28;01mfrom\u001b[39;00m \u001b[38;5;21;01m.\u001b[39;00m\u001b[38;5;21;01mia3\u001b[39;00m \u001b[38;5;28;01mimport\u001b[39;00m IA3Config, IA3Model\n\u001b[1;32m     25\u001b[0m \u001b[38;5;28;01mfrom\u001b[39;00m \u001b[38;5;21;01m.\u001b[39;00m\u001b[38;5;21;01madalora\u001b[39;00m \u001b[38;5;28;01mimport\u001b[39;00m AdaLoraConfig, AdaLoraModel\n\u001b[0;32m---> 26\u001b[0m \u001b[38;5;28;01mfrom\u001b[39;00m \u001b[38;5;21;01m.\u001b[39;00m\u001b[38;5;21;01mboft\u001b[39;00m \u001b[38;5;28;01mimport\u001b[39;00m BOFTConfig, BOFTModel\n\u001b[1;32m     27\u001b[0m \u001b[38;5;28;01mfrom\u001b[39;00m \u001b[38;5;21;01m.\u001b[39;00m\u001b[38;5;21;01mp_tuning\u001b[39;00m \u001b[38;5;28;01mimport\u001b[39;00m PromptEncoder, PromptEncoderConfig, PromptEncoderReparameterizationType\n\u001b[1;32m     28\u001b[0m \u001b[38;5;28;01mfrom\u001b[39;00m \u001b[38;5;21;01m.\u001b[39;00m\u001b[38;5;21;01mprefix_tuning\u001b[39;00m \u001b[38;5;28;01mimport\u001b[39;00m PrefixEncoder, PrefixTuningConfig\n",
      "File \u001b[0;32m~/anaconda3/envs/moe/lib/python3.10/site-packages/peft/tuners/boft/__init__.py:16\u001b[0m\n\u001b[1;32m      1\u001b[0m \u001b[38;5;66;03m# Copyright 2023-present the HuggingFace Inc. team.\u001b[39;00m\n\u001b[1;32m      2\u001b[0m \u001b[38;5;66;03m#\u001b[39;00m\n\u001b[1;32m      3\u001b[0m \u001b[38;5;66;03m# Licensed under the Apache License, Version 2.0 (the \"License\");\u001b[39;00m\n\u001b[0;32m   (...)\u001b[0m\n\u001b[1;32m     12\u001b[0m \u001b[38;5;66;03m# See the License for the specific language governing permissions and\u001b[39;00m\n\u001b[1;32m     13\u001b[0m \u001b[38;5;66;03m# limitations under the License.\u001b[39;00m\n\u001b[1;32m     15\u001b[0m \u001b[38;5;28;01mfrom\u001b[39;00m \u001b[38;5;21;01m.\u001b[39;00m\u001b[38;5;21;01mconfig\u001b[39;00m \u001b[38;5;28;01mimport\u001b[39;00m BOFTConfig\n\u001b[0;32m---> 16\u001b[0m \u001b[38;5;28;01mfrom\u001b[39;00m \u001b[38;5;21;01m.\u001b[39;00m\u001b[38;5;21;01mlayer\u001b[39;00m \u001b[38;5;28;01mimport\u001b[39;00m BOFTLayer\n\u001b[1;32m     17\u001b[0m \u001b[38;5;28;01mfrom\u001b[39;00m \u001b[38;5;21;01m.\u001b[39;00m\u001b[38;5;21;01mmodel\u001b[39;00m \u001b[38;5;28;01mimport\u001b[39;00m BOFTModel\n\u001b[1;32m     20\u001b[0m __all__ \u001b[38;5;241m=\u001b[39m [\u001b[38;5;124m\"\u001b[39m\u001b[38;5;124mBOFTConfig\u001b[39m\u001b[38;5;124m\"\u001b[39m, \u001b[38;5;124m\"\u001b[39m\u001b[38;5;124mBOFTLayer\u001b[39m\u001b[38;5;124m\"\u001b[39m, \u001b[38;5;124m\"\u001b[39m\u001b[38;5;124mBOFTModel\u001b[39m\u001b[38;5;124m\"\u001b[39m]\n",
      "File \u001b[0;32m~/anaconda3/envs/moe/lib/python3.10/site-packages/peft/tuners/boft/layer.py:30\u001b[0m\n\u001b[1;32m     28\u001b[0m \u001b[38;5;28;01mimport\u001b[39;00m \u001b[38;5;21;01mtorch\u001b[39;00m\u001b[38;5;21;01m.\u001b[39;00m\u001b[38;5;21;01mnn\u001b[39;00m\u001b[38;5;21;01m.\u001b[39;00m\u001b[38;5;21;01mfunctional\u001b[39;00m \u001b[38;5;28;01mas\u001b[39;00m \u001b[38;5;21;01mF\u001b[39;00m\n\u001b[1;32m     29\u001b[0m \u001b[38;5;28;01mfrom\u001b[39;00m \u001b[38;5;21;01mtorch\u001b[39;00m\u001b[38;5;21;01m.\u001b[39;00m\u001b[38;5;21;01mautograd\u001b[39;00m \u001b[38;5;28;01mimport\u001b[39;00m Function\n\u001b[0;32m---> 30\u001b[0m \u001b[38;5;28;01mfrom\u001b[39;00m \u001b[38;5;21;01mtorch\u001b[39;00m\u001b[38;5;21;01m.\u001b[39;00m\u001b[38;5;21;01mutils\u001b[39;00m\u001b[38;5;21;01m.\u001b[39;00m\u001b[38;5;21;01mcpp_extension\u001b[39;00m \u001b[38;5;28;01mimport\u001b[39;00m load\n\u001b[1;32m     32\u001b[0m \u001b[38;5;28;01mfrom\u001b[39;00m \u001b[38;5;21;01mpeft\u001b[39;00m\u001b[38;5;21;01m.\u001b[39;00m\u001b[38;5;21;01mtuners\u001b[39;00m\u001b[38;5;21;01m.\u001b[39;00m\u001b[38;5;21;01mtuners_utils\u001b[39;00m \u001b[38;5;28;01mimport\u001b[39;00m BaseTunerLayer, check_adapters_to_merge\n\u001b[1;32m     35\u001b[0m _FBD_CUDA \u001b[38;5;241m=\u001b[39m \u001b[38;5;28;01mNone\u001b[39;00m\n",
      "File \u001b[0;32m~/anaconda3/envs/moe/lib/python3.10/site-packages/torch/utils/cpp_extension.py:210\u001b[0m\n\u001b[1;32m    207\u001b[0m \u001b[38;5;28;01mif\u001b[39;00m torch\u001b[38;5;241m.\u001b[39mversion\u001b[38;5;241m.\u001b[39mhip \u001b[38;5;129;01mis\u001b[39;00m \u001b[38;5;129;01mnot\u001b[39;00m \u001b[38;5;28;01mNone\u001b[39;00m:\n\u001b[1;32m    208\u001b[0m     ROCM_VERSION \u001b[38;5;241m=\u001b[39m \u001b[38;5;28mtuple\u001b[39m(\u001b[38;5;28mint\u001b[39m(v) \u001b[38;5;28;01mfor\u001b[39;00m v \u001b[38;5;129;01min\u001b[39;00m torch\u001b[38;5;241m.\u001b[39mversion\u001b[38;5;241m.\u001b[39mhip\u001b[38;5;241m.\u001b[39msplit(\u001b[38;5;124m'\u001b[39m\u001b[38;5;124m.\u001b[39m\u001b[38;5;124m'\u001b[39m)[:\u001b[38;5;241m2\u001b[39m])\n\u001b[0;32m--> 210\u001b[0m CUDA_HOME \u001b[38;5;241m=\u001b[39m \u001b[43m_find_cuda_home\u001b[49m\u001b[43m(\u001b[49m\u001b[43m)\u001b[49m \u001b[38;5;28;01mif\u001b[39;00m torch\u001b[38;5;241m.\u001b[39mcuda\u001b[38;5;241m.\u001b[39m_is_compiled() \u001b[38;5;28;01melse\u001b[39;00m \u001b[38;5;28;01mNone\u001b[39;00m\n\u001b[1;32m    211\u001b[0m CUDNN_HOME \u001b[38;5;241m=\u001b[39m os\u001b[38;5;241m.\u001b[39menviron\u001b[38;5;241m.\u001b[39mget(\u001b[38;5;124m'\u001b[39m\u001b[38;5;124mCUDNN_HOME\u001b[39m\u001b[38;5;124m'\u001b[39m) \u001b[38;5;129;01mor\u001b[39;00m os\u001b[38;5;241m.\u001b[39menviron\u001b[38;5;241m.\u001b[39mget(\u001b[38;5;124m'\u001b[39m\u001b[38;5;124mCUDNN_PATH\u001b[39m\u001b[38;5;124m'\u001b[39m)\n\u001b[1;32m    212\u001b[0m \u001b[38;5;66;03m# PyTorch releases have the version pattern major.minor.patch, whereas when\u001b[39;00m\n\u001b[1;32m    213\u001b[0m \u001b[38;5;66;03m# PyTorch is built from source, we append the git commit hash, which gives\u001b[39;00m\n\u001b[1;32m    214\u001b[0m \u001b[38;5;66;03m# it the below pattern.\u001b[39;00m\n",
      "File \u001b[0;32m~/anaconda3/envs/moe/lib/python3.10/site-packages/torch/utils/cpp_extension.py:117\u001b[0m, in \u001b[0;36m_find_cuda_home\u001b[0;34m()\u001b[0m\n\u001b[1;32m    115\u001b[0m         \u001b[38;5;28;01mif\u001b[39;00m \u001b[38;5;129;01mnot\u001b[39;00m os\u001b[38;5;241m.\u001b[39mpath\u001b[38;5;241m.\u001b[39mexists(cuda_home):\n\u001b[1;32m    116\u001b[0m             cuda_home \u001b[38;5;241m=\u001b[39m \u001b[38;5;28;01mNone\u001b[39;00m\n\u001b[0;32m--> 117\u001b[0m \u001b[38;5;28;01mif\u001b[39;00m cuda_home \u001b[38;5;129;01mand\u001b[39;00m \u001b[38;5;129;01mnot\u001b[39;00m \u001b[43mtorch\u001b[49m\u001b[38;5;241;43m.\u001b[39;49m\u001b[43mcuda\u001b[49m\u001b[38;5;241;43m.\u001b[39;49m\u001b[43mis_available\u001b[49m\u001b[43m(\u001b[49m\u001b[43m)\u001b[49m:\n\u001b[1;32m    118\u001b[0m     \u001b[38;5;28mprint\u001b[39m(\u001b[38;5;124mf\u001b[39m\u001b[38;5;124m\"\u001b[39m\u001b[38;5;124mNo CUDA runtime is found, using CUDA_HOME=\u001b[39m\u001b[38;5;124m'\u001b[39m\u001b[38;5;132;01m{\u001b[39;00mcuda_home\u001b[38;5;132;01m}\u001b[39;00m\u001b[38;5;124m'\u001b[39m\u001b[38;5;124m\"\u001b[39m,\n\u001b[1;32m    119\u001b[0m           file\u001b[38;5;241m=\u001b[39msys\u001b[38;5;241m.\u001b[39mstderr)\n\u001b[1;32m    120\u001b[0m \u001b[38;5;28;01mreturn\u001b[39;00m cuda_home\n",
      "File \u001b[0;32m~/anaconda3/envs/moe/lib/python3.10/site-packages/torch/cuda/__init__.py:118\u001b[0m, in \u001b[0;36mis_available\u001b[0;34m()\u001b[0m\n\u001b[1;32m    113\u001b[0m     \u001b[38;5;28;01mreturn\u001b[39;00m device_count() \u001b[38;5;241m>\u001b[39m \u001b[38;5;241m0\u001b[39m\n\u001b[1;32m    114\u001b[0m \u001b[38;5;28;01melse\u001b[39;00m:\n\u001b[1;32m    115\u001b[0m     \u001b[38;5;66;03m# The default availability inspection never throws and returns 0 if the driver is missing or can't\u001b[39;00m\n\u001b[1;32m    116\u001b[0m     \u001b[38;5;66;03m# be initialized. This uses the CUDA Runtime API `cudaGetDeviceCount` which in turn initializes the CUDA Driver\u001b[39;00m\n\u001b[1;32m    117\u001b[0m     \u001b[38;5;66;03m# API via `cuInit`\u001b[39;00m\n\u001b[0;32m--> 118\u001b[0m     \u001b[38;5;28;01mreturn\u001b[39;00m \u001b[43mtorch\u001b[49m\u001b[38;5;241;43m.\u001b[39;49m\u001b[43m_C\u001b[49m\u001b[38;5;241;43m.\u001b[39;49m\u001b[43m_cuda_getDeviceCount\u001b[49m\u001b[43m(\u001b[49m\u001b[43m)\u001b[49m \u001b[38;5;241m>\u001b[39m \u001b[38;5;241m0\u001b[39m\n",
      "\u001b[0;31mKeyboardInterrupt\u001b[0m: "
     ]
    }
   ],
   "source": [
    "# Test Model\n",
    "import os\n",
    "import json\n",
    "import torch\n",
    "from transformers import LlamaForCausalLM, AutoTokenizer\n",
    "from convert_llama import convert_llama_model\n",
    "os.environ[\"HF_ENDPOINT\"]=\"https://hf-mirror.com\"\n",
    "os.environ[\"CUDA_VISIBLE_DEVICES\"] = \"1\"\n",
    "\n",
    "from lm_eval.models.huggingface import HFLM\n",
    "from lm_eval import evaluator\n",
    "\n",
    "\n",
    "def _load_model(model_name = \"Llama3-8b\"):\n",
    "    print(f\"Loading model {model_name}\")\n",
    "    ### from path.json read paths of model and dataset\n",
    "    with open('path.json', 'r') as file:\n",
    "        paths = json.load(file)\n",
    "        model_path = paths.get(model_name, '')\n",
    "\n",
    "    model = LlamaForCausalLM.from_pretrained(\n",
    "        model_path,\n",
    "        device_map='auto',\n",
    "        use_cache=True,\n",
    "        torch_dtype=torch.float16,\n",
    "    )\n",
    "    tokenizer = AutoTokenizer.from_pretrained(model_path)\n",
    "    tokenizer.pad_token = tokenizer.eos_token\n",
    "    tokenizer.padding_side = \"left\"\n",
    "    return model, tokenizer\n",
    "\n",
    "def evaluate(task_name, model, tokenizer, num_fewshot, device):\n",
    "    hflm = HFLM(pretrained=model, tokenizer=tokenizer)\n",
    "    results = evaluator.simple_evaluate(\n",
    "    model=hflm,\n",
    "    tasks=[task_name],\n",
    "    num_fewshot=num_fewshot)\n",
    "    print(results['results'])\n",
    "\n",
    "\n",
    "def main(task_name, model_name, sparsity, start_num, end_num, token_sparsity, memory_limit, device, num_fewshot,):\n",
    "    model, tokenizer = _load_model(model_name)\n",
    "    \n",
    "    model = convert_llama_model(model, sparsity, start_num, end_num, token_sparsity,)\n",
    "\n",
    "    evaluate(task_name, model, tokenizer, num_fewshot, device)\n",
    "\n",
    "main(task_name='boolq', model_name=\"Llama3-8b\", sparsity=0.1, start_num=21, end_num=32, token_sparsity=0.1, memory_limit=0.1, device='cuda', num_fewshot=1)"
   ]
  }
 ],
 "metadata": {
  "kernelspec": {
   "display_name": "llama_factory",
   "language": "python",
   "name": "python3"
  },
  "language_info": {
   "codemirror_mode": {
    "name": "ipython",
    "version": 3
   },
   "file_extension": ".py",
   "mimetype": "text/x-python",
   "name": "python",
   "nbconvert_exporter": "python",
   "pygments_lexer": "ipython3",
   "version": "3.10.14"
  }
 },
 "nbformat": 4,
 "nbformat_minor": 2
}
